{
  "nbformat": 4,
  "nbformat_minor": 0,
  "metadata": {
    "colab": {
      "name": "Assignment_7.ipynb",
      "provenance": [],
      "collapsed_sections": [],
      "authorship_tag": "ABX9TyPU0Job9GLtwkztDkjUpmQi",
      "include_colab_link": true
    },
    "kernelspec": {
      "name": "python3",
      "display_name": "Python 3"
    },
    "language_info": {
      "name": "python"
    }
  },
  "cells": [
    {
      "cell_type": "markdown",
      "metadata": {
        "id": "view-in-github",
        "colab_type": "text"
      },
      "source": [
        "<a href=\"https://colab.research.google.com/github/shivam-cse/CS-306-Machine-Learning-Work/blob/main/Lab7_new/Assignment_7.ipynb\" target=\"_parent\"><img src=\"https://colab.research.google.com/assets/colab-badge.svg\" alt=\"Open In Colab\"/></a>"
      ]
    },
    {
      "cell_type": "code",
      "metadata": {
        "id": "DRBpAX2NjBOG"
      },
      "source": [
        "from sklearn.metrics import confusion_matrix, precision_score, recall_score, accuracy_score, classification_report\n",
        "import matplotlib.pyplot as plt\n",
        "import seaborn as sns\n",
        "import random\n",
        "from matplotlib import pyplot as plt\n",
        "from sklearn.utils import shuffle\n",
        "import numpy as np\n",
        "import pandas as pd\n",
        "import warnings"
      ],
      "execution_count": null,
      "outputs": []
    },
    {
      "cell_type": "markdown",
      "metadata": {
        "id": "HUOHO7MvjM85"
      },
      "source": [
        "##**Implement the perceptron algorithm for OR logic gate with 2-bit binary input.Finally report the overall accuracy on training samples**"
      ]
    },
    {
      "cell_type": "code",
      "metadata": {
        "id": "RcRUp8MLlGWq"
      },
      "source": [
        "\n",
        "def threshold(z):\n",
        "    # Activation function\n",
        "    y = np.ones(z.shape[0])\n",
        "    for i in range(z.shape[0]):\n",
        "      if(z[i] >= 0):\n",
        "        y[i] = 1\n",
        "      else:\n",
        "        y[i] = 0\n",
        "    return y\n",
        "\n",
        "def sigmoid(z):\n",
        "    # Activation function used to map any real value between 0 and 1\n",
        "    return 1 / (1 + np.exp(-z))\n",
        "\n",
        "\n",
        "def predict_threshold(weights, X):\n",
        "  linear_model = np.dot(X, weights)\n",
        "  y_predicted_cls = threshold(linear_model)\n",
        "  return np.array(y_predicted_cls)\n",
        "\n",
        " \n",
        "def model_analysis(x_test, y_test, weight):\n",
        "  x_test = add_intercept(x_test)\n",
        "  y_pred = np.ones(y_test.shape[0])\n",
        "  hypothesis = np.dot(x_test, weight.T)\n",
        "  for i in range(0, hypothesis.shape[0]):\n",
        "    if (hypothesis[i] < 0):\n",
        "      y_pred[i] = 0\n",
        "    if (hypothesis[i]>=0):\n",
        "      y_pred[i] = 1\n",
        "  test_acc = accuracy_score(y_test, y_pred)*100\n",
        "  precision = precision_score(y_test, y_pred)*100\n",
        "  recall = recall_score(y_test, y_pred)*100\n",
        "  # f1 = f1_score(y_test, y_pred)*100\n",
        "  print(\"Training Accuracy: \", test_acc)\n",
        "  print(\"Prescission Score:\", precision)\n",
        "  print(\"Recall Score : \", recall) \n",
        "  # print('F1 Score : ', f1)\n",
        "  print('Confusion Matrix : \\n' + str(confusion_matrix(y_test, y_pred)))\n",
        "  print(\"Classification Report for 3-classes: \")\n",
        "  print(classification_report(y_test, y_pred))\n",
        "  return test_acc\n",
        "\n",
        "def accuracy(y_true, y_pred):\n",
        "    accuracy = np.sum(y_true == y_pred)\n",
        "    accuracy = accuracy/len(y_true)\n",
        "    return accuracy   \n",
        "\n",
        "\n",
        "def add_intercept(x):\n",
        "  intercept = np.ones((x.shape[0], 1))\n",
        "  return np.concatenate((intercept, x), axis=1)\n",
        "\n",
        "def perceptron(X, y_true):\n",
        "    X = add_intercept(X)\n",
        "    number_of_features = X.shape[1]\n",
        "    # numpy array with 1 row and columns equal to number of features. In \n",
        "    # our case number_of_features = 3 (area, bedroom and age)\n",
        "    # weights = np.ones(shape=(number_of_features)) \n",
        "    weights = np.array([0.1, 0.1, 0.1])\n",
        "    total_samples = X.shape[0]\n",
        "    converged  = True\n",
        "    x_train, y_train = shuffle(X, y_true)  # shuffel the training sample\n",
        "    idx = random.randint(0, x_train.shape[0]-1)\n",
        "    epoch = 1\n",
        "    used_index = []\n",
        "    while converged:\n",
        "        print(\"epoch: \", epoch)\n",
        "        y_predicted = np.dot(x_train[idx], weights)\n",
        "        # print(\"pred = \", y_predicted)\n",
        "\n",
        "        if(y_train[idx] == 1 and y_predicted < 0):\n",
        "          weights = weights + x_train[idx]\n",
        "\n",
        "        if(y_train[idx] == 0 and y_predicted >= 0):\n",
        "          weights = weights - x_train[idx]\n",
        "\n",
        "        idx = random.randint(0, x_train.shape[0]-1)     # pick the random sample\n",
        "        used_index.append(idx)\n",
        "\n",
        "        if (len(set(used_index)) == x_train.shape[0]):\n",
        "          # now check what is the accuracy now\n",
        "          y_pred = predict_threshold(weights, x_train)\n",
        "          # score = accuracy(y_true, y_pred)\n",
        "          score = accuracy_score(y_train, y_pred)\n",
        "          # score = predict(x_train, y_train, weights)\n",
        "          if (score*100==100):\n",
        "              print(\"Succefully Converged:\")\n",
        "              converged = False\n",
        "        epoch = epoch + 1\n",
        "    return weights\n",
        "\n"
      ],
      "execution_count": null,
      "outputs": []
    },
    {
      "cell_type": "code",
      "metadata": {
        "id": "CROyE2cal3gk",
        "colab": {
          "base_uri": "https://localhost:8080/"
        },
        "outputId": "3446783f-d5df-4f63-e509-fe4570ca3ad7"
      },
      "source": [
        "x_train = np.array([[0, 1], [1, 1], [0, 0], [1, 0]])\n",
        "y_train = np.array([1, 1, 0, 1])\n",
        "weight  = perceptron(x_train, y_train)\n",
        "print(weight)\n",
        "acu = model_analysis(x_train, y_train, weight)"
      ],
      "execution_count": null,
      "outputs": [
        {
          "output_type": "stream",
          "name": "stdout",
          "text": [
            "epoch:  1\n",
            "epoch:  2\n",
            "epoch:  3\n",
            "epoch:  4\n",
            "epoch:  5\n",
            "epoch:  6\n",
            "epoch:  7\n",
            "epoch:  8\n",
            "epoch:  9\n",
            "epoch:  10\n",
            "epoch:  11\n",
            "epoch:  12\n",
            "epoch:  13\n",
            "epoch:  14\n",
            "Succefully Converged:\n",
            "[-0.9  1.1  1.1]\n",
            "Training Accuracy:  100.0\n",
            "Prescission Score: 100.0\n",
            "Recall Score :  100.0\n",
            "Confusion Matrix : \n",
            "[[1 0]\n",
            " [0 3]]\n",
            "Classification Report for 3-classes: \n",
            "              precision    recall  f1-score   support\n",
            "\n",
            "           0       1.00      1.00      1.00         1\n",
            "           1       1.00      1.00      1.00         3\n",
            "\n",
            "    accuracy                           1.00         4\n",
            "   macro avg       1.00      1.00      1.00         4\n",
            "weighted avg       1.00      1.00      1.00         4\n",
            "\n"
          ]
        }
      ]
    },
    {
      "cell_type": "markdown",
      "metadata": {
        "id": "qGHLJWNl9lVd"
      },
      "source": [
        "## **Solve multi-class classification for the Iris dataset using sigmoid neuron Finally report the class-wise accuracy,precision, recall on training and testing samples.**"
      ]
    },
    {
      "cell_type": "code",
      "metadata": {
        "id": "NdS0-nEnsla_",
        "colab": {
          "base_uri": "https://localhost:8080/"
        },
        "outputId": "7ce1c5f0-b08b-47f4-b171-ae5ced1424cb"
      },
      "source": [
        "from sklearn import datasets\n",
        "iris = datasets.load_iris()\n",
        "print(iris.keys())"
      ],
      "execution_count": null,
      "outputs": [
        {
          "output_type": "stream",
          "name": "stdout",
          "text": [
            "dict_keys(['data', 'target', 'target_names', 'DESCR', 'feature_names', 'filename'])\n"
          ]
        }
      ]
    },
    {
      "cell_type": "code",
      "metadata": {
        "id": "Zx3D872P-ofd"
      },
      "source": [
        "\n",
        "def threshold(z):\n",
        "    # Activation function\n",
        "    y = np.ones(z.shape[0])\n",
        "    for i in range(z.shape[0]):\n",
        "      if(z[i] >= 0.5):\n",
        "        y[i] = 1\n",
        "      else:\n",
        "        y[i] = 0\n",
        "    return y\n",
        "\n",
        "def sigmoid(z):\n",
        "    # Activation function used to map any real value between 0 and 1\n",
        "    return 1 / (1 + np.exp(-z))\n",
        "\n",
        "\n",
        "def predict_threshold(weights, X):\n",
        "  linear_model = np.dot(X, weights)\n",
        "  y_predicted_cls = threshold(sigmoid(linear_model))\n",
        "  return np.array(y_predicted_cls)\n",
        "\n",
        " \n",
        "def model_analysis(x_test, y_test, weight):\n",
        "  x_test = add_intercept(x_test)\n",
        "  y_pred = np.ones(y_test.shape[0])\n",
        "  hypothesis = sigmoid(np.dot(x_test, weight.T))\n",
        "  for i in range(0, hypothesis.shape[0]):\n",
        "    if (hypothesis[i] < 0.5):\n",
        "      y_pred[i] = 0\n",
        "    if (hypothesis[i]>=0.5):\n",
        "      y_pred[i] = 1\n",
        "  test_acc = accuracy_score(y_test, y_pred)*100\n",
        "  # precision = precision_score(y_test, y_pred)*100\n",
        "  # recall = recall_score(y_test, y_pred)*100\n",
        "  # f1 = f1_score(y_test, y_pred)*100\n",
        "  print(\"Training Accuracy: \", test_acc)\n",
        "  # print(\"Prescission Score:\", precision)\n",
        "  # print(\"Recall Score : \", recall) \n",
        "  # print('F1 Score : ', f1)\n",
        "  print('Confusion Matrix : \\n' + str(confusion_matrix(y_test, y_pred)))\n",
        "  print(\"Classification Report for 3-classes: \")\n",
        "  print(classification_report(y_test, y_pred))\n",
        "  return test_acc\n",
        "\n",
        "def accuracy(y_true, y_pred):\n",
        "    accuracy = np.sum(y_true == y_pred)\n",
        "    accuracy = accuracy/len(y_true)\n",
        "    return accuracy   \n",
        "\n",
        "\n",
        "def add_intercept(x):\n",
        "  intercept = np.ones((x.shape[0], 1))\n",
        "  return np.concatenate((intercept, x), axis=1)\n",
        "\n",
        "def sigmoid_neuron(X, y_true):\n",
        "    X = add_intercept(X)\n",
        "    number_of_features = X.shape[1]\n",
        "    # numpy array with 1 row and columns equal to number of features. In \n",
        "    # our case number_of_features = 3 (area, bedroom and age)\n",
        "    weights = np.ones(shape=(number_of_features)) \n",
        "    # weights = np.array([0.1, 0.1, 0.1])\n",
        "    total_samples = X.shape[0]\n",
        "    converged  = True\n",
        "    x_train, y_train = shuffle(X, y_true)  # shuffel the training sample\n",
        "    idx = random.randint(0, x_train.shape[0]-1)\n",
        "    epoch = 1\n",
        "    used_index = []\n",
        "    while converged and epoch <= 10:\n",
        "        print(\"epoch: \", epoch)\n",
        "        y_predicted = sigmoid(np.dot(x_train[idx], weights))\n",
        "        # print(\"pred = \", y_predicted)\n",
        "\n",
        "        if(y_train[idx] == 1 and y_predicted < 0.5):\n",
        "          weights = weights + x_train[idx]\n",
        "\n",
        "        if(y_train[idx] == 0 and y_predicted >= 0.5):\n",
        "          weights = weights - x_train[idx]\n",
        "\n",
        "        idx = random.randint(0, x_train.shape[0]-1)     # pick the random sample\n",
        "        used_index.append(idx)\n",
        "\n",
        "        if (len(set(used_index)) == x_train.shape[0]):\n",
        "          # now check what is the accuracy now\n",
        "          y_pred = predict_threshold(weights, x_train)\n",
        "          # score = accuracy(y_true, y_pred)\n",
        "          score = accuracy_score(y_train, y_pred)\n",
        "          # score = predict(x_train, y_train, weights)\n",
        "          if (score*100==100):\n",
        "              print(\"Succefully Converged:\")\n",
        "              converged = False\n",
        "        epoch = epoch + 1\n",
        "    return weights\n",
        "\n"
      ],
      "execution_count": null,
      "outputs": []
    },
    {
      "cell_type": "code",
      "metadata": {
        "colab": {
          "base_uri": "https://localhost:8080/"
        },
        "id": "ROV2P93wJxoK",
        "outputId": "be3583db-b3d1-492e-8236-05ff38aada47"
      },
      "source": [
        "X = iris.data\n",
        "Y = iris.target\n",
        "X, Y = shuffle(X, Y)\n",
        "X = pd.DataFrame(X, columns=iris.feature_names)\n",
        "print(X)\n"
      ],
      "execution_count": null,
      "outputs": [
        {
          "output_type": "stream",
          "name": "stdout",
          "text": [
            "     sepal length (cm)  sepal width (cm)  petal length (cm)  petal width (cm)\n",
            "0                  5.2               2.7                3.9               1.4\n",
            "1                  4.7               3.2                1.6               0.2\n",
            "2                  6.2               2.9                4.3               1.3\n",
            "3                  6.3               2.9                5.6               1.8\n",
            "4                  4.8               3.0                1.4               0.1\n",
            "..                 ...               ...                ...               ...\n",
            "145                6.9               3.1                4.9               1.5\n",
            "146                5.8               2.7                5.1               1.9\n",
            "147                4.5               2.3                1.3               0.3\n",
            "148                5.0               3.6                1.4               0.2\n",
            "149                5.6               2.9                3.6               1.3\n",
            "\n",
            "[150 rows x 4 columns]\n"
          ]
        }
      ]
    },
    {
      "cell_type": "code",
      "metadata": {
        "colab": {
          "base_uri": "https://localhost:8080/",
          "height": 282
        },
        "id": "c2hEmpZrLnxO",
        "outputId": "88947935-5787-4eed-b1f4-043d21ab1deb"
      },
      "source": [
        "X.plot.kde()"
      ],
      "execution_count": null,
      "outputs": [
        {
          "output_type": "execute_result",
          "data": {
            "text/plain": [
              "<matplotlib.axes._subplots.AxesSubplot at 0x7faba8700fd0>"
            ]
          },
          "metadata": {},
          "execution_count": 52
        },
        {
          "output_type": "display_data",
          "data": {
            "image/png": "[encoded data removed]",
            "text/plain": [
              "<Figure size 432x288 with 1 Axes>"
            ]
          },
          "metadata": {
            "needs_background": "light"
          }
        }
      ]
    },
    {
      "cell_type": "code",
      "metadata": {
        "colab": {
          "base_uri": "https://localhost:8080/",
          "height": 282
        },
        "id": "FltKabRPMZ5m",
        "outputId": "101b5d6a-c320-4a4f-cec1-814dfb40bbfd"
      },
      "source": [
        "from sklearn.preprocessing import MinMaxScaler\n",
        "minmax = MinMaxScaler()\n",
        "dataset_new = minmax.fit_transform(X)\n",
        "X = pd.DataFrame(dataset_new, columns=iris.feature_names)\n",
        "X.plot.kde()"
      ],
      "execution_count": null,
      "outputs": [
        {
          "output_type": "execute_result",
          "data": {
            "text/plain": [
              "<matplotlib.axes._subplots.AxesSubplot at 0x7faba603b950>"
            ]
          },
          "metadata": {},
          "execution_count": 68
        },
        {
          "output_type": "display_data",
          "data": {
            "image/png": "[encoded data removed]",
            "text/plain": [
              "<Figure size 432x288 with 1 Axes>"
            ]
          },
          "metadata": {
            "needs_background": "light"
          }
        }
      ]
    },
    {
      "cell_type": "code",
      "metadata": {
        "colab": {
          "base_uri": "https://localhost:8080/"
        },
        "id": "PqUYx_noM43A",
        "outputId": "f48c6117-70df-4bd6-fd36-03c7dcf48884"
      },
      "source": [
        "from sklearn.model_selection import train_test_split\n",
        "import numpy as np\n",
        "train_frac = 60/100  #60%   left ->: 100-60 = 40%\n",
        "valid_frac = 20/40 #(100/70)*10\n",
        "test_frac = 20/40 #(100/70)*60\n",
        "print(\"total : \", X.shape)\n",
        "x_train, x_rem, y_train, y_rem = train_test_split(X, Y, train_size=train_frac)\n",
        "x_valid, x_test, y_valid,  y_test = train_test_split(x_rem, y_rem,  test_size=test_frac)\n",
        "print(x_train.shape, y_train.shape)\n",
        "print(x_test.shape, y_test.shape)\n",
        "print(x_valid.shape, y_valid.shape)"
      ],
      "execution_count": null,
      "outputs": [
        {
          "output_type": "stream",
          "name": "stdout",
          "text": [
            "total :  (150, 4)\n",
            "(90, 4) (90,)\n",
            "(30, 4) (30,)\n",
            "(30, 4) (30,)\n"
          ]
        }
      ]
    },
    {
      "cell_type": "code",
      "metadata": {
        "id": "oEvtva2KJHHO"
      },
      "source": [
        "weight  = sigmoid_neuron(x_train, y_train)\n",
        "print(weight)\n",
        "acu = model_analysis(x_train, y_train, weight)"
      ],
      "execution_count": null,
      "outputs": []
    }
  ]
}