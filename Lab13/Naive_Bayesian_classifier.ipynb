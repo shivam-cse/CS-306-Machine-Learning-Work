{
  "nbformat": 4,
  "nbformat_minor": 0,
  "metadata": {
    "colab": {
      "name": "Naive_Bayesian_classifier.ipynb",
      "provenance": [],
      "collapsed_sections": [],
      "authorship_tag": "ABX9TyONwQQZXqCoLhkp22YM6x8K",
      "include_colab_link": true
    },
    "kernelspec": {
      "name": "python3",
      "display_name": "Python 3"
    },
    "language_info": {
      "name": "python"
    }
  },
  "cells": [
    {
      "cell_type": "markdown",
      "metadata": {
        "id": "view-in-github",
        "colab_type": "text"
      },
      "source": [
        "<a href=\"https://colab.research.google.com/github/shivam-cse/CS-306-Machine-Learning-Work/blob/main/Lab13/Naive_Bayesian_classifier.ipynb\" target=\"_parent\"><img src=\"https://colab.research.google.com/assets/colab-badge.svg\" alt=\"Open In Colab\"/></a>"
      ]
    },
    {
      "cell_type": "code",
      "metadata": {
        "id": "i1fxlRgfb1C_"
      },
      "source": [
        "import numpy as np \n",
        "import pandas as pd\n",
        "import matplotlib.pyplot as plt\n",
        "import seaborn as sns"
      ],
      "execution_count": null,
      "outputs": []
    },
    {
      "cell_type": "code",
      "metadata": {
        "id": "3dRG-0JxcQ0M"
      },
      "source": [
        "# Calculate P(Y=y) for all possible y\n",
        "def calculate_prior(df, Y):\n",
        "    classes = sorted(list(df[Y].unique()))\n",
        "    prior = []\n",
        "    for i in classes:\n",
        "        prior.append(len(df[df[Y]==i])/len(df))\n",
        "    return prior\n",
        "\n",
        "# Approach 1: Calculate P(X=x|Y=y) using Gaussian dist.\n",
        "def calculate_likelihood_gaussian(df, feat_name, feat_val, Y, label):\n",
        "    feat = list(df.columns)\n",
        "    df = df[df[Y]==label]\n",
        "    mean, std = df[feat_name].mean(), df[feat_name].std()\n",
        "    p_x_given_y = (1 / (np.sqrt(2 * np.pi) * std)) *  np.exp(-((feat_val-mean)**2 / (2 * std**2 )))\n",
        "    return p_x_given_y\n",
        "\n",
        "\n",
        "def naive_bayes_gaussian(df, X, Y):\n",
        "    # get feature names\n",
        "    features = list(df.columns)[:-1]\n",
        "\n",
        "    # calculate prior\n",
        "    prior = calculate_prior(df, Y)\n",
        "\n",
        "    Y_pred = []\n",
        "    # loop over every data sample\n",
        "    for x in X:\n",
        "        # calculate likelihood\n",
        "        labels = sorted(list(df[Y].unique()))\n",
        "        likelihood = [1]*len(labels)\n",
        "        for j in range(len(labels)):\n",
        "            for i in range(len(features)):\n",
        "                likelihood[j] *= calculate_likelihood_gaussian(df, features[i], x[i], Y, labels[j])\n",
        "\n",
        "        # calculate posterior probability (numerator only)\n",
        "        post_prob = [1]*len(labels)\n",
        "        for j in range(len(labels)):\n",
        "            post_prob[j] = likelihood[j] * prior[j]\n",
        "\n",
        "        Y_pred.append(np.argmax(post_prob))\n",
        "\n",
        "    return np.array(Y_pred)"
      ],
      "execution_count": null,
      "outputs": []
    },
    {
      "cell_type": "code",
      "metadata": {
        "id": "d0bErbuJx1S-"
      },
      "source": [
        ""
      ],
      "execution_count": null,
      "outputs": []
    }
  ]
}