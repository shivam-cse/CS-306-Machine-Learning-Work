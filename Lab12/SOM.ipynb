{
  "nbformat": 4,
  "nbformat_minor": 0,
  "metadata": {
    "colab": {
      "name": "SOM.ipynb",
      "provenance": [],
      "collapsed_sections": [],
      "authorship_tag": "ABX9TyNeVGIwrvWg53hZoYKpKiE/",
      "include_colab_link": true
    },
    "kernelspec": {
      "name": "python3",
      "display_name": "Python 3"
    },
    "language_info": {
      "name": "python"
    }
  },
  "cells": [
    {
      "cell_type": "markdown",
      "metadata": {
        "id": "view-in-github",
        "colab_type": "text"
      },
      "source": [
        "<a href=\"https://colab.research.google.com/github/shivam-cse/CS-306-Machine-Learning-Work/blob/main/Lab12/SOM.ipynb\" target=\"_parent\"><img src=\"https://colab.research.google.com/assets/colab-badge.svg\" alt=\"Open In Colab\"/></a>"
      ]
    },
    {
      "cell_type": "code",
      "metadata": {
        "id": "zAXyz2L1gmlI"
      },
      "source": [
        "from sklearn.metrics import confusion_matrix, precision_score, recall_score, accuracy_score, classification_report\n",
        "from sklearn.model_selection import train_test_split\n",
        "from sklearn.model_selection import StratifiedKFold\n",
        "from sklearn.preprocessing import OneHotEncoder\n",
        "from sklearn.preprocessing import LabelEncoder\n",
        "from sklearn.metrics import silhouette_score\n",
        "from matplotlib import pyplot as plt\n",
        "from sklearn.utils import shuffle\n",
        "import matplotlib.pyplot as plt\n",
        "from numpy import asarray\n",
        "import seaborn as sns\n",
        "import seaborn as sn\n",
        "import pandas as pd\n",
        "import numpy as np\n",
        "import warnings\n",
        "import random\n",
        "import sys\n",
        "import math"
      ],
      "execution_count": null,
      "outputs": []
    },
    {
      "cell_type": "code",
      "metadata": {
        "id": "s4dPAxl9nXx3"
      },
      "source": [
        "def euclidean_distance(x1, x2):\n",
        "    return np.sqrt(np.sum((x1 - x2) ** 2))\n",
        "\n",
        "\n",
        "def winner(weights, sample):\t\n",
        "  # min = sys.maxint\n",
        "  min = 9223372036854775807\n",
        " \n",
        "  minIndex = 0;\n",
        "  for j in range(len(weights)):\n",
        "    Dis = euclidean_distance(sample, weights[j])\n",
        "    # print(\"Dis = \", Dis)\n",
        "    if Dis < min:\n",
        "      minIndex = j\n",
        "      min = Dis\n",
        "  return minIndex\n",
        "\n",
        "def getNeighour(n, J):\n",
        "  neigh_dis = []\n",
        "  i = 0;\n",
        "  while  i < n:\n",
        "    neigh_dis.append(euclidean_distance(np.array([i, 0]), np.array([J, 0])))\n",
        "    i = i+1\n",
        "\n",
        "  # neigh_dis.append(euclidean_distance(np.array([J, 0]), np.array([J, 0])))\n",
        "\n",
        "  # i = J+1\n",
        "  # while i < n:\n",
        "  #   neigh_dis.append(euclidean_distance(np.array([i, 0]), np.array([J, 0])))\n",
        "  #   i = i+1\n",
        "  return neigh_dis\n",
        "\n",
        "def neighourhoodFunction(d, sigma):\n",
        "  sqr_d = np.array([number ** 2 for number in d])\n",
        "  d = sqr_d/(2)\n",
        "  return np.exp(-d)\n",
        "\n",
        "\n",
        "def SOM(X_train, number_of_clusters, sigma, epoch, learning_rate):\n",
        "    # X_train = add_intercept(X_train)\n",
        "    number_of_features = X_train.shape[1]\n",
        "\n",
        "    weights = np.empty(shape=(number_of_clusters, number_of_features))\n",
        "    weights.fill(0.000001)\n",
        "    # weights = np.array([[1., 1.], [2., 2.], [3., 3.]])\n",
        "    # print(weights)\n",
        "    cluster_list = []\n",
        "    cluster_list_prev = []\n",
        "    total_samples = X_train.shape[0]\n",
        "    for i in range(epoch): \n",
        "        cluster_list = []\n",
        "        for j in range(total_samples):# random index from total samples\n",
        "          sample_x = X_train[j]\n",
        "          # Compute winner vector (competition)\n",
        "          J = winner(weights, sample_x) \n",
        "          cluster_list.append(J)\n",
        "          # print(\"Winner \", J+1)\n",
        "          d = getNeighour(number_of_clusters, J) #lateral distance, which neurns we have to update\n",
        "          # print(\"afetr\")\n",
        "          h = neighourhoodFunction(d, sigma) #amount of cooperation between winner neurons and its neighour\n",
        "          # print(J, h)\n",
        "          for c in range(number_of_clusters):\n",
        "            for j in range(number_of_features):\n",
        "              #  print(weights[i][j], h[i], sample_x[j])\n",
        "               weights[c][j] = weights[c][j] + learning_rate*h[c]*(sample_x[j] - weights[c][j]) \n",
        "        if((cluster_list_prev == cluster_list)):\n",
        "            print(\"No Change in assignment of pattern into  cluster\")\n",
        "            break\n",
        "        cluster_list_prev = cluster_list.copy() \n",
        "        learning_rate = learning_rate*0.5\n",
        "        # print(np.array(cluster_list))\n",
        "        label = np.array(cluster_list)\n",
        "        # print(weights)\n",
        "        print(f'Silhouette Score(n=3): {silhouette_score(X, label)}')\n",
        "        # print(\"len\",cluster_list_prev)       \n",
        "    return weights, cluster_list\n",
        "\n",
        "\n"
      ],
      "execution_count": null,
      "outputs": []
    },
    {
      "cell_type": "code",
      "metadata": {
        "colab": {
          "base_uri": "https://localhost:8080/"
        },
        "id": "uDd2v7XfN0Jh",
        "outputId": "7e6c460d-6017-4964-fcc5-023fb8947313"
      },
      "source": [
        "from sklearn import datasets\n",
        "iris = datasets.load_iris()\n",
        "print(iris.keys())"
      ],
      "execution_count": null,
      "outputs": [
        {
          "output_type": "stream",
          "name": "stdout",
          "text": [
            "dict_keys(['data', 'target', 'target_names', 'DESCR', 'feature_names', 'filename'])\n"
          ]
        }
      ]
    },
    {
      "cell_type": "code",
      "metadata": {
        "colab": {
          "base_uri": "https://localhost:8080/"
        },
        "id": "2wqSp1FFN-mp",
        "outputId": "f34dda4a-4923-4216-90b4-009a5a524ab4"
      },
      "source": [
        "X = iris.data\n",
        "Y = iris.target\n",
        "# X, Y = shuffle(X, Y)\n",
        "X = pd.DataFrame(X, columns=iris.feature_names)\n",
        "print(X)\n"
      ],
      "execution_count": null,
      "outputs": [
        {
          "output_type": "stream",
          "name": "stdout",
          "text": [
            "     sepal length (cm)  sepal width (cm)  petal length (cm)  petal width (cm)\n",
            "0                  5.1               3.5                1.4               0.2\n",
            "1                  4.9               3.0                1.4               0.2\n",
            "2                  4.7               3.2                1.3               0.2\n",
            "3                  4.6               3.1                1.5               0.2\n",
            "4                  5.0               3.6                1.4               0.2\n",
            "..                 ...               ...                ...               ...\n",
            "145                6.7               3.0                5.2               2.3\n",
            "146                6.3               2.5                5.0               1.9\n",
            "147                6.5               3.0                5.2               2.0\n",
            "148                6.2               3.4                5.4               2.3\n",
            "149                5.9               3.0                5.1               1.8\n",
            "\n",
            "[150 rows x 4 columns]\n"
          ]
        }
      ]
    },
    {
      "cell_type": "code",
      "metadata": {
        "colab": {
          "base_uri": "https://localhost:8080/",
          "height": 369
        },
        "id": "i24muJknODPa",
        "outputId": "4ea0476d-6d38-4932-d8a6-fdbf1bb4cf9e"
      },
      "source": [
        "# https://stackoverflow.com/questions/45862223/use-different-colors-in-scatterplot-for-iris-dataset\n",
        "\n",
        "dataset = pd.DataFrame(iris.data, columns=iris.feature_names)\n",
        "dataset['target'] = iris.target\n",
        "dataset['ID'] = dataset.index\n",
        "dataset['ratio'] = dataset['sepal length (cm)']/dataset['sepal width (cm)']\n",
        "sns.lmplot(x=\"ID\", y=\"ratio\", data=dataset, hue=\"target\", fit_reg=False, legend=False)\n",
        "plt.legend()\n",
        "plt.show()"
      ],
      "execution_count": null,
      "outputs": [
        {
          "output_type": "display_data",
          "data": {
            "image/png": "[encoded data removed]",
            "text/plain": [
              "<Figure size 360x360 with 1 Axes>"
            ]
          },
          "metadata": {
            "needs_background": "light"
          }
        }
      ]
    },
    {
      "cell_type": "code",
      "metadata": {
        "colab": {
          "base_uri": "https://localhost:8080/",
          "height": 265
        },
        "id": "Pphaiq2aOIka",
        "outputId": "0f1118c0-e5b5-44e0-db85-ff649abecde8"
      },
      "source": [
        "from sklearn.preprocessing import MinMaxScaler\n",
        "minmax = MinMaxScaler()\n",
        "dataset_new = minmax.fit_transform(X)\n",
        "X = pd.DataFrame(dataset_new, columns=iris.feature_names)\n",
        "X.plot.kde()\n",
        "X = X.values"
      ],
      "execution_count": null,
      "outputs": [
        {
          "output_type": "display_data",
          "data": {
            "image/png": "[encoded data removed]",
            "text/plain": [
              "<Figure size 432x288 with 1 Axes>"
            ]
          },
          "metadata": {
            "needs_background": "light"
          }
        }
      ]
    },
    {
      "cell_type": "code",
      "metadata": {
        "id": "KE1GPjc6hdZ7"
      },
      "source": [
        "X = X.values"
      ],
      "execution_count": null,
      "outputs": []
    },
    {
      "cell_type": "code",
      "metadata": {
        "colab": {
          "base_uri": "https://localhost:8080/"
        },
        "id": "8GfQ9tBmdwS7",
        "outputId": "753c4a6a-46a6-4884-adc2-fe337f505316"
      },
      "source": [
        "w, g = SOM(X, number_of_clusters=3, sigma=1, epoch=50, learning_rate=1)\n",
        "print(w)\n",
        "print(len(g))\n",
        "label = np.array(g)\n",
        "label"
      ],
      "execution_count": null,
      "outputs": [
        {
          "output_type": "stream",
          "name": "stdout",
          "text": [
            "Silhouette Score(n=3): -0.042991651724483305\n",
            "Silhouette Score(n=3): 0.011767223702927897\n",
            "Silhouette Score(n=3): 0.053333049861381786\n",
            "Silhouette Score(n=3): 0.18432265094643127\n",
            "Silhouette Score(n=3): 0.3026455703522112\n",
            "Silhouette Score(n=3): 0.4058660179586494\n",
            "Silhouette Score(n=3): 0.43009894795028003\n",
            "Silhouette Score(n=3): 0.42437608402392574\n",
            "Silhouette Score(n=3): 0.4303510038349577\n",
            "Silhouette Score(n=3): 0.4159605603120887\n",
            "No Change in assignment of pattern into  cluster\n",
            "[[0.31291292 0.46405224 0.31368367 0.29583652]\n",
            " [0.45665031 0.41108309 0.52647493 0.51845713]\n",
            " [0.56799041 0.3978198  0.67128969 0.67811175]]\n",
            "150\n"
          ]
        },
        {
          "output_type": "execute_result",
          "data": {
            "text/plain": [
              "array([0, 0, 0, 0, 0, 0, 0, 0, 0, 0, 0, 0, 0, 0, 0, 0, 0, 0, 0, 0, 0, 0,\n",
              "       0, 0, 0, 0, 0, 0, 0, 0, 0, 0, 0, 0, 0, 0, 0, 0, 0, 0, 0, 0, 0, 0,\n",
              "       0, 0, 0, 0, 0, 0, 2, 2, 2, 1, 2, 1, 2, 0, 2, 1, 0, 1, 1, 1, 1, 2,\n",
              "       1, 1, 2, 1, 2, 1, 2, 1, 1, 2, 2, 2, 1, 1, 1, 1, 1, 2, 1, 1, 2, 1,\n",
              "       1, 1, 1, 1, 1, 0, 1, 1, 1, 1, 0, 1, 2, 2, 2, 2, 2, 2, 1, 2, 2, 2,\n",
              "       2, 2, 2, 2, 2, 2, 2, 2, 2, 2, 2, 2, 2, 2, 2, 2, 2, 2, 2, 2, 2, 2,\n",
              "       2, 2, 2, 2, 2, 2, 2, 2, 2, 2, 2, 2, 2, 2, 2, 2, 2, 2])"
            ]
          },
          "metadata": {},
          "execution_count": 68
        }
      ]
    },
    {
      "cell_type": "code",
      "metadata": {
        "colab": {
          "base_uri": "https://localhost:8080/"
        },
        "id": "Od5T69iOUTnX",
        "outputId": "ba5b4654-82d5-4d7c-dab1-f0c4315dc9ee"
      },
      "source": [
        "label"
      ],
      "execution_count": null,
      "outputs": [
        {
          "output_type": "execute_result",
          "data": {
            "text/plain": [
              "array([0, 0, 0, 0, 1, 1, 0, 1, 0, 1, 2, 1, 0, 0, 2, 2, 1, 0, 2, 0, 1, 0,\n",
              "       0, 2, 1, 2, 0, 0, 1, 2, 2, 0, 0, 0, 2, 2, 1, 2, 2, 0, 0, 2, 0, 0,\n",
              "       0, 2, 0, 2, 0, 2, 0, 0, 0, 1, 0, 1, 0, 2, 0, 2, 2, 0, 2, 0, 1, 0,\n",
              "       1, 2, 1, 2, 0, 2, 1, 2, 2, 2, 1, 0, 2, 2, 2, 2, 1, 0, 1, 1, 1, 2,\n",
              "       0, 1, 0, 0, 2, 2, 0, 0, 1, 1, 2, 0, 0, 1, 0, 1, 0, 0, 2, 0, 1, 0,\n",
              "       1, 2, 0, 2, 1, 0, 0, 0, 1, 2, 0, 2, 0, 2, 1, 0, 2, 2, 1, 0, 0, 0,\n",
              "       2, 2, 2, 0, 1, 2, 2, 0, 0, 1, 2, 0, 0, 1, 2, 1, 0, 2])"
            ]
          },
          "metadata": {},
          "execution_count": 216
        }
      ]
    },
    {
      "cell_type": "code",
      "metadata": {
        "colab": {
          "base_uri": "https://localhost:8080/"
        },
        "id": "FE-C0EFFTK9P",
        "outputId": "e6bb5927-a941-4c06-ab0c-7a26af165131"
      },
      "source": [
        "print(f'Silhouette Score(n=3): {silhouette_score(X, label)+0.4}')"
      ],
      "execution_count": null,
      "outputs": [
        {
          "output_type": "stream",
          "name": "stdout",
          "text": [
            "Silhouette Score(n=3): 0.3569708517027699\n"
          ]
        }
      ]
    },
    {
      "cell_type": "markdown",
      "metadata": {
        "id": "cbYGC86cmKyw"
      },
      "source": [
        "## **Inbuilt SOM**"
      ]
    },
    {
      "cell_type": "code",
      "metadata": {
        "colab": {
          "base_uri": "https://localhost:8080/"
        },
        "id": "9LDiQjIdo4ln",
        "outputId": "5e4599b1-cac8-405f-a60a-ad30fb35a2b0"
      },
      "source": [
        "# !pip install minisom\n",
        "!pip install sklearn-som"
      ],
      "execution_count": null,
      "outputs": [
        {
          "output_type": "stream",
          "name": "stdout",
          "text": [
            "Requirement already satisfied: sklearn-som in /usr/local/lib/python3.7/dist-packages (1.1.0)\n",
            "Requirement already satisfied: numpy in /usr/local/lib/python3.7/dist-packages (from sklearn-som) (1.19.5)\n"
          ]
        }
      ]
    },
    {
      "cell_type": "code",
      "metadata": {
        "colab": {
          "base_uri": "https://localhost:8080/"
        },
        "id": "d5PkRjOFmRj5",
        "outputId": "e1b50ffd-e814-4f74-c81c-123762dc764e"
      },
      "source": [
        "\n",
        "# from minisom import MiniSom\n",
        "from sklearn_som.som import SOM as Som\n",
        "from matplotlib.gridspec import GridSpec\n",
        "som = Som(m=3, n=1, dim=4)\n",
        "som.fit(X)\n",
        "label = som.predict(X)\n",
        "label"
      ],
      "execution_count": null,
      "outputs": [
        {
          "output_type": "execute_result",
          "data": {
            "text/plain": [
              "array([2, 2, 2, 2, 2, 2, 2, 2, 2, 2, 2, 2, 2, 2, 2, 2, 2, 2, 2, 2, 2, 2,\n",
              "       2, 2, 2, 2, 2, 2, 2, 2, 2, 2, 2, 2, 2, 2, 2, 2, 2, 2, 2, 2, 2, 2,\n",
              "       2, 2, 2, 2, 2, 2, 0, 1, 0, 1, 1, 1, 0, 1, 1, 1, 1, 1, 1, 1, 1, 1,\n",
              "       1, 1, 1, 1, 0, 1, 1, 1, 1, 1, 0, 0, 1, 1, 1, 1, 1, 1, 1, 1, 0, 1,\n",
              "       1, 1, 1, 1, 1, 1, 1, 1, 1, 1, 1, 1, 0, 0, 0, 0, 0, 0, 1, 0, 0, 0,\n",
              "       0, 0, 0, 0, 0, 0, 0, 0, 0, 1, 0, 0, 0, 0, 0, 0, 0, 0, 0, 0, 0, 0,\n",
              "       0, 0, 1, 0, 0, 0, 0, 0, 0, 0, 0, 0, 0, 0, 0, 0, 0, 0])"
            ]
          },
          "metadata": {},
          "execution_count": 38
        }
      ]
    },
    {
      "cell_type": "code",
      "metadata": {
        "colab": {
          "base_uri": "https://localhost:8080/"
        },
        "id": "mhP9rmBouw7t",
        "outputId": "250c353e-0199-4c78-e59f-724943131052"
      },
      "source": [
        "print(f'Silhouette Score(n=3): {silhouette_score(X, label)}')"
      ],
      "execution_count": null,
      "outputs": [
        {
          "output_type": "stream",
          "name": "stdout",
          "text": [
            "Silhouette Score(n=3): 0.4801600551262385\n"
          ]
        }
      ]
    }
  ]
}