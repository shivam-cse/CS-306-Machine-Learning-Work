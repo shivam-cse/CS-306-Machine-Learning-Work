{
  "nbformat": 4,
  "nbformat_minor": 0,
  "metadata": {
    "colab": {
      "name": "Assignment_6.ipynb",
      "provenance": [],
      "collapsed_sections": [],
      "authorship_tag": "ABX9TyPyssgTDwsQ8Xn/rHLw9hQ8",
      "include_colab_link": true
    },
    "kernelspec": {
      "name": "python3",
      "display_name": "Python 3"
    },
    "language_info": {
      "name": "python"
    }
  },
  "cells": [
    {
      "cell_type": "markdown",
      "metadata": {
        "id": "view-in-github",
        "colab_type": "text"
      },
      "source": [
        "<a href=\"https://colab.research.google.com/github/shivam-cse/CS-306-Machine-Learning-Work/blob/main/Lab6/Assignment_6.ipynb\" target=\"_parent\"><img src=\"https://colab.research.google.com/assets/colab-badge.svg\" alt=\"Open In Colab\"/></a>"
      ]
    },
    {
      "cell_type": "code",
      "metadata": {
        "colab": {
          "base_uri": "https://localhost:8080/"
        },
        "id": "fz5XXz3kPvkj",
        "outputId": "3bda9f27-4087-4729-9d32-a2fd46c32745"
      },
      "source": [
        "from sklearn import datasets\n",
        "import pandas as pd\n",
        "import numpy as np\n",
        "iris = datasets.load_iris()\n",
        "iris.keys()"
      ],
      "execution_count": null,
      "outputs": [
        {
          "output_type": "execute_result",
          "data": {
            "text/plain": [
              "dict_keys(['data', 'target', 'target_names', 'DESCR', 'feature_names', 'filename'])"
            ]
          },
          "metadata": {},
          "execution_count": 1
        }
      ]
    },
    {
      "cell_type": "code",
      "metadata": {
        "id": "6g2u7ypkb5yc"
      },
      "source": [
        "print(iris.DESCR)"
      ],
      "execution_count": null,
      "outputs": []
    },
    {
      "cell_type": "code",
      "metadata": {
        "id": "sJ4hLx10SWVK"
      },
      "source": [
        "X = iris['data']\n",
        "Y = iris['target']\n",
        "dataset = pd.DataFrame(X, columns=iris.feature_names)\n",
        "dataset"
      ],
      "execution_count": null,
      "outputs": []
    },
    {
      "cell_type": "code",
      "metadata": {
        "id": "B2z7axWjB3Io"
      },
      "source": [
        "index = list()\n",
        "for i in range(len(X)):\n",
        "  index.append(i)\n",
        "index = np.array(index)\n"
      ],
      "execution_count": null,
      "outputs": []
    },
    {
      "cell_type": "code",
      "metadata": {
        "id": "M-YIJAuE-PK1"
      },
      "source": [
        "import matplotlib.pyplot as plt\n",
        "\n",
        "plt.scatter(index, Y)\n",
        "plt.show()"
      ],
      "execution_count": null,
      "outputs": []
    },
    {
      "cell_type": "code",
      "metadata": {
        "id": "4xnJM8zxFspR"
      },
      "source": [
        "dataset.plot.kde()"
      ],
      "execution_count": null,
      "outputs": []
    },
    {
      "cell_type": "code",
      "metadata": {
        "id": "Gp5sJh2SGGCH"
      },
      "source": [
        "from sklearn.preprocessing import MinMaxScaler\n",
        "minmax = MinMaxScaler()\n",
        "dataset_new = minmax.fit_transform(dataset)\n",
        "dataset = pd.DataFrame(dataset_new, columns=iris.feature_names)\n",
        "dataset.plot.kde()"
      ],
      "execution_count": null,
      "outputs": []
    },
    {
      "cell_type": "code",
      "metadata": {
        "id": "JDzI9lklF9PR"
      },
      "source": [
        ""
      ],
      "execution_count": null,
      "outputs": []
    },
    {
      "cell_type": "code",
      "metadata": {
        "id": "FHHcFilKTbZV"
      },
      "source": [
        "dataset['class'] = iris.target\n",
        "dataset"
      ],
      "execution_count": null,
      "outputs": []
    },
    {
      "cell_type": "code",
      "metadata": {
        "id": "vhFMmR36YAgx"
      },
      "source": [
        "dataset = dataset[dataset['class'] != 2]\n",
        "dataset"
      ],
      "execution_count": null,
      "outputs": []
    },
    {
      "cell_type": "code",
      "metadata": {
        "id": "jtNrxEe1bFtG"
      },
      "source": [
        "X = dataset.iloc[ :, : -1].values\n",
        "Y = dataset.iloc[ :, -1: ].values\n",
        "Y"
      ],
      "execution_count": null,
      "outputs": []
    },
    {
      "cell_type": "code",
      "metadata": {
        "id": "qW3K_pSXb0Mj"
      },
      "source": [
        "from sklearn.model_selection import train_test_split\n",
        "import numpy as np\n",
        "train_frac = 0.3  #30%   left ->: 100-30 = 70%\n",
        "valid_frac = 10/70 #(100/70)*10\n",
        "test_frac = 60/70 #(100/70)*60\n",
        "\n",
        "x_train, x_rem, y_train, y_rem = train_test_split(X, Y, train_size=train_frac)\n",
        "x_valid, x_test, y_valid,  y_test = train_test_split(x_rem, y_rem,  test_size=test_frac)"
      ],
      "execution_count": null,
      "outputs": []
    },
    {
      "cell_type": "code",
      "metadata": {
        "id": "7VbCyc-CLQfa"
      },
      "source": [
        "y_train"
      ],
      "execution_count": null,
      "outputs": []
    },
    {
      "cell_type": "code",
      "metadata": {
        "id": "TT3YzCLudHqu"
      },
      "source": [
        "# print(train_frac)\n",
        "# print(valid_frac)\n",
        "# print(test_frac)\n",
        "print(x_train.shape)\n",
        "print(y_train.shape)\n",
        "print(x_valid.shape)\n",
        "print(y_valid.shape)\n",
        "print(x_test.shape)\n",
        "print(y_test.shape)"
      ],
      "execution_count": null,
      "outputs": []
    },
    {
      "cell_type": "code",
      "metadata": {
        "id": "WRlSb3uVdewE"
      },
      "source": [
        "def sigmoid(z):\n",
        "    # Activation function used to map any real value between 0 and 1\n",
        "    return 1 / (1 + np.exp(-z))\n",
        "\n",
        "def net_input(theta, x):\n",
        "    # Computes the weighted sum of inputs\n",
        "    return np.dot(theta, x.T)\n",
        "\n",
        "def probability(theta, b, x):\n",
        "    # Returns the probability after passing through sigmoid\n",
        "    return sigmoid(net_input(theta, x) + b)\n",
        "\n",
        "\n",
        "def cost_function(theta, b, x, y):\n",
        "    # Computes the cost function for all the training samples\n",
        "    m = x.shape[0]\n",
        "    total_cost = (-1 / m) * np.sum(\n",
        "        y * np.log(probability(theta, b, x)) + (1 - y) * np.log(\n",
        "            1 - probability(theta, b, x)))\n",
        "    return total_cost\n",
        "\n",
        "\n",
        "def batch_gradient_descent(X, y_true, epochs, learning_rate, rho):\n",
        "\n",
        "    number_of_features = X.shape[1] #number of the feature\n",
        "    # numpy array with 1 row and columns equal to number of features.\n",
        "    w = np.ones(shape=(number_of_features))  \n",
        "    b = 0\n",
        "    total_samples = X.shape[0] # number of rows in X\n",
        "    \n",
        "    cost_list = []\n",
        "    epoch_list = []\n",
        "    prev_jw = 100000\n",
        "    \n",
        "    for i in range(epochs+1):  \n",
        "        y_predicted = sigmoid(np.dot(w, X.T) + b)  # = w1*x1 + w2*x2 + b\n",
        "        jw = cost_function(w , b, X, y_true)\n",
        "       \n",
        "        w_grad = (1/total_samples)*(X.T.dot(y_predicted - y_true))\n",
        "        b_grad = (1/total_samples)*np.sum(y_predicted - y_true)\n",
        "        \n",
        "        w = w - learning_rate * w_grad\n",
        "        b = b - learning_rate * b_grad\n",
        "        \n",
        "        # jw = np.mean(np.square(y_true-y_predicted)) # MSE (Mean Squared Error)\n",
        "        if i%10==0:\n",
        "            cost_list.append(jw)\n",
        "            epoch_list.append(i)\n",
        "        # print(\"Abs Difference = \", abs(prev_jw - jw))  \n",
        "        if(abs(prev_jw - jw) < rho):\n",
        "          print(\"dif = \", abs(prev_jw - jw))\n",
        "          break\n",
        "        prev_jw = jw\n",
        "        \n",
        "    return w, b, jw, cost_list, epoch_list, i\n",
        "\n",
        "# w, b, cost, cost_list, epoch_list = batch_gradient_descent(x_train,np.array(y_train).reshape(np.array(y_train).shape[0],),50)\n",
        "\n"
      ],
      "execution_count": null,
      "outputs": []
    },
    {
      "cell_type": "markdown",
      "metadata": {
        "id": "9E0g8L8813dp"
      },
      "source": [
        "##**Hyperparameter tuning on the validation set.**"
      ]
    },
    {
      "cell_type": "code",
      "metadata": {
        "colab": {
          "base_uri": "https://localhost:8080/"
        },
        "id": "JD3mCj-tfT0m",
        "outputId": "4019b7cc-2091-4c25-dee1-3f44e193fc5d"
      },
      "source": [
        "alpha = [0.001, 0.0001, 0.0008, 0.00003, 0.001]\n",
        "rho = [0.00001, 0.00001, 0.00007, 0.000008, 0.00009]\n",
        "epochs = [300, 350, 300, 400, 500]\n",
        "for a, r, e in zip(alpha, rho, epochs):\n",
        "  w, b, cost, cost_list, epoch_list, last_epoch = batch_gradient_descent(x_train,np.array(y_train).reshape(np.array(y_train).shape[0],),e, a, r)\n",
        "  print(\"Alpha = \", a, \"Epochs = \", e, \" Total Epochs Run = \", last_epoch,  \"Rho = \", r)\n",
        "  print(\"Weights : \", w)\n",
        "  print(\"Train MSE : \", cost)\n",
        "  validation_cost = cost_function(w, b, x_valid, np.array(y_valid).reshape(np.array(y_valid).shape[0],))\n",
        "  print(\"Validation MSE : \", validation_cost)\n",
        "  print(\"-------------------------------------------\")\n",
        "    "
      ],
      "execution_count": null,
      "outputs": [
        {
          "output_type": "stream",
          "name": "stdout",
          "text": [
            "Alpha =  0.001 Epochs =  300  Total Epochs Run =  300 Rho =  1e-05\n",
            "Weights :  [1.07423698 1.00759648 1.0973337  1.09291655]\n",
            "Train MSE :  -0.615516670375008\n",
            "Validation MSE :  0.0731009874441475\n",
            "-------------------------------------------\n",
            "Alpha =  0.0001 Epochs =  350  Total Epochs Run =  350 Rho =  1e-05\n",
            "Weights :  [1.00878069 1.00100863 1.0114876  1.01096417]\n",
            "Train MSE :  -0.5346818642815028\n",
            "Validation MSE :  0.10209747432888279\n",
            "-------------------------------------------\n",
            "Alpha =  0.0008 Epochs =  300  Total Epochs Run =  300 Rho =  7e-05\n",
            "Weights :  [1.05957215 1.00625981 1.07806924 1.0745232 ]\n",
            "Train MSE :  -0.59765669895109\n",
            "Validation MSE :  0.07936786048278006\n",
            "-------------------------------------------\n",
            "Alpha =  3e-05 Epochs =  400  Total Epochs Run =  400 Rho =  8e-06\n",
            "Weights :  [1.00301341 1.00034957 1.00394161 1.00376194]\n",
            "Train MSE :  -0.5274107523561178\n",
            "Validation MSE :  0.10478603188082725\n",
            "-------------------------------------------\n",
            "Alpha =  0.001 Epochs =  500  Total Epochs Run =  500 Rho =  9e-05\n",
            "Weights :  [1.12237491 1.01144196 1.16069217 1.15342047]\n",
            "Train MSE :  -0.6734141283277225\n",
            "Validation MSE :  0.05336347864810325\n",
            "-------------------------------------------\n"
          ]
        }
      ]
    },
    {
      "cell_type": "markdown",
      "metadata": {
        "id": "ViYvpSN32H2Y"
      },
      "source": [
        "## **Check for overfitting on the validation set by plotting graph during training of the finalized model.**"
      ]
    },
    {
      "cell_type": "code",
      "metadata": {
        "id": "TYQ8TaCc22N2"
      },
      "source": [
        "def sigmoid(z):\n",
        "    # Activation function used to map any real value between 0 and 1\n",
        "    return 1 / (1 + np.exp(-z))\n",
        "\n",
        "def net_input(theta, x):\n",
        "    # Computes the weighted sum of inputs\n",
        "    return np.dot(theta, x.T)\n",
        "\n",
        "def probability(theta, b, x):\n",
        "    # Returns the probability after passing through sigmoid\n",
        "    return sigmoid(net_input(theta, x) + b)\n",
        "\n",
        "\n",
        "def cost_function(theta, b, x, y):\n",
        "    # Computes the cost function for all the training samples\n",
        "    m = x.shape[0]\n",
        "    total_cost = -(1 / m) * np.sum(\n",
        "        y * np.log(probability(theta, b, x)) + (1 - y) * np.log(\n",
        "            1 - probability(theta, b, x)))\n",
        "    return total_cost\n",
        "\n",
        "\n",
        "def batch_gradient_descent(X, y_true,x_valid, y_valid, epochs, learning_rate, rho):\n",
        "\n",
        "    number_of_features = X.shape[1] #number of the feature\n",
        "    # numpy array with 1 row and columns equal to number of features.\n",
        "    w = np.ones(shape=(number_of_features))  \n",
        "    b = 0\n",
        "    total_samples = X.shape[0] # number of rows in X\n",
        "    \n",
        "    cost_list = []\n",
        "    epoch_list = []\n",
        "    cost_valid = []\n",
        "    prev_jw = 0\n",
        "    \n",
        "    for i in range(epochs+1):  \n",
        "        y_predicted = sigmoid(np.dot(w, X.T) + b)  # = w1*x1 + w2*x2 + b\n",
        "        jw = cost_function(w , b, X, y_true)\n",
        "        validation_cost = cost_function(w, b, x_valid, np.array(y_valid).reshape(np.array(y_valid).shape[0],))\n",
        "        w_grad = (1/total_samples)*(X.T.dot(y_predicted - y_true))\n",
        "        b_grad = (1/total_samples)*np.sum(y_predicted - y_true)\n",
        "        \n",
        "        w = w - learning_rate * w_grad\n",
        "        b = b - learning_rate * b_grad\n",
        "        \n",
        "        # jw = np.mean(np.square(y_true-y_predicted)) # MSE (Mean Squared Error)\n",
        "        if i%10==0:\n",
        "            cost_list.append(jw)\n",
        "            epoch_list.append(i)\n",
        "            cost_valid.append(validation_cost)\n",
        "        # print(\"Abs Difference = \", abs(prev_jw - jw))  \n",
        "        if(abs(prev_jw - jw) < rho):\n",
        "          break;\n",
        "        prev_jw = jw\n",
        "        \n",
        "    return w, b, jw, cost_list, epoch_list, cost_valid\n",
        "\n",
        "# w, b, cost, cost_list, epoch_list = batch_gradient_descent(x_train,np.array(y_train).reshape(np.array(y_train).shape[0],),50)\n",
        "\n"
      ],
      "execution_count": null,
      "outputs": []
    },
    {
      "cell_type": "code",
      "metadata": {
        "colab": {
          "base_uri": "https://localhost:8080/"
        },
        "id": "wvfw9CHO1j5Q",
        "outputId": "cf0f0680-a901-4471-eefd-b2edbca78c45"
      },
      "source": [
        "alpha = [0.001]\n",
        "rho = [0.00009]\n",
        "epochs = [500]\n",
        "for a, r, e in zip(alpha, rho, epochs):\n",
        "  w, b, cost, cost_list, epoch_list, cost_valid = batch_gradient_descent(x_train,np.array(y_train).reshape(np.array(y_train).shape[0],),x_valid, y_valid,e, a, r)\n",
        "  print(\"Alpha = \", a, \"Epochs = \", e, \" Total Epochs Run = \", last_epoch,  \"Rho = \", r)\n",
        "  print(\"Train MSE : \", cost)\n",
        "  validation_cost = cost_function(w, b, x_valid, np.array(y_valid).reshape(np.array(y_valid).shape[0],))\n",
        "  print(\"Validation MSE : \", validation_cost)\n",
        "  print(\"-------------------------------------------\")\n"
      ],
      "execution_count": null,
      "outputs": [
        {
          "output_type": "stream",
          "name": "stdout",
          "text": [
            "Alpha =  0.001 Epochs =  500  Total Epochs Run =  500 Rho =  9e-05\n",
            "Train MSE :  -0.5970361869766974\n",
            "Validation MSE :  -1.3089215316139007\n",
            "-------------------------------------------\n"
          ]
        }
      ]
    },
    {
      "cell_type": "code",
      "metadata": {
        "id": "_IxUIROT57vx"
      },
      "source": [
        "epoch_list"
      ],
      "execution_count": null,
      "outputs": []
    },
    {
      "cell_type": "code",
      "metadata": {
        "colab": {
          "base_uri": "https://localhost:8080/",
          "height": 279
        },
        "id": "WvPayrhb4Im9",
        "outputId": "f432bed7-da90-415c-92c3-43eb7b9d87cc"
      },
      "source": [
        "import matplotlib.pyplot as plt\n",
        "plt.plot(epoch_list , cost_list, color=\"blue\")\n",
        "plt.plot(epoch_list , cost_valid, color=\"red\")\n",
        "plt.xlabel(\"Number of epochs\")\n",
        "plt.ylabel(\"MSE\")\n",
        "plt.show()\n"
      ],
      "execution_count": null,
      "outputs": [
        {
          "output_type": "display_data",
          "data": {
            "image/png": "[encoded data removed]",
            "text/plain": [
              "<Figure size 432x288 with 1 Axes>"
            ]
          },
          "metadata": {
            "needs_background": "light"
          }
        }
      ]
    },
    {
      "cell_type": "markdown",
      "metadata": {
        "id": "EhQo6ARvK2u-"
      },
      "source": [
        "# **Now i need to solve last question of previous assignment**"
      ]
    },
    {
      "cell_type": "code",
      "metadata": {
        "id": "KJekRcCPKAv3"
      },
      "source": [
        "from sklearn.model_selection import train_test_split\n",
        "import numpy as np\n",
        "ratio = 0.1\n",
        "\n",
        "x_train, x_test, y_train, y_test = train_test_split(X, Y, train_size=train_frac)"
      ],
      "execution_count": null,
      "outputs": []
    },
    {
      "cell_type": "code",
      "metadata": {
        "colab": {
          "base_uri": "https://localhost:8080/"
        },
        "id": "k9Ss_hbmvSMh",
        "outputId": "9d52d862-4f46-4f3b-f105-19a60cdf29b0"
      },
      "source": [
        "print(x_valid.shape)\n",
        "print(y_valid.shape)\n",
        "print(np.array(y_valid).reshape(np.array(y_valid).shape[0],))\n",
        "print(np.array(y_valid).reshape(np.array(y_valid).shape[0],).shape)"
      ],
      "execution_count": null,
      "outputs": [
        {
          "output_type": "stream",
          "name": "stdout",
          "text": [
            "(10, 4)\n",
            "(10, 1)\n",
            "[0 1 0 1 1 0 1 0 1 0]\n",
            "(10,)\n"
          ]
        }
      ]
    },
    {
      "cell_type": "code",
      "metadata": {
        "colab": {
          "base_uri": "https://localhost:8080/"
        },
        "id": "CnDFSQFweFyF",
        "outputId": "df5575b9-0fec-4cd8-e770-7607772c1db2"
      },
      "source": [
        "w = np.ones(shape=(2))\n",
        "x = [[1.2, 3],\n",
        "     [3, 4], \n",
        "     [6,7], \n",
        "     [9,10]]\n",
        "y = [1,0,1,1]  \n",
        "print(np.array(y).shape)\n",
        "print(np.array(x).shape)\n",
        "net_input(w, np.array(x))\n",
        "\n",
        "probability(w, b, np.array(x))\n"
      ],
      "execution_count": null,
      "outputs": [
        {
          "output_type": "stream",
          "name": "stdout",
          "text": [
            "(4,)\n",
            "(4, 2)\n"
          ]
        },
        {
          "output_type": "execute_result",
          "data": {
            "text/plain": [
              "array([0.9848502 , 0.99906544, 0.99999768, 0.99999999])"
            ]
          },
          "metadata": {},
          "execution_count": 95
        }
      ]
    },
    {
      "cell_type": "code",
      "metadata": {
        "colab": {
          "base_uri": "https://localhost:8080/"
        },
        "id": "-hLaHAzUynBo",
        "outputId": "75da5d1b-b82e-428c-eec7-86ae10e3c911"
      },
      "source": [
        "cost_function(w, 1, np.array(x), np.array(y))"
      ],
      "execution_count": null,
      "outputs": [
        {
          "output_type": "execute_result",
          "data": {
            "text/plain": [
              "2.001459410968099"
            ]
          },
          "metadata": {},
          "execution_count": 96
        }
      ]
    },
    {
      "cell_type": "code",
      "metadata": {
        "id": "wbLbJcjpyKuI"
      },
      "source": [
        "sigmoid(5.2)"
      ],
      "execution_count": null,
      "outputs": []
    }
  ]
}