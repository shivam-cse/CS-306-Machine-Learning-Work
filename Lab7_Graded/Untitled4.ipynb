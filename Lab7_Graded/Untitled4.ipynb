{
  "nbformat": 4,
  "nbformat_minor": 0,
  "metadata": {
    "colab": {
      "name": "Untitled4.ipynb",
      "provenance": [],
      "collapsed_sections": [],
      "authorship_tag": "ABX9TyOVu+5Xh9D/Z01lVT77IZoQ",
      "include_colab_link": true
    },
    "kernelspec": {
      "name": "python3",
      "display_name": "Python 3"
    },
    "language_info": {
      "name": "python"
    }
  },
  "cells": [
    {
      "cell_type": "markdown",
      "metadata": {
        "id": "view-in-github",
        "colab_type": "text"
      },
      "source": [
        "<a href=\"https://colab.research.google.com/github/shivam-cse/CS-306-Machine-Learning-Work/blob/main/Lab7_Graded/Untitled4.ipynb\" target=\"_parent\"><img src=\"https://colab.research.google.com/assets/colab-badge.svg\" alt=\"Open In Colab\"/></a>"
      ]
    },
    {
      "cell_type": "code",
      "metadata": {
        "colab": {
          "base_uri": "https://localhost:8080/"
        },
        "id": "1ZGNox5pT8GE",
        "outputId": "cf82bdf5-aed0-48a8-f649-3cfccf4d5b73"
      },
      "source": [
        "from sklearn import datasets\n",
        "import pandas as pd\n",
        "import numpy as np\n",
        "wine = datasets.load_wine()\n",
        "wine.keys()"
      ],
      "execution_count": null,
      "outputs": [
        {
          "output_type": "execute_result",
          "data": {
            "text/plain": [
              "dict_keys(['data', 'target', 'target_names', 'DESCR', 'feature_names'])"
            ]
          },
          "metadata": {},
          "execution_count": 115
        }
      ]
    },
    {
      "cell_type": "code",
      "metadata": {
        "colab": {
          "base_uri": "https://localhost:8080/",
          "height": 444
        },
        "id": "GzkP4PSXUbre",
        "outputId": "727ebf92-289a-46d3-d08e-a7c3ca72e1e6"
      },
      "source": [
        "X = wine['data']\n",
        "Y = wine['target']\n",
        "dataset = pd.DataFrame(X, columns=iris.feature_names)\n",
        "dataset"
      ],
      "execution_count": null,
      "outputs": [
        {
          "output_type": "execute_result",
          "data": {
            "text/html": [
              "<div>\n",
              "<style scoped>\n",
              "    .dataframe tbody tr th:only-of-type {\n",
              "        vertical-align: middle;\n",
              "    }\n",
              "\n",
              "    .dataframe tbody tr th {\n",
              "        vertical-align: top;\n",
              "    }\n",
              "\n",
              "    .dataframe thead th {\n",
              "        text-align: right;\n",
              "    }\n",
              "</style>\n",
              "<table border=\"1\" class=\"dataframe\">\n",
              "  <thead>\n",
              "    <tr style=\"text-align: right;\">\n",
              "      <th></th>\n",
              "      <th>alcohol</th>\n",
              "      <th>malic_acid</th>\n",
              "      <th>ash</th>\n",
              "      <th>alcalinity_of_ash</th>\n",
              "      <th>magnesium</th>\n",
              "      <th>total_phenols</th>\n",
              "      <th>flavanoids</th>\n",
              "      <th>nonflavanoid_phenols</th>\n",
              "      <th>proanthocyanins</th>\n",
              "      <th>color_intensity</th>\n",
              "      <th>hue</th>\n",
              "      <th>od280/od315_of_diluted_wines</th>\n",
              "      <th>proline</th>\n",
              "    </tr>\n",
              "  </thead>\n",
              "  <tbody>\n",
              "    <tr>\n",
              "      <th>0</th>\n",
              "      <td>14.23</td>\n",
              "      <td>1.71</td>\n",
              "      <td>2.43</td>\n",
              "      <td>15.6</td>\n",
              "      <td>127.0</td>\n",
              "      <td>2.80</td>\n",
              "      <td>3.06</td>\n",
              "      <td>0.28</td>\n",
              "      <td>2.29</td>\n",
              "      <td>5.64</td>\n",
              "      <td>1.04</td>\n",
              "      <td>3.92</td>\n",
              "      <td>1065.0</td>\n",
              "    </tr>\n",
              "    <tr>\n",
              "      <th>1</th>\n",
              "      <td>13.20</td>\n",
              "      <td>1.78</td>\n",
              "      <td>2.14</td>\n",
              "      <td>11.2</td>\n",
              "      <td>100.0</td>\n",
              "      <td>2.65</td>\n",
              "      <td>2.76</td>\n",
              "      <td>0.26</td>\n",
              "      <td>1.28</td>\n",
              "      <td>4.38</td>\n",
              "      <td>1.05</td>\n",
              "      <td>3.40</td>\n",
              "      <td>1050.0</td>\n",
              "    </tr>\n",
              "    <tr>\n",
              "      <th>2</th>\n",
              "      <td>13.16</td>\n",
              "      <td>2.36</td>\n",
              "      <td>2.67</td>\n",
              "      <td>18.6</td>\n",
              "      <td>101.0</td>\n",
              "      <td>2.80</td>\n",
              "      <td>3.24</td>\n",
              "      <td>0.30</td>\n",
              "      <td>2.81</td>\n",
              "      <td>5.68</td>\n",
              "      <td>1.03</td>\n",
              "      <td>3.17</td>\n",
              "      <td>1185.0</td>\n",
              "    </tr>\n",
              "    <tr>\n",
              "      <th>3</th>\n",
              "      <td>14.37</td>\n",
              "      <td>1.95</td>\n",
              "      <td>2.50</td>\n",
              "      <td>16.8</td>\n",
              "      <td>113.0</td>\n",
              "      <td>3.85</td>\n",
              "      <td>3.49</td>\n",
              "      <td>0.24</td>\n",
              "      <td>2.18</td>\n",
              "      <td>7.80</td>\n",
              "      <td>0.86</td>\n",
              "      <td>3.45</td>\n",
              "      <td>1480.0</td>\n",
              "    </tr>\n",
              "    <tr>\n",
              "      <th>4</th>\n",
              "      <td>13.24</td>\n",
              "      <td>2.59</td>\n",
              "      <td>2.87</td>\n",
              "      <td>21.0</td>\n",
              "      <td>118.0</td>\n",
              "      <td>2.80</td>\n",
              "      <td>2.69</td>\n",
              "      <td>0.39</td>\n",
              "      <td>1.82</td>\n",
              "      <td>4.32</td>\n",
              "      <td>1.04</td>\n",
              "      <td>2.93</td>\n",
              "      <td>735.0</td>\n",
              "    </tr>\n",
              "    <tr>\n",
              "      <th>...</th>\n",
              "      <td>...</td>\n",
              "      <td>...</td>\n",
              "      <td>...</td>\n",
              "      <td>...</td>\n",
              "      <td>...</td>\n",
              "      <td>...</td>\n",
              "      <td>...</td>\n",
              "      <td>...</td>\n",
              "      <td>...</td>\n",
              "      <td>...</td>\n",
              "      <td>...</td>\n",
              "      <td>...</td>\n",
              "      <td>...</td>\n",
              "    </tr>\n",
              "    <tr>\n",
              "      <th>173</th>\n",
              "      <td>13.71</td>\n",
              "      <td>5.65</td>\n",
              "      <td>2.45</td>\n",
              "      <td>20.5</td>\n",
              "      <td>95.0</td>\n",
              "      <td>1.68</td>\n",
              "      <td>0.61</td>\n",
              "      <td>0.52</td>\n",
              "      <td>1.06</td>\n",
              "      <td>7.70</td>\n",
              "      <td>0.64</td>\n",
              "      <td>1.74</td>\n",
              "      <td>740.0</td>\n",
              "    </tr>\n",
              "    <tr>\n",
              "      <th>174</th>\n",
              "      <td>13.40</td>\n",
              "      <td>3.91</td>\n",
              "      <td>2.48</td>\n",
              "      <td>23.0</td>\n",
              "      <td>102.0</td>\n",
              "      <td>1.80</td>\n",
              "      <td>0.75</td>\n",
              "      <td>0.43</td>\n",
              "      <td>1.41</td>\n",
              "      <td>7.30</td>\n",
              "      <td>0.70</td>\n",
              "      <td>1.56</td>\n",
              "      <td>750.0</td>\n",
              "    </tr>\n",
              "    <tr>\n",
              "      <th>175</th>\n",
              "      <td>13.27</td>\n",
              "      <td>4.28</td>\n",
              "      <td>2.26</td>\n",
              "      <td>20.0</td>\n",
              "      <td>120.0</td>\n",
              "      <td>1.59</td>\n",
              "      <td>0.69</td>\n",
              "      <td>0.43</td>\n",
              "      <td>1.35</td>\n",
              "      <td>10.20</td>\n",
              "      <td>0.59</td>\n",
              "      <td>1.56</td>\n",
              "      <td>835.0</td>\n",
              "    </tr>\n",
              "    <tr>\n",
              "      <th>176</th>\n",
              "      <td>13.17</td>\n",
              "      <td>2.59</td>\n",
              "      <td>2.37</td>\n",
              "      <td>20.0</td>\n",
              "      <td>120.0</td>\n",
              "      <td>1.65</td>\n",
              "      <td>0.68</td>\n",
              "      <td>0.53</td>\n",
              "      <td>1.46</td>\n",
              "      <td>9.30</td>\n",
              "      <td>0.60</td>\n",
              "      <td>1.62</td>\n",
              "      <td>840.0</td>\n",
              "    </tr>\n",
              "    <tr>\n",
              "      <th>177</th>\n",
              "      <td>14.13</td>\n",
              "      <td>4.10</td>\n",
              "      <td>2.74</td>\n",
              "      <td>24.5</td>\n",
              "      <td>96.0</td>\n",
              "      <td>2.05</td>\n",
              "      <td>0.76</td>\n",
              "      <td>0.56</td>\n",
              "      <td>1.35</td>\n",
              "      <td>9.20</td>\n",
              "      <td>0.61</td>\n",
              "      <td>1.60</td>\n",
              "      <td>560.0</td>\n",
              "    </tr>\n",
              "  </tbody>\n",
              "</table>\n",
              "<p>178 rows × 13 columns</p>\n",
              "</div>"
            ],
            "text/plain": [
              "     alcohol  malic_acid   ash  ...   hue  od280/od315_of_diluted_wines  proline\n",
              "0      14.23        1.71  2.43  ...  1.04                          3.92   1065.0\n",
              "1      13.20        1.78  2.14  ...  1.05                          3.40   1050.0\n",
              "2      13.16        2.36  2.67  ...  1.03                          3.17   1185.0\n",
              "3      14.37        1.95  2.50  ...  0.86                          3.45   1480.0\n",
              "4      13.24        2.59  2.87  ...  1.04                          2.93    735.0\n",
              "..       ...         ...   ...  ...   ...                           ...      ...\n",
              "173    13.71        5.65  2.45  ...  0.64                          1.74    740.0\n",
              "174    13.40        3.91  2.48  ...  0.70                          1.56    750.0\n",
              "175    13.27        4.28  2.26  ...  0.59                          1.56    835.0\n",
              "176    13.17        2.59  2.37  ...  0.60                          1.62    840.0\n",
              "177    14.13        4.10  2.74  ...  0.61                          1.60    560.0\n",
              "\n",
              "[178 rows x 13 columns]"
            ]
          },
          "metadata": {},
          "execution_count": 116
        }
      ]
    },
    {
      "cell_type": "code",
      "metadata": {
        "colab": {
          "base_uri": "https://localhost:8080/",
          "height": 282
        },
        "id": "w767-SPjU0vY",
        "outputId": "09dfb4f8-4fd5-429b-d5f4-b88edd3d773b"
      },
      "source": [
        "dataset.plot.kde()"
      ],
      "execution_count": null,
      "outputs": [
        {
          "output_type": "execute_result",
          "data": {
            "text/plain": [
              "<matplotlib.axes._subplots.AxesSubplot at 0x7f213339a550>"
            ]
          },
          "metadata": {},
          "execution_count": 117
        },
        {
          "output_type": "display_data",
          "data": {
            "image/png": "[encoded data removed]",
            "text/plain": [
              "<Figure size 432x288 with 1 Axes>"
            ]
          },
          "metadata": {
            "needs_background": "light"
          }
        }
      ]
    },
    {
      "cell_type": "code",
      "metadata": {
        "colab": {
          "base_uri": "https://localhost:8080/",
          "height": 282
        },
        "id": "71aOvWwtU4tw",
        "outputId": "ba4315da-2404-4632-bcd0-c5896439c5b6"
      },
      "source": [
        "from sklearn.preprocessing import MinMaxScaler\n",
        "minmax = MinMaxScaler()\n",
        "dataset_new = minmax.fit_transform(dataset)\n",
        "dataset = pd.DataFrame(dataset_new, columns=iris.feature_names)\n",
        "dataset.plot.kde()"
      ],
      "execution_count": null,
      "outputs": [
        {
          "output_type": "execute_result",
          "data": {
            "text/plain": [
              "<matplotlib.axes._subplots.AxesSubplot at 0x7f21333d0490>"
            ]
          },
          "metadata": {},
          "execution_count": 118
        },
        {
          "output_type": "display_data",
          "data": {
            "image/png": "[encoded data removed]",
            "text/plain": [
              "<Figure size 432x288 with 1 Axes>"
            ]
          },
          "metadata": {
            "needs_background": "light"
          }
        }
      ]
    },
    {
      "cell_type": "code",
      "metadata": {
        "colab": {
          "base_uri": "https://localhost:8080/",
          "height": 444
        },
        "id": "fn25zeo3U_cK",
        "outputId": "f26466ee-9f00-4af0-d4fe-e88dcc40e561"
      },
      "source": [
        "dataset"
      ],
      "execution_count": null,
      "outputs": [
        {
          "output_type": "execute_result",
          "data": {
            "text/html": [
              "<div>\n",
              "<style scoped>\n",
              "    .dataframe tbody tr th:only-of-type {\n",
              "        vertical-align: middle;\n",
              "    }\n",
              "\n",
              "    .dataframe tbody tr th {\n",
              "        vertical-align: top;\n",
              "    }\n",
              "\n",
              "    .dataframe thead th {\n",
              "        text-align: right;\n",
              "    }\n",
              "</style>\n",
              "<table border=\"1\" class=\"dataframe\">\n",
              "  <thead>\n",
              "    <tr style=\"text-align: right;\">\n",
              "      <th></th>\n",
              "      <th>alcohol</th>\n",
              "      <th>malic_acid</th>\n",
              "      <th>ash</th>\n",
              "      <th>alcalinity_of_ash</th>\n",
              "      <th>magnesium</th>\n",
              "      <th>total_phenols</th>\n",
              "      <th>flavanoids</th>\n",
              "      <th>nonflavanoid_phenols</th>\n",
              "      <th>proanthocyanins</th>\n",
              "      <th>color_intensity</th>\n",
              "      <th>hue</th>\n",
              "      <th>od280/od315_of_diluted_wines</th>\n",
              "      <th>proline</th>\n",
              "    </tr>\n",
              "  </thead>\n",
              "  <tbody>\n",
              "    <tr>\n",
              "      <th>0</th>\n",
              "      <td>0.842105</td>\n",
              "      <td>0.191700</td>\n",
              "      <td>0.572193</td>\n",
              "      <td>0.257732</td>\n",
              "      <td>0.619565</td>\n",
              "      <td>0.627586</td>\n",
              "      <td>0.573840</td>\n",
              "      <td>0.283019</td>\n",
              "      <td>0.593060</td>\n",
              "      <td>0.372014</td>\n",
              "      <td>0.455285</td>\n",
              "      <td>0.970696</td>\n",
              "      <td>0.561341</td>\n",
              "    </tr>\n",
              "    <tr>\n",
              "      <th>1</th>\n",
              "      <td>0.571053</td>\n",
              "      <td>0.205534</td>\n",
              "      <td>0.417112</td>\n",
              "      <td>0.030928</td>\n",
              "      <td>0.326087</td>\n",
              "      <td>0.575862</td>\n",
              "      <td>0.510549</td>\n",
              "      <td>0.245283</td>\n",
              "      <td>0.274448</td>\n",
              "      <td>0.264505</td>\n",
              "      <td>0.463415</td>\n",
              "      <td>0.780220</td>\n",
              "      <td>0.550642</td>\n",
              "    </tr>\n",
              "    <tr>\n",
              "      <th>2</th>\n",
              "      <td>0.560526</td>\n",
              "      <td>0.320158</td>\n",
              "      <td>0.700535</td>\n",
              "      <td>0.412371</td>\n",
              "      <td>0.336957</td>\n",
              "      <td>0.627586</td>\n",
              "      <td>0.611814</td>\n",
              "      <td>0.320755</td>\n",
              "      <td>0.757098</td>\n",
              "      <td>0.375427</td>\n",
              "      <td>0.447154</td>\n",
              "      <td>0.695971</td>\n",
              "      <td>0.646933</td>\n",
              "    </tr>\n",
              "    <tr>\n",
              "      <th>3</th>\n",
              "      <td>0.878947</td>\n",
              "      <td>0.239130</td>\n",
              "      <td>0.609626</td>\n",
              "      <td>0.319588</td>\n",
              "      <td>0.467391</td>\n",
              "      <td>0.989655</td>\n",
              "      <td>0.664557</td>\n",
              "      <td>0.207547</td>\n",
              "      <td>0.558360</td>\n",
              "      <td>0.556314</td>\n",
              "      <td>0.308943</td>\n",
              "      <td>0.798535</td>\n",
              "      <td>0.857347</td>\n",
              "    </tr>\n",
              "    <tr>\n",
              "      <th>4</th>\n",
              "      <td>0.581579</td>\n",
              "      <td>0.365613</td>\n",
              "      <td>0.807487</td>\n",
              "      <td>0.536082</td>\n",
              "      <td>0.521739</td>\n",
              "      <td>0.627586</td>\n",
              "      <td>0.495781</td>\n",
              "      <td>0.490566</td>\n",
              "      <td>0.444795</td>\n",
              "      <td>0.259386</td>\n",
              "      <td>0.455285</td>\n",
              "      <td>0.608059</td>\n",
              "      <td>0.325963</td>\n",
              "    </tr>\n",
              "    <tr>\n",
              "      <th>...</th>\n",
              "      <td>...</td>\n",
              "      <td>...</td>\n",
              "      <td>...</td>\n",
              "      <td>...</td>\n",
              "      <td>...</td>\n",
              "      <td>...</td>\n",
              "      <td>...</td>\n",
              "      <td>...</td>\n",
              "      <td>...</td>\n",
              "      <td>...</td>\n",
              "      <td>...</td>\n",
              "      <td>...</td>\n",
              "      <td>...</td>\n",
              "    </tr>\n",
              "    <tr>\n",
              "      <th>173</th>\n",
              "      <td>0.705263</td>\n",
              "      <td>0.970356</td>\n",
              "      <td>0.582888</td>\n",
              "      <td>0.510309</td>\n",
              "      <td>0.271739</td>\n",
              "      <td>0.241379</td>\n",
              "      <td>0.056962</td>\n",
              "      <td>0.735849</td>\n",
              "      <td>0.205047</td>\n",
              "      <td>0.547782</td>\n",
              "      <td>0.130081</td>\n",
              "      <td>0.172161</td>\n",
              "      <td>0.329529</td>\n",
              "    </tr>\n",
              "    <tr>\n",
              "      <th>174</th>\n",
              "      <td>0.623684</td>\n",
              "      <td>0.626482</td>\n",
              "      <td>0.598930</td>\n",
              "      <td>0.639175</td>\n",
              "      <td>0.347826</td>\n",
              "      <td>0.282759</td>\n",
              "      <td>0.086498</td>\n",
              "      <td>0.566038</td>\n",
              "      <td>0.315457</td>\n",
              "      <td>0.513652</td>\n",
              "      <td>0.178862</td>\n",
              "      <td>0.106227</td>\n",
              "      <td>0.336662</td>\n",
              "    </tr>\n",
              "    <tr>\n",
              "      <th>175</th>\n",
              "      <td>0.589474</td>\n",
              "      <td>0.699605</td>\n",
              "      <td>0.481283</td>\n",
              "      <td>0.484536</td>\n",
              "      <td>0.543478</td>\n",
              "      <td>0.210345</td>\n",
              "      <td>0.073840</td>\n",
              "      <td>0.566038</td>\n",
              "      <td>0.296530</td>\n",
              "      <td>0.761092</td>\n",
              "      <td>0.089431</td>\n",
              "      <td>0.106227</td>\n",
              "      <td>0.397290</td>\n",
              "    </tr>\n",
              "    <tr>\n",
              "      <th>176</th>\n",
              "      <td>0.563158</td>\n",
              "      <td>0.365613</td>\n",
              "      <td>0.540107</td>\n",
              "      <td>0.484536</td>\n",
              "      <td>0.543478</td>\n",
              "      <td>0.231034</td>\n",
              "      <td>0.071730</td>\n",
              "      <td>0.754717</td>\n",
              "      <td>0.331230</td>\n",
              "      <td>0.684300</td>\n",
              "      <td>0.097561</td>\n",
              "      <td>0.128205</td>\n",
              "      <td>0.400856</td>\n",
              "    </tr>\n",
              "    <tr>\n",
              "      <th>177</th>\n",
              "      <td>0.815789</td>\n",
              "      <td>0.664032</td>\n",
              "      <td>0.737968</td>\n",
              "      <td>0.716495</td>\n",
              "      <td>0.282609</td>\n",
              "      <td>0.368966</td>\n",
              "      <td>0.088608</td>\n",
              "      <td>0.811321</td>\n",
              "      <td>0.296530</td>\n",
              "      <td>0.675768</td>\n",
              "      <td>0.105691</td>\n",
              "      <td>0.120879</td>\n",
              "      <td>0.201141</td>\n",
              "    </tr>\n",
              "  </tbody>\n",
              "</table>\n",
              "<p>178 rows × 13 columns</p>\n",
              "</div>"
            ],
            "text/plain": [
              "      alcohol  malic_acid  ...  od280/od315_of_diluted_wines   proline\n",
              "0    0.842105    0.191700  ...                      0.970696  0.561341\n",
              "1    0.571053    0.205534  ...                      0.780220  0.550642\n",
              "2    0.560526    0.320158  ...                      0.695971  0.646933\n",
              "3    0.878947    0.239130  ...                      0.798535  0.857347\n",
              "4    0.581579    0.365613  ...                      0.608059  0.325963\n",
              "..        ...         ...  ...                           ...       ...\n",
              "173  0.705263    0.970356  ...                      0.172161  0.329529\n",
              "174  0.623684    0.626482  ...                      0.106227  0.336662\n",
              "175  0.589474    0.699605  ...                      0.106227  0.397290\n",
              "176  0.563158    0.365613  ...                      0.128205  0.400856\n",
              "177  0.815789    0.664032  ...                      0.120879  0.201141\n",
              "\n",
              "[178 rows x 13 columns]"
            ]
          },
          "metadata": {},
          "execution_count": 119
        }
      ]
    },
    {
      "cell_type": "code",
      "metadata": {
        "colab": {
          "base_uri": "https://localhost:8080/",
          "height": 444
        },
        "id": "8rdDKReCVSDs",
        "outputId": "67f4c3c5-6c94-405a-d162-1015d55d2889"
      },
      "source": [
        "dataset['class'] = wine.target\n",
        "dataset"
      ],
      "execution_count": null,
      "outputs": [
        {
          "output_type": "execute_result",
          "data": {
            "text/html": [
              "<div>\n",
              "<style scoped>\n",
              "    .dataframe tbody tr th:only-of-type {\n",
              "        vertical-align: middle;\n",
              "    }\n",
              "\n",
              "    .dataframe tbody tr th {\n",
              "        vertical-align: top;\n",
              "    }\n",
              "\n",
              "    .dataframe thead th {\n",
              "        text-align: right;\n",
              "    }\n",
              "</style>\n",
              "<table border=\"1\" class=\"dataframe\">\n",
              "  <thead>\n",
              "    <tr style=\"text-align: right;\">\n",
              "      <th></th>\n",
              "      <th>alcohol</th>\n",
              "      <th>malic_acid</th>\n",
              "      <th>ash</th>\n",
              "      <th>alcalinity_of_ash</th>\n",
              "      <th>magnesium</th>\n",
              "      <th>total_phenols</th>\n",
              "      <th>flavanoids</th>\n",
              "      <th>nonflavanoid_phenols</th>\n",
              "      <th>proanthocyanins</th>\n",
              "      <th>color_intensity</th>\n",
              "      <th>hue</th>\n",
              "      <th>od280/od315_of_diluted_wines</th>\n",
              "      <th>proline</th>\n",
              "      <th>class</th>\n",
              "    </tr>\n",
              "  </thead>\n",
              "  <tbody>\n",
              "    <tr>\n",
              "      <th>0</th>\n",
              "      <td>0.842105</td>\n",
              "      <td>0.191700</td>\n",
              "      <td>0.572193</td>\n",
              "      <td>0.257732</td>\n",
              "      <td>0.619565</td>\n",
              "      <td>0.627586</td>\n",
              "      <td>0.573840</td>\n",
              "      <td>0.283019</td>\n",
              "      <td>0.593060</td>\n",
              "      <td>0.372014</td>\n",
              "      <td>0.455285</td>\n",
              "      <td>0.970696</td>\n",
              "      <td>0.561341</td>\n",
              "      <td>0</td>\n",
              "    </tr>\n",
              "    <tr>\n",
              "      <th>1</th>\n",
              "      <td>0.571053</td>\n",
              "      <td>0.205534</td>\n",
              "      <td>0.417112</td>\n",
              "      <td>0.030928</td>\n",
              "      <td>0.326087</td>\n",
              "      <td>0.575862</td>\n",
              "      <td>0.510549</td>\n",
              "      <td>0.245283</td>\n",
              "      <td>0.274448</td>\n",
              "      <td>0.264505</td>\n",
              "      <td>0.463415</td>\n",
              "      <td>0.780220</td>\n",
              "      <td>0.550642</td>\n",
              "      <td>0</td>\n",
              "    </tr>\n",
              "    <tr>\n",
              "      <th>2</th>\n",
              "      <td>0.560526</td>\n",
              "      <td>0.320158</td>\n",
              "      <td>0.700535</td>\n",
              "      <td>0.412371</td>\n",
              "      <td>0.336957</td>\n",
              "      <td>0.627586</td>\n",
              "      <td>0.611814</td>\n",
              "      <td>0.320755</td>\n",
              "      <td>0.757098</td>\n",
              "      <td>0.375427</td>\n",
              "      <td>0.447154</td>\n",
              "      <td>0.695971</td>\n",
              "      <td>0.646933</td>\n",
              "      <td>0</td>\n",
              "    </tr>\n",
              "    <tr>\n",
              "      <th>3</th>\n",
              "      <td>0.878947</td>\n",
              "      <td>0.239130</td>\n",
              "      <td>0.609626</td>\n",
              "      <td>0.319588</td>\n",
              "      <td>0.467391</td>\n",
              "      <td>0.989655</td>\n",
              "      <td>0.664557</td>\n",
              "      <td>0.207547</td>\n",
              "      <td>0.558360</td>\n",
              "      <td>0.556314</td>\n",
              "      <td>0.308943</td>\n",
              "      <td>0.798535</td>\n",
              "      <td>0.857347</td>\n",
              "      <td>0</td>\n",
              "    </tr>\n",
              "    <tr>\n",
              "      <th>4</th>\n",
              "      <td>0.581579</td>\n",
              "      <td>0.365613</td>\n",
              "      <td>0.807487</td>\n",
              "      <td>0.536082</td>\n",
              "      <td>0.521739</td>\n",
              "      <td>0.627586</td>\n",
              "      <td>0.495781</td>\n",
              "      <td>0.490566</td>\n",
              "      <td>0.444795</td>\n",
              "      <td>0.259386</td>\n",
              "      <td>0.455285</td>\n",
              "      <td>0.608059</td>\n",
              "      <td>0.325963</td>\n",
              "      <td>0</td>\n",
              "    </tr>\n",
              "    <tr>\n",
              "      <th>...</th>\n",
              "      <td>...</td>\n",
              "      <td>...</td>\n",
              "      <td>...</td>\n",
              "      <td>...</td>\n",
              "      <td>...</td>\n",
              "      <td>...</td>\n",
              "      <td>...</td>\n",
              "      <td>...</td>\n",
              "      <td>...</td>\n",
              "      <td>...</td>\n",
              "      <td>...</td>\n",
              "      <td>...</td>\n",
              "      <td>...</td>\n",
              "      <td>...</td>\n",
              "    </tr>\n",
              "    <tr>\n",
              "      <th>173</th>\n",
              "      <td>0.705263</td>\n",
              "      <td>0.970356</td>\n",
              "      <td>0.582888</td>\n",
              "      <td>0.510309</td>\n",
              "      <td>0.271739</td>\n",
              "      <td>0.241379</td>\n",
              "      <td>0.056962</td>\n",
              "      <td>0.735849</td>\n",
              "      <td>0.205047</td>\n",
              "      <td>0.547782</td>\n",
              "      <td>0.130081</td>\n",
              "      <td>0.172161</td>\n",
              "      <td>0.329529</td>\n",
              "      <td>2</td>\n",
              "    </tr>\n",
              "    <tr>\n",
              "      <th>174</th>\n",
              "      <td>0.623684</td>\n",
              "      <td>0.626482</td>\n",
              "      <td>0.598930</td>\n",
              "      <td>0.639175</td>\n",
              "      <td>0.347826</td>\n",
              "      <td>0.282759</td>\n",
              "      <td>0.086498</td>\n",
              "      <td>0.566038</td>\n",
              "      <td>0.315457</td>\n",
              "      <td>0.513652</td>\n",
              "      <td>0.178862</td>\n",
              "      <td>0.106227</td>\n",
              "      <td>0.336662</td>\n",
              "      <td>2</td>\n",
              "    </tr>\n",
              "    <tr>\n",
              "      <th>175</th>\n",
              "      <td>0.589474</td>\n",
              "      <td>0.699605</td>\n",
              "      <td>0.481283</td>\n",
              "      <td>0.484536</td>\n",
              "      <td>0.543478</td>\n",
              "      <td>0.210345</td>\n",
              "      <td>0.073840</td>\n",
              "      <td>0.566038</td>\n",
              "      <td>0.296530</td>\n",
              "      <td>0.761092</td>\n",
              "      <td>0.089431</td>\n",
              "      <td>0.106227</td>\n",
              "      <td>0.397290</td>\n",
              "      <td>2</td>\n",
              "    </tr>\n",
              "    <tr>\n",
              "      <th>176</th>\n",
              "      <td>0.563158</td>\n",
              "      <td>0.365613</td>\n",
              "      <td>0.540107</td>\n",
              "      <td>0.484536</td>\n",
              "      <td>0.543478</td>\n",
              "      <td>0.231034</td>\n",
              "      <td>0.071730</td>\n",
              "      <td>0.754717</td>\n",
              "      <td>0.331230</td>\n",
              "      <td>0.684300</td>\n",
              "      <td>0.097561</td>\n",
              "      <td>0.128205</td>\n",
              "      <td>0.400856</td>\n",
              "      <td>2</td>\n",
              "    </tr>\n",
              "    <tr>\n",
              "      <th>177</th>\n",
              "      <td>0.815789</td>\n",
              "      <td>0.664032</td>\n",
              "      <td>0.737968</td>\n",
              "      <td>0.716495</td>\n",
              "      <td>0.282609</td>\n",
              "      <td>0.368966</td>\n",
              "      <td>0.088608</td>\n",
              "      <td>0.811321</td>\n",
              "      <td>0.296530</td>\n",
              "      <td>0.675768</td>\n",
              "      <td>0.105691</td>\n",
              "      <td>0.120879</td>\n",
              "      <td>0.201141</td>\n",
              "      <td>2</td>\n",
              "    </tr>\n",
              "  </tbody>\n",
              "</table>\n",
              "<p>178 rows × 14 columns</p>\n",
              "</div>"
            ],
            "text/plain": [
              "      alcohol  malic_acid  ...   proline  class\n",
              "0    0.842105    0.191700  ...  0.561341      0\n",
              "1    0.571053    0.205534  ...  0.550642      0\n",
              "2    0.560526    0.320158  ...  0.646933      0\n",
              "3    0.878947    0.239130  ...  0.857347      0\n",
              "4    0.581579    0.365613  ...  0.325963      0\n",
              "..        ...         ...  ...       ...    ...\n",
              "173  0.705263    0.970356  ...  0.329529      2\n",
              "174  0.623684    0.626482  ...  0.336662      2\n",
              "175  0.589474    0.699605  ...  0.397290      2\n",
              "176  0.563158    0.365613  ...  0.400856      2\n",
              "177  0.815789    0.664032  ...  0.201141      2\n",
              "\n",
              "[178 rows x 14 columns]"
            ]
          },
          "metadata": {},
          "execution_count": 120
        }
      ]
    },
    {
      "cell_type": "code",
      "metadata": {
        "id": "l_SduWiTdWDJ"
      },
      "source": [
        ""
      ],
      "execution_count": null,
      "outputs": []
    },
    {
      "cell_type": "code",
      "metadata": {
        "id": "29i8IsAMVZK_"
      },
      "source": [
        "X = dataset.iloc[ :, : -1].values\n",
        "Y = dataset.iloc[ :, -1: ].values"
      ],
      "execution_count": null,
      "outputs": []
    },
    {
      "cell_type": "code",
      "metadata": {
        "id": "f6vJ-p3keAVy"
      },
      "source": [
        ""
      ],
      "execution_count": null,
      "outputs": []
    },
    {
      "cell_type": "code",
      "metadata": {
        "id": "Y1fjCjdFV0qu"
      },
      "source": [
        "from sklearn.model_selection import train_test_split\n",
        "import numpy as np\n",
        "train_frac = 0.9  #30%   left ->: 100-30 = 70%\n",
        "valid_frac = 0.05/10 #(100/70)*10\n",
        "test_frac = 0.05/10 #(100/70)*60\n",
        "\n",
        "x_train, x_rem, y_train, y_rem = train_test_split(X, Y, train_size=train_frac)\n",
        "x_valid, x_test, y_valid,  y_test = train_test_split(x_rem, y_rem,  test_size=test_frac)"
      ],
      "execution_count": null,
      "outputs": []
    },
    {
      "cell_type": "code",
      "metadata": {
        "id": "N-JBWrfne0JT"
      },
      "source": [
        "y_train = np.array(y_train).reshape(np.array(y_train).shape[0],)\n",
        "# y_train[1]\n",
        "# y_train = np.array(y_train).reshape(np.array(y_train).shape[0],)\n",
        "# y"
      ],
      "execution_count": null,
      "outputs": []
    },
    {
      "cell_type": "code",
      "metadata": {
        "colab": {
          "base_uri": "https://localhost:8080/"
        },
        "id": "TTjV-lHcgBB-",
        "outputId": "34278549-d863-4f7f-d092-966120d0802b"
      },
      "source": [
        "y_train"
      ],
      "execution_count": null,
      "outputs": [
        {
          "output_type": "execute_result",
          "data": {
            "text/plain": [
              "array([0, 2, 1, 0, 1, 2, 2, 0, 0, 0, 0, 1, 2, 0, 1, 1, 1, 1, 1, 1, 2, 1,\n",
              "       0, 1, 1, 1, 1, 0, 0, 1, 1, 0, 2, 0, 1, 2, 2, 0, 2, 2, 2, 0, 1, 1,\n",
              "       0, 0, 0, 0, 0, 1, 2, 1, 1, 0, 1, 0, 1, 1, 1, 0, 2, 0, 0, 2, 2, 0,\n",
              "       1, 2, 1, 2, 2, 1, 2, 2, 2, 0, 1, 0, 2, 1, 0, 1, 1, 2, 2, 0, 0, 1,\n",
              "       1, 2, 0, 0, 0, 0, 0, 1, 2, 1, 2, 0, 1, 1, 1, 1, 1, 1, 1, 0, 0, 1,\n",
              "       0, 2, 0, 0, 0, 2, 2, 0, 2, 1, 0, 2, 1, 1, 1, 1, 0, 1, 2, 0, 0, 2,\n",
              "       1, 2, 2, 1, 0, 0, 1, 2, 2, 0, 0, 1, 1, 0, 2, 2, 2, 0, 1, 1, 0, 1,\n",
              "       1, 1, 1, 2, 1, 0])"
            ]
          },
          "metadata": {},
          "execution_count": 136
        }
      ]
    },
    {
      "cell_type": "code",
      "metadata": {
        "colab": {
          "base_uri": "https://localhost:8080/"
        },
        "id": "7bYiEPrefzYF",
        "outputId": "059c2160-7c1f-4b10-c35c-c2b4fb165e90"
      },
      "source": [
        "y_train1 = np.where(y_train == 0, 1,0)\n",
        "y_train2 = np.where(y_train == 1, 1,0)\n",
        "y_train3 = np.where(y_train == 2, 1,0)\n",
        "print(y_train1)\n",
        "print(y_train2)\n",
        "print(y_train3)\n"
      ],
      "execution_count": null,
      "outputs": [
        {
          "output_type": "stream",
          "name": "stdout",
          "text": [
            "[1 0 0 1 0 0 0 1 1 1 1 0 0 1 0 0 0 0 0 0 0 0 1 0 0 0 0 1 1 0 0 1 0 1 0 0 0\n",
            " 1 0 0 0 1 0 0 1 1 1 1 1 0 0 0 0 1 0 1 0 0 0 1 0 1 1 0 0 1 0 0 0 0 0 0 0 0\n",
            " 0 1 0 1 0 0 1 0 0 0 0 1 1 0 0 0 1 1 1 1 1 0 0 0 0 1 0 0 0 0 0 0 0 1 1 0 1\n",
            " 0 1 1 1 0 0 1 0 0 1 0 0 0 0 0 1 0 0 1 1 0 0 0 0 0 1 1 0 0 0 1 1 0 0 1 0 0\n",
            " 0 1 0 0 1 0 0 0 0 0 0 1]\n",
            "[0 0 1 0 1 0 0 0 0 0 0 1 0 0 1 1 1 1 1 1 0 1 0 1 1 1 1 0 0 1 1 0 0 0 1 0 0\n",
            " 0 0 0 0 0 1 1 0 0 0 0 0 1 0 1 1 0 1 0 1 1 1 0 0 0 0 0 0 0 1 0 1 0 0 1 0 0\n",
            " 0 0 1 0 0 1 0 1 1 0 0 0 0 1 1 0 0 0 0 0 0 1 0 1 0 0 1 1 1 1 1 1 1 0 0 1 0\n",
            " 0 0 0 0 0 0 0 0 1 0 0 1 1 1 1 0 1 0 0 0 0 1 0 0 1 0 0 1 0 0 0 0 1 1 0 0 0\n",
            " 0 0 1 1 0 1 1 1 1 0 1 0]\n",
            "[0 1 0 0 0 1 1 0 0 0 0 0 1 0 0 0 0 0 0 0 1 0 0 0 0 0 0 0 0 0 0 0 1 0 0 1 1\n",
            " 0 1 1 1 0 0 0 0 0 0 0 0 0 1 0 0 0 0 0 0 0 0 0 1 0 0 1 1 0 0 1 0 1 1 0 1 1\n",
            " 1 0 0 0 1 0 0 0 0 1 1 0 0 0 0 1 0 0 0 0 0 0 1 0 1 0 0 0 0 0 0 0 0 0 0 0 0\n",
            " 1 0 0 0 1 1 0 1 0 0 1 0 0 0 0 0 0 1 0 0 1 0 1 1 0 0 0 0 1 1 0 0 0 0 0 1 1\n",
            " 1 0 0 0 0 0 0 0 0 1 0 0]\n"
          ]
        }
      ]
    },
    {
      "cell_type": "code",
      "metadata": {
        "id": "mUgXVWOlV8eh"
      },
      "source": [
        "def sigmoid(z):\n",
        "    # Activation function used to map any real value between 0 and 1\n",
        "    return 1 / (1 + np.exp(-z))\n",
        "\n",
        "def predict(weights, bias, X):\n",
        "  linear_model = np.dot(X, weights) + bias\n",
        "  y_predicted = sigmoid(linear_model)\n",
        "  y_predicted_cls = [1 if i > 0.5 else 0 for i in y_predicted]\n",
        "  return np.array(y_predicted_cls)\n",
        "\n",
        "# def net_input(theta, x):\n",
        "#     # Computes the weighted sum of inputs\n",
        "#     return np.dot(theta, x.T)\n",
        "\n",
        "def probability(weights, bias, x):\n",
        "    # Returns the probability after passing through sigmoid\n",
        "    linear_model = (np.dot(x, weights) + bias)\n",
        "    y_pred = sigmoid(linear_model)\n",
        "    return y_pred\n",
        "\n",
        "def cost_function(weights, bias, x, y):\n",
        "    # Computes the cost function for all the training samples \n",
        "    m = x.shape[0]\n",
        "    total_cost = 0\n",
        "    h = probability(weights, bias, x)\n",
        "    for i in range(m):\n",
        "      total_cost += y[i] * np.log(h[i]) + (1 - y[i]) * np.log(1 - h[i])\n",
        "    total_cost = -(total_cost/m);\n",
        "    return total_cost\n",
        "\n",
        "def accuracy(y_true, y_pred):\n",
        "    accuracy = np.sum(y_true == y_pred)\n",
        "    accuracy = accuracy/len(y_true)\n",
        "    return accuracy   \n",
        "\n",
        "def batch_gradient_descent(X, y_true, epochs, learning_rate, rho):\n",
        "\n",
        "    number_of_features = X.shape[1] #number of the feature\n",
        "    # numpy array with 1 row and columns equal to number of features.\n",
        "    weights = np.zeros(number_of_features)  \n",
        "    bias = 0\n",
        "    total_samples = X.shape[0] # number of rows in X\n",
        "    \n",
        "    cost_list = []\n",
        "    epoch_list = []\n",
        "    prev_jw = 100000\n",
        "    \n",
        "    for i in range(epochs+1):  \n",
        "        y_predicted = sigmoid(np.dot(X, weights) + bias)  # = w1*x1 + w2*x2 + bias\n",
        "        jw = cost_function(weights , bias, X, y_true)\n",
        "        \n",
        "        w_grad = (1/total_samples) * np.dot(X.T, (y_predicted - y_true))\n",
        "        b_grad = (1/total_samples)*np.sum(y_predicted - y_true)\n",
        "        \n",
        "        weights -=  learning_rate * w_grad\n",
        "        bias -=  learning_rate * b_grad\n",
        "        \n",
        "        # jw = np.mean(np.square(y_true-y_predicted)) # MSE (Mean Squared Error)\n",
        "        if i%10==0:\n",
        "            cost_list.append(jw)\n",
        "            epoch_list.append(i)\n",
        "        # print(\"Abs Difference = \", abs(prev_jw - jw))  \n",
        "        # if abs(prev_jw - jw) <= rho:\n",
        "          # print(\"dif = \", abs(prev_jw - jw))\n",
        "          # break\n",
        "        prev_jw = jw\n",
        "        \n",
        "    return weights, bias, jw, cost_list, epoch_list\n",
        "\n",
        "\n",
        "def stochastic_gradient_descent(X, y_true, epochs, learning_rate, rho):\n",
        " \n",
        "    number_of_features = X.shape[1]\n",
        "    # numpy array with 1 row and columns equal to number of features. In \n",
        "    # our case number_of_features = 3 (area, bedroom and age)\n",
        "    weights = np.ones(shape=(number_of_features)) \n",
        "    bias = 0\n",
        "    total_samples = X.shape[0]\n",
        "     \n",
        "    #calculation of prev_jw\n",
        "    prev_jw = 0\n",
        "    \n",
        "    cost_list = []\n",
        "    epoch_list = []\n",
        "    \n",
        "    for i in range(epochs): \n",
        "        jw = 0   \n",
        "        for j in range(total_samples): # random index from total samples\n",
        "          sample_x = X[j]\n",
        "          sample_y = y_true[j]\n",
        "          y_predicted = sigmoid(np.dot(sample_x, weights) + bias)\n",
        "          # y_predicted = np.dot(weights, sample_x.T) + bias\n",
        "          jw = jw + (sample_y - y_predicted) ** 2\n",
        "\n",
        "          w_grad =  np.dot(sample_x.T, (y_predicted - sample_y))\n",
        "          b_grad =  np.sum(y_predicted - sample_y)\n",
        "\n",
        "          # w_grad = (sample_x.T.dot(sample_y-y_predicted))\n",
        "          # b_grad = (sample_y-y_predicted)\n",
        "          \n",
        "          weights = weights - learning_rate * w_grad\n",
        "          bias = bias - learning_rate * b_grad\n",
        "        \n",
        "        jw = (jw)/(2*total_samples)\n",
        "        \n",
        "        # if i%100==0: # at every 100th iteration record the cost and epoch value\n",
        "        cost_list.append(jw)\n",
        "        epoch_list.append(i)\n",
        "        if(abs(prev_jw - jw) < rho):\n",
        "          break;\n",
        "        prev_jw = jw\n",
        "    return weights, bias, jw, cost_list, epoch_list\n",
        "\n",
        "\n",
        "\n",
        "# weights, bias, cost, cost_list, epoch_list = batch_gradient_descent(x_train,np.array(y_train).reshape(np.array(y_train).shape[0],),50)\n",
        "\n"
      ],
      "execution_count": null,
      "outputs": []
    },
    {
      "cell_type": "code",
      "metadata": {
        "colab": {
          "base_uri": "https://localhost:8080/"
        },
        "id": "EhJ6Rr9XXKe8",
        "outputId": "62e1661f-6fb8-4373-bf51-b8d737622b89"
      },
      "source": [
        "alpha = [0.3]\n",
        "rho = [0.00001]\n",
        "epochs = [300]\n",
        "for a, r, e in zip(alpha, rho, epochs):\n",
        "  w, b, cost, cost_list, epoch_list = stochastic_gradient_descent(x_train,np.array(y_train1).reshape(np.array(y_train1).shape[0],), e, a, r)\n",
        "  print(\"Alpha = \", a, \"Epochs = \", e, \"Rho = \", r)\n",
        "  print(\"Train MSE : \", cost)\n",
        "  print(\"-------------------------------------------\")\n"
      ],
      "execution_count": null,
      "outputs": [
        {
          "output_type": "stream",
          "name": "stdout",
          "text": [
            "Alpha =  0.3 Epochs =  300 Rho =  1e-05\n",
            "Train MSE :  0.0007553197909306597\n",
            "-------------------------------------------\n"
          ]
        }
      ]
    },
    {
      "cell_type": "code",
      "metadata": {
        "colab": {
          "base_uri": "https://localhost:8080/"
        },
        "id": "apzQVi5_hWTr",
        "outputId": "695e29b9-0114-47dc-de32-091d85c265f9"
      },
      "source": [
        "alpha = [0.3]\n",
        "rho = [0.00001]\n",
        "epochs = [300]\n",
        "for a, r, e in zip(alpha, rho, epochs):\n",
        "  w, b, cost, cost_list, epoch_list = stochastic_gradient_descent(x_train,np.array(y_train2).reshape(np.array(y_train2).shape[0],), e, a, r)\n",
        "  print(\"Alpha = \", a, \"Epochs = \", e, \"Rho = \", r)\n",
        "  print(\"Train MSE : \", cost)\n",
        "  print(\"-------------------------------------------\")\n"
      ],
      "execution_count": null,
      "outputs": [
        {
          "output_type": "stream",
          "name": "stdout",
          "text": [
            "Alpha =  0.3 Epochs =  300 Rho =  1e-05\n",
            "Train MSE :  0.0021926829061544684\n",
            "-------------------------------------------\n"
          ]
        }
      ]
    },
    {
      "cell_type": "code",
      "metadata": {
        "colab": {
          "base_uri": "https://localhost:8080/"
        },
        "id": "PjpGY0Shhce6",
        "outputId": "5af4bf56-7795-486f-b102-1d87ab6ce913"
      },
      "source": [
        "alpha = [0.3]\n",
        "rho = [0.00001]\n",
        "epochs = [300]\n",
        "for a, r, e in zip(alpha, rho, epochs):\n",
        "  w, b, cost, cost_list, epoch_list = stochastic_gradient_descent(x_train,np.array(y_train3).reshape(np.array(y_train3).shape[0],), e, a, r)\n",
        "  print(\"Alpha = \", a, \"Epochs = \", e, \"Rho = \", r)\n",
        "  print(\"Train MSE : \", cost)\n",
        "  print(\"-------------------------------------------\")\n"
      ],
      "execution_count": null,
      "outputs": [
        {
          "output_type": "stream",
          "name": "stdout",
          "text": [
            "Alpha =  0.3 Epochs =  300 Rho =  1e-05\n",
            "Train MSE :  0.0009031961514642401\n",
            "-------------------------------------------\n"
          ]
        }
      ]
    },
    {
      "cell_type": "code",
      "metadata": {
        "colab": {
          "base_uri": "https://localhost:8080/"
        },
        "id": "a5ON8Y_FhgEj",
        "outputId": "131c11f0-d174-4417-c407-0507243f82ba"
      },
      "source": [
        "print(w)"
      ],
      "execution_count": null,
      "outputs": [
        {
          "output_type": "stream",
          "name": "stdout",
          "text": [
            "[  3.5312276    3.50141061   4.84197283   3.18602492   2.50584296\n",
            "  -1.78396907 -10.79550976  -0.26812835  -4.95703863   8.25926148\n",
            "  -7.86944655  -9.35916507   1.04094631]\n"
          ]
        }
      ]
    },
    {
      "cell_type": "code",
      "metadata": {
        "colab": {
          "base_uri": "https://localhost:8080/"
        },
        "id": "GgK9ogC4hwIg",
        "outputId": "6c144c91-4f02-459d-add5-fbf862d02bc6"
      },
      "source": [
        "print(b)"
      ],
      "execution_count": null,
      "outputs": [
        {
          "output_type": "stream",
          "name": "stdout",
          "text": [
            "-2.2620286384941917\n"
          ]
        }
      ]
    },
    {
      "cell_type": "code",
      "metadata": {
        "colab": {
          "base_uri": "https://localhost:8080/"
        },
        "id": "kJBKFU8IhwDG",
        "outputId": "52b5fad9-2325-4183-9d30-0fe6ff51efff"
      },
      "source": [
        "print(\"Alpha = \", a, \"Epochs = \", e, \"Rho = \", r)"
      ],
      "execution_count": null,
      "outputs": [
        {
          "output_type": "stream",
          "name": "stdout",
          "text": [
            "Alpha =  0.3 Epochs =  300 Rho =  1e-05\n"
          ]
        }
      ]
    },
    {
      "cell_type": "code",
      "metadata": {
        "colab": {
          "base_uri": "https://localhost:8080/",
          "height": 1000
        },
        "id": "hbLRfxz3h-ba",
        "outputId": "7ae77d12-432f-41e4-c242-9b1cefdb5efa"
      },
      "source": [
        "ratio = 0.2\n",
        "from sklearn.model_selection import train_test_split\n",
        "import numpy as np\n",
        "for i in range(5):\n",
        "  print(\"\\n############ Fold - \", i+1 , \"----------------------Splitting of dataset with X:Y ratio of \",int(ratio*100),\" :\",int(100-ratio*100))\n",
        "  x_trainf, x_testf, y_trainf, y_testf = train_test_split(x_train, y_train, test_size= ratio)\n",
        "  y_trainf1 = np.where(y_trainf == 0, 1,0)\n",
        "  y_trainf2 = np.where(y_trainf == 1, 1,0)\n",
        "  y_trainf3 = np.where(y_trainf == 2, 1,0)\n",
        "  y_testf1 = np.where(y_testf == 0, 1,0)\n",
        "  y_testf2 = np.where(y_testf == 1, 1,0)\n",
        "  y_testf3 = np.where(y_testf == 2, 1,0)\n",
        "  alpha = [0.3]\n",
        "  rho = [0.00001]\n",
        "  epochs = [300]\n",
        "  for a, r, e in zip(alpha, rho, epochs):\n",
        "    w1, b1, cost1, cost_list1, epoch_list1 = stochastic_gradient_descent(x_trainf,np.array(y_trainf1).reshape(np.array(y_trainf1).shape[0],), e, a, r)\n",
        "    print(\"Alpha = \", a, \"Epochs = \", e, \"Rho = \", r)\n",
        "    print(\"Train Accuracy\", accuracy(np.array(y_trainf1).reshape(np.array(y_trainf1).shape[0],), predict(w1, b1, x_trainf)))\n",
        "    print(\"Test Accuracy\", accuracy(np.array(y_testf1).reshape(np.array(y_testf1).shape[0],), predict(w1, b1, x_testf)))\n",
        "    print(\"Class MSE : \", cost1)\n",
        "    print(\"-------------------------------------------\")\n",
        "    w2, b2, cost2, cost_list2, epoch_list2 = stochastic_gradient_descent(x_trainf,np.array(y_trainf2).reshape(np.array(y_trainf2).shape[0],), e, a, r)\n",
        "    print(\"Alpha = \", a, \"Epochs = \", e, \"Rho = \", r)\n",
        "    print(\"Train Accuracy\", accuracy(np.array(y_trainf2).reshape(np.array(y_trainf2).shape[0],), predict(w2, b2, x_trainf)))\n",
        "    \n",
        "    print(\"Train MSE : \", cost2)\n",
        "    print(\"-------------------------------------------\")\n",
        "    # w3, b3, cost3, cost_list3, epoch_list3 = stochastic_gradient_descent(x_trainf,np.array(y_train3).reshape(np.array(y_trainf3).shape[0],), e, a, r)\n",
        "    print(\"Alpha = \", a, \"Epochs = \", e, \"Rho = \", r)\n",
        "    print(\"Accuracy\", accuracy(np.array(y_trainf3).reshape(np.array(y_trainf3).shape[0],), predict(w3, b3, x_trainf)))\n",
        "    print(\"Train MSE : \", cost3)\n",
        "    print(\"-------------------------------------------\")\n",
        "\n",
        "    print(y_train1)\n",
        "    print(y_train2)\n",
        "    print(y_train3)\n",
        "\n",
        "  # print(\"\\nTraining dataset ---------------------------------------\\n\")\n",
        "  # print(train)\n",
        "  # print(\"\\nTest dataset ---------------------------------------\\n\")\n",
        "  # print(test)\n",
        "  ratio += 0.2"
      ],
      "execution_count": null,
      "outputs": [
        {
          "output_type": "stream",
          "name": "stdout",
          "text": [
            "\n",
            "############ Fold -  1 ----------------------Splitting of dataset with X:Y ratio of  20  : 80\n",
            "Alpha =  0.3 Epochs =  300 Rho =  1e-05\n",
            "Train Accuracy 1.0\n",
            "Test Accuracy 0.96875\n",
            "Class MSE :  0.0008587438253259658\n",
            "-------------------------------------------\n",
            "Alpha =  0.3 Epochs =  300 Rho =  1e-05\n",
            "Train Accuracy 1.0\n",
            "Train MSE :  0.0016763123380592662\n",
            "-------------------------------------------\n",
            "Alpha =  0.3 Epochs =  300 Rho =  1e-05\n",
            "Accuracy 0.9765625\n",
            "Train MSE :  0.00036399493044143643\n",
            "-------------------------------------------\n",
            "[1 0 0 1 0 0 0 1 1 1 1 0 0 1 0 0 0 0 0 0 0 0 1 0 0 0 0 1 1 0 0 1 0 1 0 0 0\n",
            " 1 0 0 0 1 0 0 1 1 1 1 1 0 0 0 0 1 0 1 0 0 0 1 0 1 1 0 0 1 0 0 0 0 0 0 0 0\n",
            " 0 1 0 1 0 0 1 0 0 0 0 1 1 0 0 0 1 1 1 1 1 0 0 0 0 1 0 0 0 0 0 0 0 1 1 0 1\n",
            " 0 1 1 1 0 0 1 0 0 1 0 0 0 0 0 1 0 0 1 1 0 0 0 0 0 1 1 0 0 0 1 1 0 0 1 0 0\n",
            " 0 1 0 0 1 0 0 0 0 0 0 1]\n",
            "[0 0 1 0 1 0 0 0 0 0 0 1 0 0 1 1 1 1 1 1 0 1 0 1 1 1 1 0 0 1 1 0 0 0 1 0 0\n",
            " 0 0 0 0 0 1 1 0 0 0 0 0 1 0 1 1 0 1 0 1 1 1 0 0 0 0 0 0 0 1 0 1 0 0 1 0 0\n",
            " 0 0 1 0 0 1 0 1 1 0 0 0 0 1 1 0 0 0 0 0 0 1 0 1 0 0 1 1 1 1 1 1 1 0 0 1 0\n",
            " 0 0 0 0 0 0 0 0 1 0 0 1 1 1 1 0 1 0 0 0 0 1 0 0 1 0 0 1 0 0 0 0 1 1 0 0 0\n",
            " 0 0 1 1 0 1 1 1 1 0 1 0]\n",
            "[0 1 0 0 0 1 1 0 0 0 0 0 1 0 0 0 0 0 0 0 1 0 0 0 0 0 0 0 0 0 0 0 1 0 0 1 1\n",
            " 0 1 1 1 0 0 0 0 0 0 0 0 0 1 0 0 0 0 0 0 0 0 0 1 0 0 1 1 0 0 1 0 1 1 0 1 1\n",
            " 1 0 0 0 1 0 0 0 0 1 1 0 0 0 0 1 0 0 0 0 0 0 1 0 1 0 0 0 0 0 0 0 0 0 0 0 0\n",
            " 1 0 0 0 1 1 0 1 0 0 1 0 0 0 0 0 0 1 0 0 1 0 1 1 0 0 0 0 1 1 0 0 0 0 0 1 1\n",
            " 1 0 0 0 0 0 0 0 0 1 0 0]\n",
            "\n",
            "############ Fold -  2 ----------------------Splitting of dataset with X:Y ratio of  40  : 60\n",
            "Alpha =  0.3 Epochs =  300 Rho =  1e-05\n",
            "Train Accuracy 1.0\n",
            "Test Accuracy 1.0\n",
            "Class MSE :  0.0009935409918279444\n",
            "-------------------------------------------\n",
            "Alpha =  0.3 Epochs =  300 Rho =  1e-05\n",
            "Train Accuracy 1.0\n",
            "Train MSE :  0.0017264934056196244\n",
            "-------------------------------------------\n",
            "Alpha =  0.3 Epochs =  300 Rho =  1e-05\n",
            "Accuracy 0.9895833333333334\n",
            "Train MSE :  0.00036399493044143643\n",
            "-------------------------------------------\n",
            "[1 0 0 1 0 0 0 1 1 1 1 0 0 1 0 0 0 0 0 0 0 0 1 0 0 0 0 1 1 0 0 1 0 1 0 0 0\n",
            " 1 0 0 0 1 0 0 1 1 1 1 1 0 0 0 0 1 0 1 0 0 0 1 0 1 1 0 0 1 0 0 0 0 0 0 0 0\n",
            " 0 1 0 1 0 0 1 0 0 0 0 1 1 0 0 0 1 1 1 1 1 0 0 0 0 1 0 0 0 0 0 0 0 1 1 0 1\n",
            " 0 1 1 1 0 0 1 0 0 1 0 0 0 0 0 1 0 0 1 1 0 0 0 0 0 1 1 0 0 0 1 1 0 0 1 0 0\n",
            " 0 1 0 0 1 0 0 0 0 0 0 1]\n",
            "[0 0 1 0 1 0 0 0 0 0 0 1 0 0 1 1 1 1 1 1 0 1 0 1 1 1 1 0 0 1 1 0 0 0 1 0 0\n",
            " 0 0 0 0 0 1 1 0 0 0 0 0 1 0 1 1 0 1 0 1 1 1 0 0 0 0 0 0 0 1 0 1 0 0 1 0 0\n",
            " 0 0 1 0 0 1 0 1 1 0 0 0 0 1 1 0 0 0 0 0 0 1 0 1 0 0 1 1 1 1 1 1 1 0 0 1 0\n",
            " 0 0 0 0 0 0 0 0 1 0 0 1 1 1 1 0 1 0 0 0 0 1 0 0 1 0 0 1 0 0 0 0 1 1 0 0 0\n",
            " 0 0 1 1 0 1 1 1 1 0 1 0]\n",
            "[0 1 0 0 0 1 1 0 0 0 0 0 1 0 0 0 0 0 0 0 1 0 0 0 0 0 0 0 0 0 0 0 1 0 0 1 1\n",
            " 0 1 1 1 0 0 0 0 0 0 0 0 0 1 0 0 0 0 0 0 0 0 0 1 0 0 1 1 0 0 1 0 1 1 0 1 1\n",
            " 1 0 0 0 1 0 0 0 0 1 1 0 0 0 0 1 0 0 0 0 0 0 1 0 1 0 0 0 0 0 0 0 0 0 0 0 0\n",
            " 1 0 0 0 1 1 0 1 0 0 1 0 0 0 0 0 0 1 0 0 1 0 1 1 0 0 0 0 1 1 0 0 0 0 0 1 1\n",
            " 1 0 0 0 0 0 0 0 0 1 0 0]\n",
            "\n",
            "############ Fold -  3 ----------------------Splitting of dataset with X:Y ratio of  60  : 39\n",
            "Alpha =  0.3 Epochs =  300 Rho =  1e-05\n",
            "Train Accuracy 1.0\n",
            "Test Accuracy 0.979381443298969\n",
            "Class MSE :  0.0007152852441893071\n",
            "-------------------------------------------\n",
            "Alpha =  0.3 Epochs =  300 Rho =  1e-05\n",
            "Train Accuracy 1.0\n",
            "Train MSE :  0.0012830820493245096\n",
            "-------------------------------------------\n",
            "Alpha =  0.3 Epochs =  300 Rho =  1e-05\n",
            "Accuracy 0.9682539682539683\n",
            "Train MSE :  0.00036399493044143643\n",
            "-------------------------------------------\n",
            "[1 0 0 1 0 0 0 1 1 1 1 0 0 1 0 0 0 0 0 0 0 0 1 0 0 0 0 1 1 0 0 1 0 1 0 0 0\n",
            " 1 0 0 0 1 0 0 1 1 1 1 1 0 0 0 0 1 0 1 0 0 0 1 0 1 1 0 0 1 0 0 0 0 0 0 0 0\n",
            " 0 1 0 1 0 0 1 0 0 0 0 1 1 0 0 0 1 1 1 1 1 0 0 0 0 1 0 0 0 0 0 0 0 1 1 0 1\n",
            " 0 1 1 1 0 0 1 0 0 1 0 0 0 0 0 1 0 0 1 1 0 0 0 0 0 1 1 0 0 0 1 1 0 0 1 0 0\n",
            " 0 1 0 0 1 0 0 0 0 0 0 1]\n",
            "[0 0 1 0 1 0 0 0 0 0 0 1 0 0 1 1 1 1 1 1 0 1 0 1 1 1 1 0 0 1 1 0 0 0 1 0 0\n",
            " 0 0 0 0 0 1 1 0 0 0 0 0 1 0 1 1 0 1 0 1 1 1 0 0 0 0 0 0 0 1 0 1 0 0 1 0 0\n",
            " 0 0 1 0 0 1 0 1 1 0 0 0 0 1 1 0 0 0 0 0 0 1 0 1 0 0 1 1 1 1 1 1 1 0 0 1 0\n",
            " 0 0 0 0 0 0 0 0 1 0 0 1 1 1 1 0 1 0 0 0 0 1 0 0 1 0 0 1 0 0 0 0 1 1 0 0 0\n",
            " 0 0 1 1 0 1 1 1 1 0 1 0]\n",
            "[0 1 0 0 0 1 1 0 0 0 0 0 1 0 0 0 0 0 0 0 1 0 0 0 0 0 0 0 0 0 0 0 1 0 0 1 1\n",
            " 0 1 1 1 0 0 0 0 0 0 0 0 0 1 0 0 0 0 0 0 0 0 0 1 0 0 1 1 0 0 1 0 1 1 0 1 1\n",
            " 1 0 0 0 1 0 0 0 0 1 1 0 0 0 0 1 0 0 0 0 0 0 1 0 1 0 0 0 0 0 0 0 0 0 0 0 0\n",
            " 1 0 0 0 1 1 0 1 0 0 1 0 0 0 0 0 0 1 0 0 1 0 1 1 0 0 0 0 1 1 0 0 0 0 0 1 1\n",
            " 1 0 0 0 0 0 0 0 0 1 0 0]\n",
            "\n",
            "############ Fold -  4 ----------------------Splitting of dataset with X:Y ratio of  80  : 20\n",
            "Alpha =  0.3 Epochs =  300 Rho =  1e-05\n",
            "Train Accuracy 1.0\n",
            "Test Accuracy 0.9609375\n",
            "Class MSE :  0.0011448875338147205\n",
            "-------------------------------------------\n",
            "Alpha =  0.3 Epochs =  300 Rho =  1e-05\n",
            "Train Accuracy 1.0\n",
            "Train MSE :  0.001480116463424163\n",
            "-------------------------------------------\n",
            "Alpha =  0.3 Epochs =  300 Rho =  1e-05\n",
            "Accuracy 0.96875\n",
            "Train MSE :  0.00036399493044143643\n",
            "-------------------------------------------\n",
            "[1 0 0 1 0 0 0 1 1 1 1 0 0 1 0 0 0 0 0 0 0 0 1 0 0 0 0 1 1 0 0 1 0 1 0 0 0\n",
            " 1 0 0 0 1 0 0 1 1 1 1 1 0 0 0 0 1 0 1 0 0 0 1 0 1 1 0 0 1 0 0 0 0 0 0 0 0\n",
            " 0 1 0 1 0 0 1 0 0 0 0 1 1 0 0 0 1 1 1 1 1 0 0 0 0 1 0 0 0 0 0 0 0 1 1 0 1\n",
            " 0 1 1 1 0 0 1 0 0 1 0 0 0 0 0 1 0 0 1 1 0 0 0 0 0 1 1 0 0 0 1 1 0 0 1 0 0\n",
            " 0 1 0 0 1 0 0 0 0 0 0 1]\n",
            "[0 0 1 0 1 0 0 0 0 0 0 1 0 0 1 1 1 1 1 1 0 1 0 1 1 1 1 0 0 1 1 0 0 0 1 0 0\n",
            " 0 0 0 0 0 1 1 0 0 0 0 0 1 0 1 1 0 1 0 1 1 1 0 0 0 0 0 0 0 1 0 1 0 0 1 0 0\n",
            " 0 0 1 0 0 1 0 1 1 0 0 0 0 1 1 0 0 0 0 0 0 1 0 1 0 0 1 1 1 1 1 1 1 0 0 1 0\n",
            " 0 0 0 0 0 0 0 0 1 0 0 1 1 1 1 0 1 0 0 0 0 1 0 0 1 0 0 1 0 0 0 0 1 1 0 0 0\n",
            " 0 0 1 1 0 1 1 1 1 0 1 0]\n",
            "[0 1 0 0 0 1 1 0 0 0 0 0 1 0 0 0 0 0 0 0 1 0 0 0 0 0 0 0 0 0 0 0 1 0 0 1 1\n",
            " 0 1 1 1 0 0 0 0 0 0 0 0 0 1 0 0 0 0 0 0 0 0 0 1 0 0 1 1 0 0 1 0 1 1 0 1 1\n",
            " 1 0 0 0 1 0 0 0 0 1 1 0 0 0 0 1 0 0 0 0 0 0 1 0 1 0 0 0 0 0 0 0 0 0 0 0 0\n",
            " 1 0 0 0 1 1 0 1 0 0 1 0 0 0 0 0 0 1 0 0 1 0 1 1 0 0 0 0 1 1 0 0 0 0 0 1 1\n",
            " 1 0 0 0 0 0 0 0 0 1 0 0]\n",
            "\n",
            "############ Fold -  5 ----------------------Splitting of dataset with X:Y ratio of  100  : 0\n"
          ]
        },
        {
          "output_type": "error",
          "ename": "ValueError",
          "evalue": "ignored",
          "traceback": [
            "\u001b[0;31m---------------------------------------------------------------------------\u001b[0m",
            "\u001b[0;31mValueError\u001b[0m                                Traceback (most recent call last)",
            "\u001b[0;32m<ipython-input-148-bee218740f7c>\u001b[0m in \u001b[0;36m<module>\u001b[0;34m()\u001b[0m\n\u001b[1;32m      4\u001b[0m \u001b[0;32mfor\u001b[0m \u001b[0mi\u001b[0m \u001b[0;32min\u001b[0m \u001b[0mrange\u001b[0m\u001b[0;34m(\u001b[0m\u001b[0;36m5\u001b[0m\u001b[0;34m)\u001b[0m\u001b[0;34m:\u001b[0m\u001b[0;34m\u001b[0m\u001b[0;34m\u001b[0m\u001b[0m\n\u001b[1;32m      5\u001b[0m   \u001b[0mprint\u001b[0m\u001b[0;34m(\u001b[0m\u001b[0;34m\"\\n############ Fold - \"\u001b[0m\u001b[0;34m,\u001b[0m \u001b[0mi\u001b[0m\u001b[0;34m+\u001b[0m\u001b[0;36m1\u001b[0m \u001b[0;34m,\u001b[0m \u001b[0;34m\"----------------------Splitting of dataset with X:Y ratio of \"\u001b[0m\u001b[0;34m,\u001b[0m\u001b[0mint\u001b[0m\u001b[0;34m(\u001b[0m\u001b[0mratio\u001b[0m\u001b[0;34m*\u001b[0m\u001b[0;36m100\u001b[0m\u001b[0;34m)\u001b[0m\u001b[0;34m,\u001b[0m\u001b[0;34m\" :\"\u001b[0m\u001b[0;34m,\u001b[0m\u001b[0mint\u001b[0m\u001b[0;34m(\u001b[0m\u001b[0;36m100\u001b[0m\u001b[0;34m-\u001b[0m\u001b[0mratio\u001b[0m\u001b[0;34m*\u001b[0m\u001b[0;36m100\u001b[0m\u001b[0;34m)\u001b[0m\u001b[0;34m)\u001b[0m\u001b[0;34m\u001b[0m\u001b[0;34m\u001b[0m\u001b[0m\n\u001b[0;32m----> 6\u001b[0;31m   \u001b[0mx_trainf\u001b[0m\u001b[0;34m,\u001b[0m \u001b[0mx_testf\u001b[0m\u001b[0;34m,\u001b[0m \u001b[0my_trainf\u001b[0m\u001b[0;34m,\u001b[0m \u001b[0my_testf\u001b[0m \u001b[0;34m=\u001b[0m \u001b[0mtrain_test_split\u001b[0m\u001b[0;34m(\u001b[0m\u001b[0mx_train\u001b[0m\u001b[0;34m,\u001b[0m \u001b[0my_train\u001b[0m\u001b[0;34m,\u001b[0m \u001b[0mtest_size\u001b[0m\u001b[0;34m=\u001b[0m\u001b[0mratio\u001b[0m\u001b[0;34m)\u001b[0m\u001b[0;34m\u001b[0m\u001b[0;34m\u001b[0m\u001b[0m\n\u001b[0m\u001b[1;32m      7\u001b[0m   \u001b[0my_trainf1\u001b[0m \u001b[0;34m=\u001b[0m \u001b[0mnp\u001b[0m\u001b[0;34m.\u001b[0m\u001b[0mwhere\u001b[0m\u001b[0;34m(\u001b[0m\u001b[0my_trainf\u001b[0m \u001b[0;34m==\u001b[0m \u001b[0;36m0\u001b[0m\u001b[0;34m,\u001b[0m \u001b[0;36m1\u001b[0m\u001b[0;34m,\u001b[0m\u001b[0;36m0\u001b[0m\u001b[0;34m)\u001b[0m\u001b[0;34m\u001b[0m\u001b[0;34m\u001b[0m\u001b[0m\n\u001b[1;32m      8\u001b[0m   \u001b[0my_trainf2\u001b[0m \u001b[0;34m=\u001b[0m \u001b[0mnp\u001b[0m\u001b[0;34m.\u001b[0m\u001b[0mwhere\u001b[0m\u001b[0;34m(\u001b[0m\u001b[0my_trainf\u001b[0m \u001b[0;34m==\u001b[0m \u001b[0;36m1\u001b[0m\u001b[0;34m,\u001b[0m \u001b[0;36m1\u001b[0m\u001b[0;34m,\u001b[0m\u001b[0;36m0\u001b[0m\u001b[0;34m)\u001b[0m\u001b[0;34m\u001b[0m\u001b[0;34m\u001b[0m\u001b[0m\n",
            "\u001b[0;32m/usr/local/lib/python3.7/dist-packages/sklearn/model_selection/_split.py\u001b[0m in \u001b[0;36mtrain_test_split\u001b[0;34m(*arrays, **options)\u001b[0m\n\u001b[1;32m   2120\u001b[0m     \u001b[0mn_samples\u001b[0m \u001b[0;34m=\u001b[0m \u001b[0m_num_samples\u001b[0m\u001b[0;34m(\u001b[0m\u001b[0marrays\u001b[0m\u001b[0;34m[\u001b[0m\u001b[0;36m0\u001b[0m\u001b[0;34m]\u001b[0m\u001b[0;34m)\u001b[0m\u001b[0;34m\u001b[0m\u001b[0;34m\u001b[0m\u001b[0m\n\u001b[1;32m   2121\u001b[0m     n_train, n_test = _validate_shuffle_split(n_samples, test_size, train_size,\n\u001b[0;32m-> 2122\u001b[0;31m                                               default_test_size=0.25)\n\u001b[0m\u001b[1;32m   2123\u001b[0m \u001b[0;34m\u001b[0m\u001b[0m\n\u001b[1;32m   2124\u001b[0m     \u001b[0;32mif\u001b[0m \u001b[0mshuffle\u001b[0m \u001b[0;32mis\u001b[0m \u001b[0;32mFalse\u001b[0m\u001b[0;34m:\u001b[0m\u001b[0;34m\u001b[0m\u001b[0;34m\u001b[0m\u001b[0m\n",
            "\u001b[0;32m/usr/local/lib/python3.7/dist-packages/sklearn/model_selection/_split.py\u001b[0m in \u001b[0;36m_validate_shuffle_split\u001b[0;34m(n_samples, test_size, train_size, default_test_size)\u001b[0m\n\u001b[1;32m   1755\u001b[0m         raise ValueError('test_size={0} should be either positive and smaller'\n\u001b[1;32m   1756\u001b[0m                          \u001b[0;34m' than the number of samples {1} or a float in the '\u001b[0m\u001b[0;34m\u001b[0m\u001b[0;34m\u001b[0m\u001b[0m\n\u001b[0;32m-> 1757\u001b[0;31m                          '(0, 1) range'.format(test_size, n_samples))\n\u001b[0m\u001b[1;32m   1758\u001b[0m \u001b[0;34m\u001b[0m\u001b[0m\n\u001b[1;32m   1759\u001b[0m     if (train_size_type == 'i' and (train_size >= n_samples or train_size <= 0)\n",
            "\u001b[0;31mValueError\u001b[0m: test_size=1.0 should be either positive and smaller than the number of samples 160 or a float in the (0, 1) range"
          ]
        }
      ]
    },
    {
      "cell_type": "code",
      "metadata": {
        "id": "ylp96_H-aZ10"
      },
      "source": [
        ""
      ],
      "execution_count": null,
      "outputs": []
    },
    {
      "cell_type": "code",
      "metadata": {
        "id": "lgKANRwEWAjv"
      },
      "source": [
        ""
      ],
      "execution_count": null,
      "outputs": []
    }
  ]
}