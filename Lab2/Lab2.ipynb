{
  "nbformat": 4,
  "nbformat_minor": 0,
  "metadata": {
    "colab": {
      "name": "Lab2.ipynb",
      "provenance": [],
      "authorship_tag": "ABX9TyN89WT0qni8ppvawtin1a9l",
      "include_colab_link": true
    },
    "kernelspec": {
      "name": "python3",
      "display_name": "Python 3"
    },
    "language_info": {
      "name": "python"
    }
  },
  "cells": [
    {
      "cell_type": "markdown",
      "metadata": {
        "id": "view-in-github",
        "colab_type": "text"
      },
      "source": [
        "<a href=\"https://colab.research.google.com/github/shivam-cse/CS-306-Machine-Learning-Work/blob/main/Lab2/Lab2.ipynb\" target=\"_parent\"><img src=\"https://colab.research.google.com/assets/colab-badge.svg\" alt=\"Open In Colab\"/></a>"
      ]
    },
    {
      "cell_type": "markdown",
      "metadata": {
        "id": "fb_4uXU7Hdox"
      },
      "source": [
        "# **Question No - 1**"
      ]
    },
    {
      "cell_type": "code",
      "metadata": {
        "colab": {
          "base_uri": "https://localhost:8080/"
        },
        "id": "Uz8o4wloALnc",
        "outputId": "b9f3019c-77b7-4425-d681-f4aebcf6f119"
      },
      "source": [
        "import pandas as pd\n",
        "df = pd.read_csv('student_scores.csv')\n",
        "# print(df)\n",
        "print(\"fearture = \", end=\"\")\n",
        "print(len(df.columns)-1)\n",
        "print(\"Pattern  = \", end=\"\")\n",
        "print(len(df))\n",
        "print(\"Range of output : \",  df['Scores'].max()- df['Scores'].min())\n",
        "\n",
        "\n"
      ],
      "execution_count": null,
      "outputs": [
        {
          "output_type": "stream",
          "text": [
            "fearture = 1\n",
            "Pattern  = 25\n",
            "Range of output :  78\n"
          ],
          "name": "stdout"
        }
      ]
    },
    {
      "cell_type": "code",
      "metadata": {
        "colab": {
          "base_uri": "https://localhost:8080/"
        },
        "id": "WuxJRsdvZzyD",
        "outputId": "b8be402c-1311-4e10-cd53-33c409a2aeec"
      },
      "source": [
        "df.sum()"
      ],
      "execution_count": null,
      "outputs": [
        {
          "output_type": "execute_result",
          "data": {
            "text/plain": [
              "Hours      125.3\n",
              "Scores    1287.0\n",
              "dtype: float64"
            ]
          },
          "metadata": {},
          "execution_count": 12
        }
      ]
    },
    {
      "cell_type": "markdown",
      "metadata": {
        "id": "TJ4sELksHcgo"
      },
      "source": [
        "# **Question No -3**"
      ]
    },
    {
      "cell_type": "code",
      "metadata": {
        "id": "hyKYPfKJMhSI"
      },
      "source": [
        "print(\"mean row-wiae : \")\n",
        "print(df.mean(axis=1))"
      ],
      "execution_count": null,
      "outputs": []
    },
    {
      "cell_type": "code",
      "metadata": {
        "id": "sWovXifMUJyu"
      },
      "source": [
        "print(\"mean columns-wise : \")\n",
        "print(df.mean(axis=0))\n"
      ],
      "execution_count": null,
      "outputs": []
    },
    {
      "cell_type": "code",
      "metadata": {
        "colab": {
          "base_uri": "https://localhost:8080/"
        },
        "id": "GjdRpcMMk2pV",
        "outputId": "355234c3-49fe-4f2a-ed30-942df81cad47"
      },
      "source": [
        "print(\"mean over all \")\n",
        "print(df.mean())"
      ],
      "execution_count": null,
      "outputs": [
        {
          "output_type": "stream",
          "text": [
            "mean over all \n",
            "Hours      5.012\n",
            "Scores    51.480\n",
            "dtype: float64\n"
          ],
          "name": "stdout"
        }
      ]
    },
    {
      "cell_type": "code",
      "metadata": {
        "id": "zPETeb4YUMKt"
      },
      "source": [
        "\n",
        "print(\"median row-wise: \")\n",
        "print(df.median(axis=1))"
      ],
      "execution_count": null,
      "outputs": []
    },
    {
      "cell_type": "code",
      "metadata": {
        "id": "tSkHHg08UU3D",
        "colab": {
          "base_uri": "https://localhost:8080/"
        },
        "outputId": "f9a67383-44ee-4d5e-8b38-19f0e3f2873f"
      },
      "source": [
        "\n",
        "print(\"median col-wise: \")\n",
        "print(df.median(axis=0))"
      ],
      "execution_count": null,
      "outputs": [
        {
          "output_type": "stream",
          "text": [
            "median col-wise: \n",
            "Hours      4.8\n",
            "Scores    47.0\n",
            "dtype: float64\n"
          ],
          "name": "stdout"
        }
      ]
    },
    {
      "cell_type": "code",
      "metadata": {
        "id": "agxw-T8EUYor",
        "colab": {
          "base_uri": "https://localhost:8080/"
        },
        "outputId": "94aed730-b56b-4dde-b737-bbde54878dc8"
      },
      "source": [
        "print('Mode row-wise')\n",
        "print(df.median())"
      ],
      "execution_count": null,
      "outputs": [
        {
          "output_type": "stream",
          "text": [
            "Mode row-wise\n",
            "Hours      4.8\n",
            "Scores    47.0\n",
            "dtype: float64\n"
          ],
          "name": "stdout"
        }
      ]
    },
    {
      "cell_type": "code",
      "metadata": {
        "id": "TsCC9EmdUUl7"
      },
      "source": [
        "print('Mode col-wise')\n",
        "df.mode(axis=0)"
      ],
      "execution_count": null,
      "outputs": []
    },
    {
      "cell_type": "code",
      "metadata": {
        "id": "VCNHCbSdOwIA"
      },
      "source": [
        "print(\"Std row-wise \")\n",
        "df.std(axis=1)"
      ],
      "execution_count": null,
      "outputs": []
    },
    {
      "cell_type": "code",
      "metadata": {
        "id": "umFb1z91c3k8"
      },
      "source": [
        "print(\"std col-wise\")\n",
        "df.std(axis=0)"
      ],
      "execution_count": null,
      "outputs": []
    },
    {
      "cell_type": "markdown",
      "metadata": {
        "id": "WqIpny3ndPBu"
      },
      "source": [
        "# **Question - 2**"
      ]
    },
    {
      "cell_type": "code",
      "metadata": {
        "id": "y20wcf3wdStj"
      },
      "source": [
        "from sklearn.model_selection import train_test_split\n"
      ],
      "execution_count": null,
      "outputs": []
    },
    {
      "cell_type": "code",
      "metadata": {
        "id": "iFmC57SsGKjY",
        "colab": {
          "base_uri": "https://localhost:8080/"
        },
        "outputId": "4204beb5-b723-410b-98f5-d091d63262d7"
      },
      "source": [
        "df = pd.read_csv('student_scores.csv')\n",
        "x = df.drop('Scores',axis=1)\n",
        "y= df.Hours\n",
        "ratio = 0.1\n",
        "for i in range(9):\n",
        "  print(\"\\n----------------------Splitting of dataset with X:Y ratio of \",int(ratio*100),\" :\",int(100-ratio*100))\n",
        "  train, test = train_test_split(df,test_size=ratio)\n",
        "  print(\"\\nTraining dataset ---------------------------------------\\n\")\n",
        "  print(train)\n",
        "  print(\"\\nTest dataset ---------------------------------------\\n\")\n",
        "  print(test)\n",
        "  ratio += 0.1\n",
        "  \n"
      ],
      "execution_count": null,
      "outputs": [
        {
          "output_type": "stream",
          "text": [
            "\n",
            "----------------------Splitting of dataset with X:Y ratio of  10 : 90\n",
            "\n",
            "Training dataset ---------------------------------------\n",
            "\n",
            "    Hours  Scores\n",
            "15    8.9      95\n",
            "12    4.5      41\n",
            "7     5.5      60\n",
            "14    1.1      17\n",
            "8     8.3      81\n",
            "2     3.2      27\n",
            "10    7.7      85\n",
            "24    7.8      86\n",
            "4     3.5      30\n",
            "0     2.5      21\n",
            "1     5.1      47\n",
            "13    3.3      42\n",
            "21    4.8      54\n",
            "17    1.9      24\n",
            "18    6.1      67\n",
            "9     2.7      25\n",
            "20    2.7      30\n",
            "3     8.5      75\n",
            "22    3.8      35\n",
            "16    2.5      30\n",
            "5     1.5      20\n",
            "11    5.9      62\n",
            "\n",
            "Test dataset ---------------------------------------\n",
            "\n",
            "    Hours  Scores\n",
            "19    7.4      69\n",
            "6     9.2      88\n",
            "23    6.9      76\n",
            "\n",
            "----------------------Splitting of dataset with X:Y ratio of  20 : 80\n",
            "\n",
            "Training dataset ---------------------------------------\n",
            "\n",
            "    Hours  Scores\n",
            "5     1.5      20\n",
            "3     8.5      75\n",
            "4     3.5      30\n",
            "10    7.7      85\n",
            "21    4.8      54\n",
            "16    2.5      30\n",
            "14    1.1      17\n",
            "0     2.5      21\n",
            "1     5.1      47\n",
            "6     9.2      88\n",
            "18    6.1      67\n",
            "11    5.9      62\n",
            "13    3.3      42\n",
            "17    1.9      24\n",
            "20    2.7      30\n",
            "24    7.8      86\n",
            "8     8.3      81\n",
            "12    4.5      41\n",
            "23    6.9      76\n",
            "22    3.8      35\n",
            "\n",
            "Test dataset ---------------------------------------\n",
            "\n",
            "    Hours  Scores\n",
            "9     2.7      25\n",
            "15    8.9      95\n",
            "2     3.2      27\n",
            "19    7.4      69\n",
            "7     5.5      60\n",
            "\n",
            "----------------------Splitting of dataset with X:Y ratio of  30 : 70\n",
            "\n",
            "Training dataset ---------------------------------------\n",
            "\n",
            "    Hours  Scores\n",
            "9     2.7      25\n",
            "16    2.5      30\n",
            "22    3.8      35\n",
            "7     5.5      60\n",
            "17    1.9      24\n",
            "14    1.1      17\n",
            "24    7.8      86\n",
            "19    7.4      69\n",
            "12    4.5      41\n",
            "15    8.9      95\n",
            "18    6.1      67\n",
            "4     3.5      30\n",
            "1     5.1      47\n",
            "21    4.8      54\n",
            "10    7.7      85\n",
            "0     2.5      21\n",
            "23    6.9      76\n",
            "\n",
            "Test dataset ---------------------------------------\n",
            "\n",
            "    Hours  Scores\n",
            "20    2.7      30\n",
            "13    3.3      42\n",
            "5     1.5      20\n",
            "6     9.2      88\n",
            "11    5.9      62\n",
            "8     8.3      81\n",
            "3     8.5      75\n",
            "2     3.2      27\n",
            "\n",
            "----------------------Splitting of dataset with X:Y ratio of  40 : 60\n",
            "\n",
            "Training dataset ---------------------------------------\n",
            "\n",
            "    Hours  Scores\n",
            "2     3.2      27\n",
            "1     5.1      47\n",
            "7     5.5      60\n",
            "23    6.9      76\n",
            "4     3.5      30\n",
            "24    7.8      86\n",
            "11    5.9      62\n",
            "3     8.5      75\n",
            "15    8.9      95\n",
            "9     2.7      25\n",
            "22    3.8      35\n",
            "13    3.3      42\n",
            "0     2.5      21\n",
            "14    1.1      17\n",
            "17    1.9      24\n",
            "\n",
            "Test dataset ---------------------------------------\n",
            "\n",
            "    Hours  Scores\n",
            "8     8.3      81\n",
            "20    2.7      30\n",
            "18    6.1      67\n",
            "12    4.5      41\n",
            "21    4.8      54\n",
            "5     1.5      20\n",
            "6     9.2      88\n",
            "16    2.5      30\n",
            "19    7.4      69\n",
            "10    7.7      85\n",
            "\n",
            "----------------------Splitting of dataset with X:Y ratio of  50 : 50\n",
            "\n",
            "Training dataset ---------------------------------------\n",
            "\n",
            "    Hours  Scores\n",
            "0     2.5      21\n",
            "10    7.7      85\n",
            "15    8.9      95\n",
            "21    4.8      54\n",
            "4     3.5      30\n",
            "14    1.1      17\n",
            "18    6.1      67\n",
            "17    1.9      24\n",
            "1     5.1      47\n",
            "5     1.5      20\n",
            "23    6.9      76\n",
            "22    3.8      35\n",
            "\n",
            "Test dataset ---------------------------------------\n",
            "\n",
            "    Hours  Scores\n",
            "3     8.5      75\n",
            "19    7.4      69\n",
            "6     9.2      88\n",
            "20    2.7      30\n",
            "12    4.5      41\n",
            "11    5.9      62\n",
            "16    2.5      30\n",
            "24    7.8      86\n",
            "8     8.3      81\n",
            "9     2.7      25\n",
            "13    3.3      42\n",
            "2     3.2      27\n",
            "7     5.5      60\n",
            "\n",
            "----------------------Splitting of dataset with X:Y ratio of  60 : 40\n",
            "\n",
            "Training dataset ---------------------------------------\n",
            "\n",
            "    Hours  Scores\n",
            "15    8.9      95\n",
            "1     5.1      47\n",
            "5     1.5      20\n",
            "21    4.8      54\n",
            "9     2.7      25\n",
            "8     8.3      81\n",
            "3     8.5      75\n",
            "4     3.5      30\n",
            "10    7.7      85\n",
            "19    7.4      69\n",
            "\n",
            "Test dataset ---------------------------------------\n",
            "\n",
            "    Hours  Scores\n",
            "7     5.5      60\n",
            "22    3.8      35\n",
            "6     9.2      88\n",
            "14    1.1      17\n",
            "11    5.9      62\n",
            "20    2.7      30\n",
            "23    6.9      76\n",
            "18    6.1      67\n",
            "2     3.2      27\n",
            "17    1.9      24\n",
            "24    7.8      86\n",
            "16    2.5      30\n",
            "12    4.5      41\n",
            "0     2.5      21\n",
            "13    3.3      42\n",
            "\n",
            "----------------------Splitting of dataset with X:Y ratio of  70 : 30\n",
            "\n",
            "Training dataset ---------------------------------------\n",
            "\n",
            "    Hours  Scores\n",
            "22    3.8      35\n",
            "3     8.5      75\n",
            "11    5.9      62\n",
            "12    4.5      41\n",
            "24    7.8      86\n",
            "1     5.1      47\n",
            "16    2.5      30\n",
            "\n",
            "Test dataset ---------------------------------------\n",
            "\n",
            "    Hours  Scores\n",
            "15    8.9      95\n",
            "14    1.1      17\n",
            "10    7.7      85\n",
            "8     8.3      81\n",
            "18    6.1      67\n",
            "7     5.5      60\n",
            "21    4.8      54\n",
            "4     3.5      30\n",
            "23    6.9      76\n",
            "20    2.7      30\n",
            "13    3.3      42\n",
            "0     2.5      21\n",
            "9     2.7      25\n",
            "5     1.5      20\n",
            "19    7.4      69\n",
            "6     9.2      88\n",
            "17    1.9      24\n",
            "2     3.2      27\n",
            "\n",
            "----------------------Splitting of dataset with X:Y ratio of  80 : 20\n",
            "\n",
            "Training dataset ---------------------------------------\n",
            "\n",
            "    Hours  Scores\n",
            "17    1.9      24\n",
            "2     3.2      27\n",
            "10    7.7      85\n",
            "18    6.1      67\n",
            "12    4.5      41\n",
            "\n",
            "Test dataset ---------------------------------------\n",
            "\n",
            "    Hours  Scores\n",
            "7     5.5      60\n",
            "8     8.3      81\n",
            "3     8.5      75\n",
            "15    8.9      95\n",
            "23    6.9      76\n",
            "13    3.3      42\n",
            "14    1.1      17\n",
            "22    3.8      35\n",
            "19    7.4      69\n",
            "20    2.7      30\n",
            "24    7.8      86\n",
            "11    5.9      62\n",
            "1     5.1      47\n",
            "6     9.2      88\n",
            "9     2.7      25\n",
            "21    4.8      54\n",
            "0     2.5      21\n",
            "5     1.5      20\n",
            "4     3.5      30\n",
            "16    2.5      30\n",
            "\n",
            "----------------------Splitting of dataset with X:Y ratio of  89 : 10\n",
            "\n",
            "Training dataset ---------------------------------------\n",
            "\n",
            "   Hours  Scores\n",
            "5    1.5      20\n",
            "2    3.2      27\n",
            "\n",
            "Test dataset ---------------------------------------\n",
            "\n",
            "    Hours  Scores\n",
            "18    6.1      67\n",
            "13    3.3      42\n",
            "16    2.5      30\n",
            "14    1.1      17\n",
            "23    6.9      76\n",
            "15    8.9      95\n",
            "12    4.5      41\n",
            "21    4.8      54\n",
            "17    1.9      24\n",
            "1     5.1      47\n",
            "11    5.9      62\n",
            "24    7.8      86\n",
            "6     9.2      88\n",
            "19    7.4      69\n",
            "20    2.7      30\n",
            "9     2.7      25\n",
            "4     3.5      30\n",
            "0     2.5      21\n",
            "7     5.5      60\n",
            "10    7.7      85\n",
            "3     8.5      75\n",
            "22    3.8      35\n",
            "8     8.3      81\n"
          ],
          "name": "stdout"
        }
      ]
    },
    {
      "cell_type": "code",
      "metadata": {
        "id": "Mf6NsEQsHd2Z"
      },
      "source": [
        ""
      ],
      "execution_count": null,
      "outputs": []
    },
    {
      "cell_type": "markdown",
      "metadata": {
        "id": "rACwzM0-n-nh"
      },
      "source": [
        "# **Question-4**"
      ]
    },
    {
      "cell_type": "markdown",
      "metadata": {
        "id": "qSTckZ01ndvT"
      },
      "source": [
        "## **Using Linear Regression**"
      ]
    },
    {
      "cell_type": "code",
      "metadata": {
        "id": "kEqKvfoSoCDe"
      },
      "source": [
        "import matplotlib.pyplot as plt\n",
        "import pandas as pd\n",
        "df = pd.read_csv('student_scores.csv')\n",
        "print(df)\n"
      ],
      "execution_count": null,
      "outputs": []
    },
    {
      "cell_type": "code",
      "metadata": {
        "id": "s_1kZX-DofVl",
        "colab": {
          "base_uri": "https://localhost:8080/",
          "height": 265
        },
        "outputId": "9588e40e-5ba6-47c8-e16f-18efebc14fe5"
      },
      "source": [
        "x = df['Hours']\n",
        "y = df['Scores']\n",
        "plt.scatter(x,y)\n",
        "plt.plot(x,y)\n",
        "\n"
      ],
      "execution_count": null,
      "outputs": [
        {
          "output_type": "display_data",
          "data": {
            "image/png": "[encoded data removed]",
            "text/plain": [
              "<Figure size 432x288 with 1 Axes>"
            ]
          },
          "metadata": {
            "needs_background": "light"
          }
        }
      ]
    },
    {
      "cell_type": "code",
      "metadata": {
        "colab": {
          "base_uri": "https://localhost:8080/"
        },
        "id": "Fb40qBxPicjp",
        "outputId": "256b3547-e7ee-4164-b964-a7d6b64de23a"
      },
      "source": [
        "from sklearn.model_selection import train_test_split\n",
        "x_train, x_test, y_train, y_test = train_test_split(x, y, test_size = 0.2)\n",
        "print(\"x_train shape\", x_train.shape)\n",
        "print(\"x_test shape\", x_test.shape)\n",
        "print(\"Y_train shape\", y_train.shape)\n",
        "print(\"y_test shape\", y_test.shape)"
      ],
      "execution_count": null,
      "outputs": [
        {
          "output_type": "stream",
          "text": [
            "x_train shape (20,)\n",
            "x_test shape (5,)\n",
            "Y_train shape (20,)\n",
            "y_test shape (5,)\n"
          ],
          "name": "stdout"
        }
      ]
    },
    {
      "cell_type": "code",
      "metadata": {
        "id": "Z_7xprmtkVk1"
      },
      "source": [
        " x_train = x_train.values.reshape(-1,1)\n",
        "y_train = y_train.values.reshape(-1, 1)"
      ],
      "execution_count": null,
      "outputs": []
    },
    {
      "cell_type": "code",
      "metadata": {
        "colab": {
          "base_uri": "https://localhost:8080/"
        },
        "id": "PTBnOZzDlQ_i",
        "outputId": "5fec37b1-4d55-44b8-b1c2-b601333a544a"
      },
      "source": [
        "from sklearn.linear_model import LinearRegression\n",
        "lr = LinearRegression()\n",
        "lr.fit(x_train, y_train)\n"
      ],
      "execution_count": null,
      "outputs": [
        {
          "output_type": "execute_result",
          "data": {
            "text/plain": [
              "LinearRegression(copy_X=True, fit_intercept=True, n_jobs=None, normalize=False)"
            ]
          },
          "metadata": {},
          "execution_count": 7
        }
      ]
    },
    {
      "cell_type": "code",
      "metadata": {
        "colab": {
          "base_uri": "https://localhost:8080/"
        },
        "id": "tnmG-CLlmlNy",
        "outputId": "c7d53946-26fd-45ce-be62-6643cbff9135"
      },
      "source": [
        "lr.coef_  , lr.intercept_"
      ],
      "execution_count": null,
      "outputs": [
        {
          "output_type": "execute_result",
          "data": {
            "text/plain": [
              "(array([[9.57845233]]), array([3.62881573]))"
            ]
          },
          "metadata": {},
          "execution_count": 8
        }
      ]
    },
    {
      "cell_type": "code",
      "metadata": {
        "colab": {
          "base_uri": "https://localhost:8080/"
        },
        "id": "Xfr7kr10nC8q",
        "outputId": "49a87f70-f4c0-4b74-b29a-aec328a2e144"
      },
      "source": [
        "y_pred = lr.predict(x_test.values.reshape(-1, 1))\n",
        "y_pred"
      ],
      "execution_count": null,
      "outputs": [
        {
          "output_type": "execute_result",
          "data": {
            "text/plain": [
              "array([[78.34074391],\n",
              "       [27.57494656],\n",
              "       [83.12997007],\n",
              "       [21.82787516],\n",
              "       [40.02693459]])"
            ]
          },
          "metadata": {},
          "execution_count": 9
        }
      ]
    },
    {
      "cell_type": "code",
      "metadata": {
        "colab": {
          "base_uri": "https://localhost:8080/",
          "height": 282
        },
        "id": "RbA9FhQEg-H5",
        "outputId": "29d127c4-4234-4bb3-c4b0-0caa43894743"
      },
      "source": [
        "plt.scatter(x_test, y_test)\n",
        "plt.plot(x_test, y_pred)"
      ],
      "execution_count": null,
      "outputs": [
        {
          "output_type": "execute_result",
          "data": {
            "text/plain": [
              "[<matplotlib.lines.Line2D at 0x7f660e241f90>]"
            ]
          },
          "metadata": {},
          "execution_count": 15
        },
        {
          "output_type": "display_data",
          "data": {
            "image/png": "[encoded data removed]",
            "text/plain": [
              "<Figure size 432x288 with 1 Axes>"
            ]
          },
          "metadata": {
            "needs_background": "light"
          }
        }
      ]
    },
    {
      "cell_type": "code",
      "metadata": {
        "id": "rNfWHVxHnPcF"
      },
      "source": [
        "y_test.values.reshape(-1, 1)"
      ],
      "execution_count": null,
      "outputs": []
    },
    {
      "cell_type": "code",
      "metadata": {
        "id": "7Mnj_80Fnn6T"
      },
      "source": [
        "from sklearn.metrics import mean_squared_error\n",
        "mse = mean_squared_error(y_test, y_pred)\n",
        "mse"
      ],
      "execution_count": null,
      "outputs": []
    },
    {
      "cell_type": "code",
      "metadata": {
        "id": "OkKMBEz55qsq"
      },
      "source": [
        "lr.score(x_test, y_test)"
      ],
      "execution_count": null,
      "outputs": []
    },
    {
      "cell_type": "markdown",
      "metadata": {
        "id": "pfVA4Nmy1RMi"
      },
      "source": [
        "## Using Polynomial Regression"
      ]
    },
    {
      "cell_type": "code",
      "metadata": {
        "id": "mO086x2D1XGV"
      },
      "source": [
        "import matplotlib.pyplot as plt\n",
        "import pandas as pd\n",
        "df = pd.read_csv('student_scores.csv')\n",
        "print(df)"
      ],
      "execution_count": null,
      "outputs": []
    },
    {
      "cell_type": "code",
      "metadata": {
        "id": "LuQtZn8L1i3O"
      },
      "source": [
        "x = df['Hours']\n",
        "y = df['Scores']\n",
        "plt.scatter(x,y)\n",
        "plt.plot(x,y, color='red')"
      ],
      "execution_count": null,
      "outputs": []
    },
    {
      "cell_type": "code",
      "metadata": {
        "id": "Ard3swJn2KAI"
      },
      "source": [
        "from sklearn.model_selection import train_test_split\n",
        "x_train, x_test, y_train, y_test = train_test_split(x, y, test_size = 0.2)\n",
        "print(\"x_train shape\", x_train.shape)\n",
        "print(\"x_test shape\", x_test.shape)\n",
        "print(\"Y_train shape\", y_train.shape)\n",
        "print(\"y_test shape\", y_test.shape)"
      ],
      "execution_count": null,
      "outputs": []
    },
    {
      "cell_type": "code",
      "metadata": {
        "id": "kttHiWqo2hyp"
      },
      "source": [
        "x_train = x_train.values.reshape(-1,1)\n",
        "y_train = y_train.values.reshape(-1, 1)"
      ],
      "execution_count": null,
      "outputs": []
    },
    {
      "cell_type": "code",
      "metadata": {
        "id": "0ZEE0yWF2sG3"
      },
      "source": [
        "x_test = x_test.values.reshape(-1,1)"
      ],
      "execution_count": null,
      "outputs": []
    },
    {
      "cell_type": "code",
      "metadata": {
        "id": "-1BOYyPL2UCK"
      },
      "source": [
        "from sklearn.preprocessing import PolynomialFeatures\n",
        "from sklearn.linear_model import LinearRegression\n",
        "\n",
        "poly_reg = PolynomialFeatures(degree=2)\n",
        "poly_reg.fit(x_train)\n",
        "\n",
        "x_train_poly = poly_reg.transform(x_train)\n",
        "x_test_poly = poly_reg.transform(x_test)\n",
        "\n",
        "lr = LinearRegression()\n",
        "lr.fit(x_train_poly, y_train)\n",
        "\n"
      ],
      "execution_count": null,
      "outputs": []
    },
    {
      "cell_type": "code",
      "metadata": {
        "colab": {
          "base_uri": "https://localhost:8080/"
        },
        "id": "frfH7YpP4k6t",
        "outputId": "e68586a3-296c-4e39-a4d6-21a1ff502c3d"
      },
      "source": [
        "y_pred_poly = lr.predict(x_test_poly)\n",
        "y_pred_poly"
      ],
      "execution_count": null,
      "outputs": [
        {
          "output_type": "execute_result",
          "data": {
            "text/plain": [
              "array([[25.33695039],\n",
              "       [34.0409778 ],\n",
              "       [46.75524651],\n",
              "       [ 9.66629447],\n",
              "       [75.78819834]])"
            ]
          },
          "metadata": {},
          "execution_count": 24
        }
      ]
    },
    {
      "cell_type": "code",
      "metadata": {
        "colab": {
          "base_uri": "https://localhost:8080/"
        },
        "id": "8c7moQem5HHI",
        "outputId": "479dcf4b-2210-4420-f524-90d036b4df3b"
      },
      "source": [
        "y_test.values.reshape(-1,1)"
      ],
      "execution_count": null,
      "outputs": [
        {
          "output_type": "execute_result",
          "data": {
            "text/plain": [
              "array([[25],\n",
              "       [35],\n",
              "       [30],\n",
              "       [20],\n",
              "       [88]])"
            ]
          },
          "metadata": {},
          "execution_count": 59
        }
      ]
    },
    {
      "cell_type": "code",
      "metadata": {
        "colab": {
          "base_uri": "https://localhost:8080/",
          "height": 316
        },
        "id": "mZBXf5lciJYg",
        "outputId": "287f3f70-5ffb-4b54-e215-99039aee019a"
      },
      "source": [
        "# plt.scatter(x_test_poly, y_test)\n",
        "plt.plot(x_test_poly, y_pred_poly)"
      ],
      "execution_count": null,
      "outputs": [
        {
          "output_type": "execute_result",
          "data": {
            "text/plain": [
              "[<matplotlib.lines.Line2D at 0x7f660c05b790>,\n",
              " <matplotlib.lines.Line2D at 0x7f660c05b550>,\n",
              " <matplotlib.lines.Line2D at 0x7f660c05b890>]"
            ]
          },
          "metadata": {},
          "execution_count": 25
        },
        {
          "output_type": "display_data",
          "data": {
            "image/png": "[encoded data removed]",
            "text/plain": [
              "<Figure size 432x288 with 1 Axes>"
            ]
          },
          "metadata": {
            "needs_background": "light"
          }
        }
      ]
    },
    {
      "cell_type": "code",
      "metadata": {
        "colab": {
          "base_uri": "https://localhost:8080/"
        },
        "id": "s5C62goe5Rmh",
        "outputId": "b6e33bcf-cc16-456a-ea4d-fd082d034ea8"
      },
      "source": [
        "from sklearn.metrics import mean_squared_error\n",
        "mse = mean_squared_error(y_test, y_pred_poly)\n",
        "mse"
      ],
      "execution_count": null,
      "outputs": [
        {
          "output_type": "execute_result",
          "data": {
            "text/plain": [
              "17.781146148989013"
            ]
          },
          "metadata": {},
          "execution_count": 60
        }
      ]
    },
    {
      "cell_type": "code",
      "metadata": {
        "colab": {
          "base_uri": "https://localhost:8080/"
        },
        "id": "R0oE6rWu5is9",
        "outputId": "e70c95ad-8242-47cb-de9f-91bd8c2508a5"
      },
      "source": [
        "lr.score(x_test_poly, y_test)"
      ],
      "execution_count": null,
      "outputs": [
        {
          "output_type": "execute_result",
          "data": {
            "text/plain": [
              "0.9708811310281198"
            ]
          },
          "metadata": {},
          "execution_count": 61
        }
      ]
    }
  ]
}