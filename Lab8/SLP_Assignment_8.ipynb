{
  "nbformat": 4,
  "nbformat_minor": 0,
  "metadata": {
    "colab": {
      "name": "SLP_Assignment_8.ipynb",
      "provenance": [],
      "collapsed_sections": [],
      "authorship_tag": "ABX9TyPyOfp3QH7tnE1lwyxzMjuB",
      "include_colab_link": true
    },
    "kernelspec": {
      "name": "python3",
      "display_name": "Python 3"
    },
    "language_info": {
      "name": "python"
    }
  },
  "cells": [
    {
      "cell_type": "markdown",
      "metadata": {
        "id": "view-in-github",
        "colab_type": "text"
      },
      "source": [
        "<a href=\"https://colab.research.google.com/github/shivam-cse/CS-306-Machine-Learning-Work/blob/main/Lab8/SLP_Assignment_8.ipynb\" target=\"_parent\"><img src=\"https://colab.research.google.com/assets/colab-badge.svg\" alt=\"Open In Colab\"/></a>"
      ]
    },
    {
      "cell_type": "code",
      "metadata": {
        "id": "Me8O9uM18tdJ"
      },
      "source": [
        "from sklearn.metrics import confusion_matrix, precision_score, recall_score, accuracy_score, classification_report\n",
        "from sklearn.model_selection import StratifiedKFold\n",
        "from matplotlib import pyplot as plt\n",
        "from sklearn.utils import shuffle\n",
        "import matplotlib.pyplot as plt\n",
        "import seaborn as sns\n",
        "import seaborn as sn\n",
        "import pandas as pd\n",
        "import numpy as np\n",
        "import warnings\n",
        "import random"
      ],
      "execution_count": null,
      "outputs": []
    },
    {
      "cell_type": "code",
      "metadata": {
        "colab": {
          "base_uri": "https://localhost:8080/"
        },
        "id": "u4ZUE1Lt73y9",
        "outputId": "db286abd-2362-406e-f449-f7f077ef511f"
      },
      "source": [
        "from sklearn import datasets\n",
        "wine = datasets.load_wine()\n",
        "print(wine.keys())"
      ],
      "execution_count": null,
      "outputs": [
        {
          "output_type": "stream",
          "name": "stdout",
          "text": [
            "dict_keys(['data', 'target', 'target_names', 'DESCR', 'feature_names'])\n"
          ]
        }
      ]
    },
    {
      "cell_type": "code",
      "metadata": {
        "colab": {
          "base_uri": "https://localhost:8080/"
        },
        "id": "wouCpNC_8hz7",
        "outputId": "60963f3a-e1a9-4326-807b-0732bc318e1d"
      },
      "source": [
        "X = wine.data\n",
        "Y = wine.target\n",
        "# X, Y = shuffle(X, Y)\n",
        "X = pd.DataFrame(X, columns=wine.feature_names)\n",
        "print(X)\n"
      ],
      "execution_count": null,
      "outputs": [
        {
          "output_type": "stream",
          "name": "stdout",
          "text": [
            "     alcohol  malic_acid   ash  ...   hue  od280/od315_of_diluted_wines  proline\n",
            "0      14.23        1.71  2.43  ...  1.04                          3.92   1065.0\n",
            "1      13.20        1.78  2.14  ...  1.05                          3.40   1050.0\n",
            "2      13.16        2.36  2.67  ...  1.03                          3.17   1185.0\n",
            "3      14.37        1.95  2.50  ...  0.86                          3.45   1480.0\n",
            "4      13.24        2.59  2.87  ...  1.04                          2.93    735.0\n",
            "..       ...         ...   ...  ...   ...                           ...      ...\n",
            "173    13.71        5.65  2.45  ...  0.64                          1.74    740.0\n",
            "174    13.40        3.91  2.48  ...  0.70                          1.56    750.0\n",
            "175    13.27        4.28  2.26  ...  0.59                          1.56    835.0\n",
            "176    13.17        2.59  2.37  ...  0.60                          1.62    840.0\n",
            "177    14.13        4.10  2.74  ...  0.61                          1.60    560.0\n",
            "\n",
            "[178 rows x 13 columns]\n"
          ]
        }
      ]
    },
    {
      "cell_type": "code",
      "metadata": {
        "colab": {
          "base_uri": "https://localhost:8080/",
          "height": 265
        },
        "id": "uolnsVhF3B6t",
        "outputId": "cd7ea803-c7d3-4b07-cace-385adc156512"
      },
      "source": [
        "\n",
        "x1 = X['alcohol']\n",
        "y1 = X['ash']\n",
        "x1 = x1.sort_values()\n",
        "y1 = y1.sort_values()\n",
        "plt.scatter(x1, y1)\n",
        "plt.plot(x1, y1)\n",
        "plt.show()"
      ],
      "execution_count": null,
      "outputs": [
        {
          "output_type": "display_data",
          "data": {
            "image/png": "[encoded data removed]",
            "text/plain": [
              "<Figure size 432x288 with 1 Axes>"
            ]
          },
          "metadata": {
            "needs_background": "light"
          }
        }
      ]
    },
    {
      "cell_type": "code",
      "metadata": {
        "colab": {
          "base_uri": "https://localhost:8080/",
          "height": 265
        },
        "id": "F8cT9CZ2KLsz",
        "outputId": "cdaf610c-bf29-4e04-c13d-16f033111e4a"
      },
      "source": [
        "from sklearn.preprocessing import MinMaxScaler\n",
        "minmax = MinMaxScaler()\n",
        "dataset_new = minmax.fit_transform(X)\n",
        "X = pd.DataFrame(dataset_new, columns=wine.feature_names)\n",
        "X.plot.kde()\n",
        "X = X.values"
      ],
      "execution_count": null,
      "outputs": [
        {
          "output_type": "display_data",
          "data": {
            "image/png": "[encoded data removed]",
            "text/plain": [
              "<Figure size 432x288 with 1 Axes>"
            ]
          },
          "metadata": {
            "needs_background": "light"
          }
        }
      ]
    },
    {
      "cell_type": "markdown",
      "metadata": {
        "id": "aCrzVHM3-L-Y"
      },
      "source": [
        "# **HelpFul For one hot encoding**\n",
        "from numpy import argmax\n",
        "from sklearn.preprocessing import LabelEncoder\n",
        "from sklearn.preprocessing import OneHotEncoder\n",
        "# define example\n",
        "data = ['cold', 'cold', 'warm', 'cold', 'hot', 'hot', 'warm', 'cold', 'warm', 'hot']\n",
        "values = array(data)\n",
        "print(values)\n",
        "# integer encode\n",
        "label_encoder = LabelEncoder()\n",
        "integer_encoded = label_encoder.fit_transform(values)\n",
        "print(integer_encoded)\n",
        "# binary encode\n",
        "onehot_encoder = OneHotEncoder(sparse=False)\n",
        "integer_encoded = integer_encoded.reshape(len(integer_encoded), 1)\n",
        "onehot_encoded = onehot_encoder.fit_transform(integer_encoded)\n",
        "print(onehot_encoded)\n",
        "# invert first example\n",
        "inverted = label_encoder.inverse_transform([argmax(onehot_encoded[0, :])])\n",
        "print(inverted)"
      ]
    },
    {
      "cell_type": "code",
      "metadata": {
        "id": "opjcWuTbHyyb"
      },
      "source": [
        "from numpy import asarray\n",
        "from sklearn.preprocessing import OneHotEncoder\n",
        "from sklearn.preprocessing import LabelEncoder\n",
        "# define one hot encoding\n",
        "encoder = OneHotEncoder(sparse=False)\n",
        "# transform data\n",
        "onehot = encoder.fit_transform(np.reshape(Y, (-1, 1)))\n",
        "print(onehot)\n",
        "# temp = encoder.inverse_transform(onehot)\n",
        "# print(temp)"
      ],
      "execution_count": null,
      "outputs": []
    },
    {
      "cell_type": "code",
      "metadata": {
        "colab": {
          "base_uri": "https://localhost:8080/"
        },
        "id": "UAo6gCI0KQe_",
        "outputId": "edd461d2-db17-4d03-e850-827ce8a4bb8b"
      },
      "source": [
        "from sklearn.model_selection import train_test_split\n",
        "import numpy as np\n",
        "train_frac = 60/100  #60%   left ->: 100-60 = 40%\n",
        "valid_frac = 20/40 #(100/70)*10\n",
        "test_frac = 20/40 #(100/70)*60\n",
        "print(\"total : \", X.shape)\n",
        "x_train, x_rem, y_train, y_rem = train_test_split(X, onehot, train_size=train_frac)\n",
        "x_valid, x_test, y_valid,  y_test = train_test_split(x_rem, y_rem,  test_size=test_frac)\n",
        "print(x_train.shape, y_train.shape)\n",
        "print(x_test.shape, y_test.shape)\n",
        "print(x_valid.shape, y_valid.shape)"
      ],
      "execution_count": null,
      "outputs": [
        {
          "output_type": "stream",
          "name": "stdout",
          "text": [
            "total :  (178, 13)\n",
            "(106, 13) (106, 3)\n",
            "(36, 13) (36, 3)\n",
            "(36, 13) (36, 3)\n"
          ]
        }
      ]
    },
    {
      "cell_type": "code",
      "metadata": {
        "id": "PqpFR06W-NN4"
      },
      "source": [
        "\n",
        "def threshold(z):\n",
        "    # Activation function\n",
        "    y = np.ones(z.shape[0])\n",
        "    for i in range(z.shape[0]):\n",
        "      if(z[i] >= 0.5):\n",
        "        y[i] = 1\n",
        "      else:\n",
        "        y[i] = 0\n",
        "    return y\n",
        "\n",
        "def sigmoid(z):\n",
        "    # Activation function used to map any real value between 0 and 1\n",
        "    return 1 / (1 + np.exp(-z))\n",
        "\n",
        "\n",
        "def slp_predict(weights, X):\n",
        "  X = add_intercept(X)\n",
        "  y_predicted = sigmoid(np.dot(X, weights.T))\n",
        "  # y_predicted_cls = threshold(sigmoid(linear_model))\n",
        "  y_pred = np.where(y_predicted >= 0.5 , 1, 0)\n",
        "  return np.array(y_pred)\n",
        "\n",
        "def model_analysis(x_test, y_test, weight):\n",
        "  x_test = add_intercept(x_test)\n",
        "  y_pred = np.ones(y_test.shape[0])\n",
        "  hypothesis = sigmoid(np.dot(x_test, weight.T))\n",
        "  for i in range(0, hypothesis.shape[0]):\n",
        "    if (hypothesis[i] < 0.5):\n",
        "      y_pred[i] = 0\n",
        "    if (hypothesis[i]>=0.5):\n",
        "      y_pred[i] = 1\n",
        "  test_acc = accuracy_score(y_test, y_pred)*100\n",
        "  # precision = precision_score(y_test, y_pred)*100\n",
        "  # recall = recall_score(y_test, y_pred)*100\n",
        "  # f1 = f1_score(y_test, y_pred)*100\n",
        "  print(\"Training Accuracy: \", test_acc)\n",
        "  # print(\"Prescission Score:\", precision)\n",
        "  # print(\"Recall Score : \", recall) \n",
        "  # print('F1 Score : ', f1)\n",
        "  print('Confusion Matrix : \\n' + str(confusion_matrix(y_test, y_pred)))\n",
        "  print(\"Classification Report for 3-classes: \")\n",
        "  print(classification_report(y_test, y_pred))\n",
        "  return test_acc\n",
        "\n",
        "\n",
        "def cost_mse(weights, X, Y):\n",
        "  X = add_intercept(X)\n",
        "  total_samples = X.shape[0]\n",
        "  jw = 0\n",
        "  for j in range(total_samples): #index from total samples\n",
        "          sample_x = X[j]\n",
        "          sample_y = Y[j]\n",
        "          y_predicted = sigmoid(np.dot(sample_x, weights.T))\n",
        "          # print(sample_y, y_predicted)\n",
        "          jw = jw + (np.sum((sample_y - y_predicted) ** 2))/2\n",
        "  jw = (jw)/(2*total_samples)\n",
        "  return jw\n",
        "  \n",
        "\n",
        "def accuracy(y_true, y_pred):\n",
        "    ans = 0\n",
        "    for i in range(y_true.shape[0]):\n",
        "      y1 = y_true[i]\n",
        "      y2 = y_pred[i]\n",
        "      count = np.sum(y1 == y2)\n",
        "      if count == 3:\n",
        "        ans = ans + 1\n",
        "  \n",
        "    ans = ans/len(y_true)\n",
        "    return ans   \n",
        "\n",
        "\n",
        "def add_intercept(x):\n",
        "  intercept = np.ones((x.shape[0], 1))\n",
        "  return np.concatenate((intercept, x), axis=1)\n",
        "\n",
        "def SLP(X_train, Y_train, epoch, learning_rate):\n",
        "    X_train = add_intercept(X_train)\n",
        "    number_of_features = X_train.shape[1]\n",
        "    number_of_class = Y_train.shape[1]\n",
        "    # numpy array with 1 row and columns equal to number of features. In\n",
        "    # weights = np.ones(shape=(number_of_features)) \n",
        "    weights = np.empty(shape=(number_of_class, number_of_features))\n",
        "    weights.fill(0.1)\n",
        "    cost_list = list()\n",
        "    epoch_list = list()\n",
        "    mse = 0\n",
        "    # weights = np.array([0.1, 0.1, 0.1])\n",
        "    total_samples = X_train.shape[0]\n",
        "    for i in range(epoch + 1): \n",
        "        jw = 0   \n",
        "        for j in range(total_samples): # random index from total samples\n",
        "          sample_x = X_train[j]\n",
        "          sample_y = Y_train[j]\n",
        "         \n",
        "          y_predicted = sigmoid(np.dot(sample_x, weights.T))\n",
        "          # print(sample_y, y_predicted)\n",
        "          jw = jw + (np.sum((sample_y - y_predicted) ** 2))/2\n",
        "          # print(jw)\n",
        "          w_grad = ((np.dot(sample_x[:, None], (sample_y - y_predicted)[None, : ]))*y_predicted*(1-y_predicted)).T          \n",
        "          weights = weights + learning_rate * w_grad\n",
        "        jw = (jw)/(2*total_samples)\n",
        "        mse = jw\n",
        "        if i == 100: # at every 100th iteration record the cost and epoch value\n",
        "         cost_list.append(jw)\n",
        "         epoch_list.append(i)\n",
        "        \n",
        "    return weights, cost_list, epoch_list, mse\n",
        "\n",
        "\n"
      ],
      "execution_count": null,
      "outputs": []
    },
    {
      "cell_type": "markdown",
      "metadata": {
        "id": "xsEzxEwA5cAP"
      },
      "source": [
        "# **Hyperparameter tuning on the validation set.**"
      ]
    },
    {
      "cell_type": "code",
      "metadata": {
        "colab": {
          "base_uri": "https://localhost:8080/"
        },
        "id": "yo0Yz5xU5dv0",
        "outputId": "eb375924-d330-419b-8f84-e65b19cf2718"
      },
      "source": [
        "# rho = [0.00001, 0.00001, 0.00007, 0.000008, 0.00009]\n",
        "alpha = [0.01, 0.1, 0.3, 0.5, 0.6, 0.7, 0.8, 1]\n",
        "epochs = [100, 100, 100, 100, 100, 100, 100, 100]\n",
        "\n",
        "validation_accuracy = []\n",
        "mse_list = []\n",
        "for a, e in zip(alpha, epochs):\n",
        "  weights, cost_list, epoch_list, mse = SLP(x_train, y_train, e, a)\n",
        "  # print(weights)\n",
        "  print(\"Alph = \", a, \"epoch = \", e)\n",
        "  y_pred_train = slp_predict(weights, x_train)\n",
        "  y_pred_valid = slp_predict(weights, x_valid)\n",
        "  accuracy_train = accuracy_score(y_train, y_pred_train)\n",
        "  accuracy_valid = accuracy_score(y_valid, y_pred_valid)\n",
        "  print(\"Train Accuracy : \", accuracy_train)\n",
        "  print(\"Validation Accuracy : \", accuracy_valid)\n",
        "  validation_accuracy.append(accuracy_valid)\n",
        "  print(cost_list)\n",
        "  print(mse)\n",
        "  mse_list.append(mse)\n",
        "  print(\"-\"*40)\n",
        "  # print(cost_list)\n",
        "  # print(epoch_list)\n"
      ],
      "execution_count": null,
      "outputs": [
        {
          "output_type": "stream",
          "name": "stdout",
          "text": [
            "Alph =  0.01 epoch =  100\n",
            "Train Accuracy :  0.8679245283018868\n",
            "Validation Accuracy :  0.9444444444444444\n",
            "[0.0715942804851221]\n",
            "0.0715942804851221\n",
            "----------------------------------------\n",
            "Alph =  0.1 epoch =  100\n",
            "Train Accuracy :  0.9716981132075472\n",
            "Validation Accuracy :  0.9722222222222222\n",
            "[0.02049077484833996]\n",
            "0.02049077484833996\n",
            "----------------------------------------\n",
            "Alph =  0.3 epoch =  100\n",
            "Train Accuracy :  1.0\n",
            "Validation Accuracy :  0.9722222222222222\n",
            "[0.010823754930777193]\n",
            "0.010823754930777193\n",
            "----------------------------------------\n",
            "Alph =  0.5 epoch =  100\n",
            "Train Accuracy :  1.0\n",
            "Validation Accuracy :  0.9722222222222222\n",
            "[0.00777458252685778]\n",
            "0.00777458252685778\n",
            "----------------------------------------\n",
            "Alph =  0.6 epoch =  100\n",
            "Train Accuracy :  1.0\n",
            "Validation Accuracy :  0.9722222222222222\n",
            "[0.006859060587346297]\n",
            "0.006859060587346297\n",
            "----------------------------------------\n",
            "Alph =  0.7 epoch =  100\n",
            "Train Accuracy :  1.0\n",
            "Validation Accuracy :  1.0\n",
            "[0.006149204179784506]\n",
            "0.006149204179784506\n",
            "----------------------------------------\n",
            "Alph =  0.8 epoch =  100\n",
            "Train Accuracy :  1.0\n",
            "Validation Accuracy :  1.0\n",
            "[0.005579392458891283]\n",
            "0.005579392458891283\n",
            "----------------------------------------\n",
            "Alph =  1 epoch =  100\n",
            "Train Accuracy :  1.0\n",
            "Validation Accuracy :  1.0\n",
            "[0.004715381645132606]\n",
            "0.004715381645132606\n",
            "----------------------------------------\n"
          ]
        }
      ]
    },
    {
      "cell_type": "code",
      "metadata": {
        "colab": {
          "base_uri": "https://localhost:8080/",
          "height": 295
        },
        "id": "4S61cBsY9vek",
        "outputId": "3a723408-6ef2-4995-8927-33880c01e6e2"
      },
      "source": [
        "plt.plot(alpha, mse_list)\n",
        "plt.xlabel(\"Alpha\")\n",
        "plt.ylabel(\"MSE\")\n",
        "plt.title(\"Hyperparameter Tuning -> aplha Vs MSE\")\n",
        "plt.show()"
      ],
      "execution_count": null,
      "outputs": [
        {
          "output_type": "display_data",
          "data": {
            "image/png": "[encoded data removed]",
            "text/plain": [
              "<Figure size 432x288 with 1 Axes>"
            ]
          },
          "metadata": {
            "needs_background": "light"
          }
        }
      ]
    },
    {
      "cell_type": "markdown",
      "metadata": {
        "id": "ndBeqFCN-kIl"
      },
      "source": [
        "# **Check overfitting issue**"
      ]
    },
    {
      "cell_type": "code",
      "metadata": {
        "colab": {
          "base_uri": "https://localhost:8080/",
          "height": 229
        },
        "id": "iKPMF8VU-KE7",
        "outputId": "a62e8e23-4b7f-4d6c-9c97-3b353f920d7e"
      },
      "source": [
        "# rho = [0.00001, 0.00001, 0.00007, 0.000008, 0.00009]\n",
        "alpha = [0.6, 0.6, 0.6, 0.6, 0.6, 0.6, 0.6]\n",
        "epochs = [10, 20, 30, 50, 70, 80, 100]\n",
        "\n",
        "validation_accuracy = []\n",
        "train_accuracy = []\n",
        "test_accuracy = []\n",
        "train_mse = []\n",
        "validation_mse = []\n",
        "test_mse = []\n",
        "for a, e in zip(alpha, epochs):\n",
        "  weights, cost_list, epoch_list, mse = SLP(x_train, y_train, e, a)\n",
        "  # print(weights)\n",
        "  print(\"Alph = \", a, \"epoch = \", e)\n",
        "  y_pred_train = slp_predict(weights, x_train)\n",
        "  y_pred_valid = slp_predict(weights, x_valid)\n",
        "  y_pred_test = slp_predict(weights, x_test)\n",
        "  accuracy_train = accuracy_score(y_train, y_pred_train)\n",
        "  accuracy_valid = accuracy_score(y_valid, y_pred_valid)\n",
        "  accuracy_test = accuracy_score(y_test, y_pred_test)\n",
        "  print(\"Train Accuracy : \", accuracy_train)\n",
        "  print(\"Validation Accuracy : \", accuracy_valid)\n",
        "  print(\"Test Accuracy : \", accuracy_test)\n",
        "  validation_accuracy.append(accuracy_valid)\n",
        "  train_accuracy.append(accuracy_train)\n",
        "  test_accuracy.append(accuracy_test)\n",
        "  mse_ = cost_mse(weights, x_valid, y_valid)\n",
        "  mse_t = cost_mse(weights, x_test, y_test)\n",
        "  train_mse.append(mse)\n",
        "  validation_mse.append(mse_)\n",
        "  test_mse.append(mse_t)\n",
        "  print(\"-\"*50)\n",
        "  # print(cost_list)\n",
        "  # print(epoch_list)\n"
      ],
      "execution_count": null,
      "outputs": [
        {
          "output_type": "error",
          "ename": "NameError",
          "evalue": "ignored",
          "traceback": [
            "\u001b[0;31m---------------------------------------------------------------------------\u001b[0m",
            "\u001b[0;31mNameError\u001b[0m                                 Traceback (most recent call last)",
            "\u001b[0;32m<ipython-input-1-f1084bd22ff4>\u001b[0m in \u001b[0;36m<module>\u001b[0;34m()\u001b[0m\n\u001b[1;32m     10\u001b[0m \u001b[0mtest_mse\u001b[0m \u001b[0;34m=\u001b[0m \u001b[0;34m[\u001b[0m\u001b[0;34m]\u001b[0m\u001b[0;34m\u001b[0m\u001b[0;34m\u001b[0m\u001b[0m\n\u001b[1;32m     11\u001b[0m \u001b[0;32mfor\u001b[0m \u001b[0ma\u001b[0m\u001b[0;34m,\u001b[0m \u001b[0me\u001b[0m \u001b[0;32min\u001b[0m \u001b[0mzip\u001b[0m\u001b[0;34m(\u001b[0m\u001b[0malpha\u001b[0m\u001b[0;34m,\u001b[0m \u001b[0mepochs\u001b[0m\u001b[0;34m)\u001b[0m\u001b[0;34m:\u001b[0m\u001b[0;34m\u001b[0m\u001b[0;34m\u001b[0m\u001b[0m\n\u001b[0;32m---> 12\u001b[0;31m   \u001b[0mweights\u001b[0m\u001b[0;34m,\u001b[0m \u001b[0mcost_list\u001b[0m\u001b[0;34m,\u001b[0m \u001b[0mepoch_list\u001b[0m\u001b[0;34m,\u001b[0m \u001b[0mmse\u001b[0m \u001b[0;34m=\u001b[0m \u001b[0mSLP\u001b[0m\u001b[0;34m(\u001b[0m\u001b[0mx_train\u001b[0m\u001b[0;34m,\u001b[0m \u001b[0my_train\u001b[0m\u001b[0;34m,\u001b[0m \u001b[0me\u001b[0m\u001b[0;34m,\u001b[0m \u001b[0ma\u001b[0m\u001b[0;34m)\u001b[0m\u001b[0;34m\u001b[0m\u001b[0;34m\u001b[0m\u001b[0m\n\u001b[0m\u001b[1;32m     13\u001b[0m   \u001b[0;31m# print(weights)\u001b[0m\u001b[0;34m\u001b[0m\u001b[0;34m\u001b[0m\u001b[0;34m\u001b[0m\u001b[0m\n\u001b[1;32m     14\u001b[0m   \u001b[0mprint\u001b[0m\u001b[0;34m(\u001b[0m\u001b[0;34m\"Alph = \"\u001b[0m\u001b[0;34m,\u001b[0m \u001b[0ma\u001b[0m\u001b[0;34m,\u001b[0m \u001b[0;34m\"epoch = \"\u001b[0m\u001b[0;34m,\u001b[0m \u001b[0me\u001b[0m\u001b[0;34m)\u001b[0m\u001b[0;34m\u001b[0m\u001b[0;34m\u001b[0m\u001b[0m\n",
            "\u001b[0;31mNameError\u001b[0m: name 'SLP' is not defined"
          ]
        }
      ]
    },
    {
      "cell_type": "code",
      "metadata": {
        "colab": {
          "base_uri": "https://localhost:8080/",
          "height": 279
        },
        "id": "8AhIb6d3_n8J",
        "outputId": "9610d9e2-9462-46b6-d548-6cea8ea6ab02"
      },
      "source": [
        "plt.plot(epochs, validation_mse, color=\"blue\")\n",
        "plt.plot(epochs, train_mse, color=\"red\")\n",
        "plt.xlabel(\"Number of epochs\")\n",
        "plt.ylabel(\"MSE\")\n",
        "plt.show()\n"
      ],
      "execution_count": null,
      "outputs": [
        {
          "output_type": "display_data",
          "data": {
            "image/png": "[encoded data removed]",
            "text/plain": [
              "<Figure size 432x288 with 1 Axes>"
            ]
          },
          "metadata": {
            "needs_background": "light"
          }
        }
      ]
    },
    {
      "cell_type": "code",
      "metadata": {
        "id": "uF6FMQS_6JOp",
        "colab": {
          "base_uri": "https://localhost:8080/"
        },
        "outputId": "dcda87ee-13fb-4727-911c-8378d51225fd"
      },
      "source": [
        "e = 60\n",
        "a = 0.6\n",
        "weights, cost_list, epochs_list, mse = SLP(x_train, y_train, e, a)\n",
        "# print(weights)\n",
        "print(mse)\n",
        "# print(cost_list)\n",
        "# print(epochs_list)\n",
        "mse_ = cost_mse(weights, x_train, y_train)\n",
        "print(mse_)"
      ],
      "execution_count": null,
      "outputs": [
        {
          "output_type": "stream",
          "name": "stdout",
          "text": [
            "0.009874354891876689\n",
            "0.009235394873260647\n"
          ]
        }
      ]
    },
    {
      "cell_type": "markdown",
      "metadata": {
        "id": "R4vQUUqT7z3L"
      },
      "source": [
        "## **Finally report class-wise precision, recall, accuracy and overall accuracy considering 5-fold cross validation.**"
      ]
    },
    {
      "cell_type": "code",
      "metadata": {
        "colab": {
          "base_uri": "https://localhost:8080/"
        },
        "id": "hYRjYfE0uk2J",
        "outputId": "67dc1c02-b794-4383-b7f6-d03c59df2383"
      },
      "source": [
        "Y.shape, X.shape"
      ],
      "execution_count": null,
      "outputs": [
        {
          "output_type": "execute_result",
          "data": {
            "text/plain": [
              "((178,), (178, 13))"
            ]
          },
          "metadata": {},
          "execution_count": 27
        }
      ]
    },
    {
      "cell_type": "code",
      "metadata": {
        "id": "16yErswFKUTh"
      },
      "source": [
        "def kfold_cv(X, Y, fs = 5, epoch = 100, alpha = 0.5):\n",
        "  X, Y = shuffle(X, Y)\n",
        "  fold_size = fs\n",
        "  strtfdKFold = StratifiedKFold(n_splits=fold_size)\n",
        "  kfold = strtfdKFold.split(X, Y)\n",
        "  scores = []\n",
        "  e = epoch\n",
        "  a = alpha\n",
        "  total_cost = 0\n",
        "  for k, (train, test) in enumerate(kfold):\n",
        "    print(\"-\"*20, \"KFold - \",k +1,  \"-\"*20)\n",
        "    x_ftrain, y_ftrain = X[train], Y[train]\n",
        "    x_ftest, y_ftest = X[test], Y[test]\n",
        "    encoder = OneHotEncoder(sparse=False)\n",
        "    # transform data\n",
        "    y_ftrain = encoder.fit_transform(np.reshape(y_ftrain, (-1, 1)))\n",
        "    y_ftest =  encoder.fit_transform(np.reshape(y_ftest, (-1, 1)))\n",
        "    weights, cost_list, epochs_list, mse = SLP(x_ftrain, y_ftrain, e, a)\n",
        "    test_mse = cost_mse(weights, x_ftest,  y_ftest)\n",
        "    print(\"Test cost[Error] :\", test_mse)\n",
        "    total_cost += test_mse\n",
        "    y_pred_test = slp_predict(weights, x_ftest)\n",
        "    y_pred_test_inverse = encoder.inverse_transform(y_pred_test)\n",
        "    y_actual_test_inverse = encoder.inverse_transform(y_ftest)\n",
        "    print('Confusion Matrix : \\n' + str(confusion_matrix(y_actual_test_inverse, y_pred_test_inverse)))\n",
        "    # print('Confusion Matrix For Test Data set : \\n')\n",
        "    # cm = confusion_matrix(y_actual_test_inverse, y_pred_test_inverse)\n",
        "    # plt.figure(figsize = (10,7))\n",
        "    # # cmap= \"Greens_r\"\n",
        "    # # cmap= \"OrRd_r\"\n",
        "    # # cmap= \"OrRd\"\n",
        "    # sn.heatmap(cm, annot=True,cmap=\"Greens_r\")\n",
        "    print(\"Classification Report for 3-classes: \")\n",
        "    print(classification_report(y_ftest, y_pred_test))\n",
        "    accuracy_test = accuracy_score(y_ftest, y_pred_test)\n",
        "    print(\"Overall Test Accuracy: \", accuracy_test)\n",
        "  print(\"-----------------Done Kfold----------------\")    \n",
        "  print(\"Total Cost [Errors]\", total_cost/fold_size)    \n"
      ],
      "execution_count": null,
      "outputs": []
    },
    {
      "cell_type": "code",
      "metadata": {
        "colab": {
          "base_uri": "https://localhost:8080/"
        },
        "id": "QwmthoDPK3YA",
        "outputId": "f2b1d85d-3321-4825-c59e-99e6ce122b55"
      },
      "source": [
        "kfold_cv(X, Y, 5, 60, 0.6)"
      ],
      "execution_count": null,
      "outputs": [
        {
          "output_type": "stream",
          "name": "stdout",
          "text": [
            "-------------------- KFold -  1 --------------------\n",
            "Test cost[Error] : 0.011127209276922019\n",
            "Confusion Matrix : \n",
            "[[12  0  0]\n",
            " [ 0 14  0]\n",
            " [ 0  0 10]]\n",
            "Classification Report for 3-classes: \n",
            "              precision    recall  f1-score   support\n",
            "\n",
            "           0       1.00      0.92      0.96        12\n",
            "           1       1.00      1.00      1.00        14\n",
            "           2       1.00      1.00      1.00        10\n",
            "\n",
            "   micro avg       1.00      0.97      0.99        36\n",
            "   macro avg       1.00      0.97      0.99        36\n",
            "weighted avg       1.00      0.97      0.99        36\n",
            " samples avg       0.97      0.97      0.97        36\n",
            "\n",
            "Overall Test Accuracy:  0.9722222222222222\n",
            "-------------------- KFold -  2 --------------------\n"
          ]
        },
        {
          "output_type": "stream",
          "name": "stderr",
          "text": [
            "/usr/local/lib/python3.7/dist-packages/sklearn/metrics/_classification.py:1272: UndefinedMetricWarning: Precision and F-score are ill-defined and being set to 0.0 in samples with no predicted labels. Use `zero_division` parameter to control this behavior.\n",
            "  _warn_prf(average, modifier, msg_start, len(result))\n"
          ]
        },
        {
          "output_type": "stream",
          "name": "stdout",
          "text": [
            "Test cost[Error] : 0.01854266938926128\n",
            "Confusion Matrix : \n",
            "[[12  0  0]\n",
            " [ 1 12  1]\n",
            " [ 0  0 10]]\n",
            "Classification Report for 3-classes: \n",
            "              precision    recall  f1-score   support\n",
            "\n",
            "           0       1.00      1.00      1.00        12\n",
            "           1       1.00      0.86      0.92        14\n",
            "           2       0.91      1.00      0.95        10\n",
            "\n",
            "   micro avg       0.97      0.94      0.96        36\n",
            "   macro avg       0.97      0.95      0.96        36\n",
            "weighted avg       0.97      0.94      0.96        36\n",
            " samples avg       0.94      0.94      0.94        36\n",
            "\n",
            "Overall Test Accuracy:  0.9444444444444444\n",
            "-------------------- KFold -  3 --------------------\n"
          ]
        },
        {
          "output_type": "stream",
          "name": "stderr",
          "text": [
            "/usr/local/lib/python3.7/dist-packages/sklearn/metrics/_classification.py:1272: UndefinedMetricWarning: Precision and F-score are ill-defined and being set to 0.0 in samples with no predicted labels. Use `zero_division` parameter to control this behavior.\n",
            "  _warn_prf(average, modifier, msg_start, len(result))\n"
          ]
        },
        {
          "output_type": "stream",
          "name": "stdout",
          "text": [
            "Test cost[Error] : 0.020714993061635663\n",
            "Confusion Matrix : \n",
            "[[12  0  0]\n",
            " [ 1 13  0]\n",
            " [ 0  0 10]]\n",
            "Classification Report for 3-classes: \n",
            "              precision    recall  f1-score   support\n",
            "\n",
            "           0       0.92      0.92      0.92        12\n",
            "           1       1.00      1.00      1.00        14\n",
            "           2       1.00      1.00      1.00        10\n",
            "\n",
            "   micro avg       0.97      0.97      0.97        36\n",
            "   macro avg       0.97      0.97      0.97        36\n",
            "weighted avg       0.97      0.97      0.97        36\n",
            " samples avg       0.96      0.97      0.96        36\n",
            "\n",
            "Overall Test Accuracy:  0.9444444444444444\n",
            "-------------------- KFold -  4 --------------------\n"
          ]
        },
        {
          "output_type": "stream",
          "name": "stderr",
          "text": [
            "/usr/local/lib/python3.7/dist-packages/sklearn/metrics/_classification.py:1272: UndefinedMetricWarning: Precision and F-score are ill-defined and being set to 0.0 in samples with no predicted labels. Use `zero_division` parameter to control this behavior.\n",
            "  _warn_prf(average, modifier, msg_start, len(result))\n"
          ]
        },
        {
          "output_type": "stream",
          "name": "stdout",
          "text": [
            "Test cost[Error] : 0.005123874284818558\n",
            "Confusion Matrix : \n",
            "[[12  0  0]\n",
            " [ 0 14  0]\n",
            " [ 0  0  9]]\n",
            "Classification Report for 3-classes: \n",
            "              precision    recall  f1-score   support\n",
            "\n",
            "           0       1.00      1.00      1.00        12\n",
            "           1       1.00      1.00      1.00        14\n",
            "           2       1.00      1.00      1.00         9\n",
            "\n",
            "   micro avg       1.00      1.00      1.00        35\n",
            "   macro avg       1.00      1.00      1.00        35\n",
            "weighted avg       1.00      1.00      1.00        35\n",
            " samples avg       1.00      1.00      1.00        35\n",
            "\n",
            "Overall Test Accuracy:  1.0\n",
            "-------------------- KFold -  5 --------------------\n",
            "Test cost[Error] : 0.01643431433700694\n",
            "Confusion Matrix : \n",
            "[[11  0  0]\n",
            " [ 1 14  0]\n",
            " [ 0  1  8]]\n",
            "Classification Report for 3-classes: \n",
            "              precision    recall  f1-score   support\n",
            "\n",
            "           0       1.00      1.00      1.00        11\n",
            "           1       0.93      0.93      0.93        15\n",
            "           2       1.00      0.89      0.94         9\n",
            "\n",
            "   micro avg       0.97      0.94      0.96        35\n",
            "   macro avg       0.98      0.94      0.96        35\n",
            "weighted avg       0.97      0.94      0.96        35\n",
            " samples avg       0.94      0.94      0.94        35\n",
            "\n",
            "Overall Test Accuracy:  0.9428571428571428\n",
            "-----------------Done Kfold----------------\n",
            "Total Cost [Errors] 0.014388612069928891\n"
          ]
        },
        {
          "output_type": "stream",
          "name": "stderr",
          "text": [
            "/usr/local/lib/python3.7/dist-packages/sklearn/metrics/_classification.py:1272: UndefinedMetricWarning: Precision and F-score are ill-defined and being set to 0.0 in samples with no predicted labels. Use `zero_division` parameter to control this behavior.\n",
            "  _warn_prf(average, modifier, msg_start, len(result))\n"
          ]
        }
      ]
    }
  ]
}