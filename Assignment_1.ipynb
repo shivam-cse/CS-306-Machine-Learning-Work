{
  "nbformat": 4,
  "nbformat_minor": 0,
  "metadata": {
    "colab": {
      "name": "Assignment_1.ipynb",
      "provenance": [],
      "collapsed_sections": [],
      "toc_visible": true,
      "authorship_tag": "ABX9TyMBv2EacNeVaB5FPvGfU0MW",
      "include_colab_link": true
    },
    "kernelspec": {
      "name": "python3",
      "display_name": "Python 3"
    },
    "language_info": {
      "name": "python"
    }
  },
  "cells": [
    {
      "cell_type": "markdown",
      "metadata": {
        "id": "view-in-github",
        "colab_type": "text"
      },
      "source": [
        "<a href=\"https://colab.research.google.com/github/shivam-cse/CS-306-Machine-Learning-Work/blob/main/Assignment_1.ipynb\" target=\"_parent\"><img src=\"https://colab.research.google.com/assets/colab-badge.svg\" alt=\"Open In Colab\"/></a>"
      ]
    },
    {
      "cell_type": "markdown",
      "metadata": {
        "id": "glXaU5-xGXfm"
      },
      "source": [
        "Part1_q1\n"
      ]
    },
    {
      "cell_type": "code",
      "metadata": {
        "colab": {
          "base_uri": "https://localhost:8080/"
        },
        "id": "qvudH4be4juP",
        "outputId": "6935c0ea-e283-4d79-c075-c6013072043f"
      },
      "source": [
        "import numpy as np\n",
        "\n",
        "array_10_zeros = np.zeros(10 , dtype='int')\n",
        "array_10_ones = np.ones(10, dtype='int')\n",
        "array_10_five = np.ones(10, dtype='int') * 5\n",
        "arr=np.concatenate((array_10_zeros,array_10_ones,array_10_five))\n",
        "print(arr)\n",
        "#print(\"An array of 10 zeroes : \")\n",
        "#print(array_10_zeros)\n",
        "#print(\"An array of 10 ones : \")\n",
        "#print(array_10_ones)\n",
        "#print(\"An array of 10 fives : \")\n",
        "#print(array_10_five)\n"
      ],
      "execution_count": null,
      "outputs": [
        {
          "output_type": "stream",
          "text": [
            "[0 0 0 0 0 0 0 0 0 0 1 1 1 1 1 1 1 1 1 1 5 5 5 5 5 5 5 5 5 5]\n"
          ],
          "name": "stdout"
        }
      ]
    },
    {
      "cell_type": "markdown",
      "metadata": {
        "id": "bjRj8nIrHL-4"
      },
      "source": [
        "Part1_q2\n"
      ]
    },
    {
      "cell_type": "code",
      "metadata": {
        "colab": {
          "base_uri": "https://localhost:8080/"
        },
        "id": "5bzBDgzH6BEI",
        "outputId": "71ce6055-d357-43a8-ab31-424c0dd58dad"
      },
      "source": [
        "import numpy as np\n",
        "\n",
        "array = np.arange(10, 51, 2, dtype=\"int\")\n",
        "\n",
        "print(array)\n"
      ],
      "execution_count": null,
      "outputs": [
        {
          "output_type": "stream",
          "text": [
            "[10 12 14 16 18 20 22 24 26 28 30 32 34 36 38 40 42 44 46 48 50]\n"
          ],
          "name": "stdout"
        }
      ]
    },
    {
      "cell_type": "markdown",
      "metadata": {
        "id": "znx8Uhj0H2LB"
      },
      "source": [
        "Part1_q3"
      ]
    },
    {
      "cell_type": "code",
      "metadata": {
        "colab": {
          "base_uri": "https://localhost:8080/"
        },
        "id": "Dmq1Gdte6LuZ",
        "outputId": "6fbe0eb4-2eee-470e-a6f8-4ab85575d8c7"
      },
      "source": [
        "import numpy as np\n",
        "from numpy.random.mtrand import rand\n",
        "\n",
        "# randNumber = np.random.uniform(0,1,30) #float between 0 to 1 size 3\n",
        "randNumber = np.random.random() #it take only size and generate rand float value in between 0 to 1\n",
        "\n",
        "print(\"rand Number\", randNumber)"
      ],
      "execution_count": null,
      "outputs": [
        {
          "output_type": "stream",
          "text": [
            "rand Numvber 0.10770930312397997\n"
          ],
          "name": "stdout"
        }
      ]
    },
    {
      "cell_type": "markdown",
      "metadata": {
        "id": "b-gtb-k9HU9y"
      },
      "source": [
        "part1_q4"
      ]
    },
    {
      "cell_type": "code",
      "metadata": {
        "colab": {
          "base_uri": "https://localhost:8080/"
        },
        "id": "Y3punYyD6U6J",
        "outputId": "250c6c65-231b-421a-a877-b714ff32256f"
      },
      "source": [
        "import numpy as np\n",
        "\n",
        "matrix = np.random.random(12).reshape(4,3)\n",
        "\n",
        "print(matrix)\n",
        "\n",
        "np.savetxt('data.txt',matrix, fmt=\"%f\", header=\"\\nThis is matrix data\", footer=\"end..\")\n",
        "\n",
        "data_load = np.loadtxt(\"data.txt\", dtype=\"double\")\n",
        "print(\"loaded data ..\")\n",
        "print(data_load)\n"
      ],
      "execution_count": null,
      "outputs": [
        {
          "output_type": "stream",
          "text": [
            "[[0.07080124 0.61472358 0.84543519]\n",
            " [0.75071129 0.22085727 0.94561912]\n",
            " [0.29741058 0.1013267  0.24935258]\n",
            " [0.08001075 0.97843321 0.85591781]]\n",
            "loaded data ..\n",
            "[[0.070801 0.614724 0.845435]\n",
            " [0.750711 0.220857 0.945619]\n",
            " [0.297411 0.101327 0.249353]\n",
            " [0.080011 0.978433 0.855918]]\n"
          ],
          "name": "stdout"
        }
      ]
    },
    {
      "cell_type": "markdown",
      "metadata": {
        "id": "lN0GqlD7H8wg"
      },
      "source": [
        "Part2_q1\n"
      ]
    },
    {
      "cell_type": "code",
      "metadata": {
        "colab": {
          "base_uri": "https://localhost:8080/"
        },
        "id": "e8akN1yN6oeI",
        "outputId": "54aef25c-e276-4298-f6f0-f8e8275f34ae"
      },
      "source": [
        "import numpy as np\n",
        "import pandas as pd\n",
        "import matplotlib.image as img\n",
        "\n",
        "\n",
        "image_mat = img.imread(\"img1.jpg\")\n",
        "print(\"Shape of the image matrixe : \", image_mat.shape)\n",
        "\n",
        "\n",
        "# now change our dimension\n",
        "if image_mat.shape[2] == 3:\n",
        "    # reshape from 3d to 2d matrixe\n",
        "    new_image_mat = image_mat.reshape(image_mat.shape[0], -1)\n",
        "\n",
        "else:\n",
        "    new_image_mat = image_mat\n",
        "\n",
        "# converting matrix to data frame using pandas\n",
        "df_new_image_mat = pd.DataFrame(new_image_mat)\n",
        "df_new_image_mat.to_csv('dataImg.csv', index=None, header=None)\n",
        "\n",
        "\n"
      ],
      "execution_count": null,
      "outputs": [
        {
          "output_type": "stream",
          "text": [
            "Shape of the image matrixe :  (180, 280, 3)\n"
          ],
          "name": "stdout"
        }
      ]
    },
    {
      "cell_type": "markdown",
      "metadata": {
        "id": "Cmyw9rDnIBZF"
      },
      "source": [
        "Part2_q2"
      ]
    },
    {
      "cell_type": "code",
      "metadata": {
        "colab": {
          "base_uri": "https://localhost:8080/"
        },
        "id": "wK1lLiKZ7u4F",
        "outputId": "8b4eb806-7b95-47bd-a4bb-6ca5d06c4569"
      },
      "source": [
        "import pandas as pd\n",
        "import numpy as np\n",
        "df =pd.read_csv('dataImg.csv')\n",
        "new_df =pd.read_csv('dataImg.csv',nrows=len(df)-1,usecols=range(len(df.columns)-1))\n",
        "print(new_df)"
      ],
      "execution_count": null,
      "outputs": [
        {
          "output_type": "stream",
          "text": [
            "     1  2   7  1.1  2.1  7.1  1.2  ...  3.51  11.19  3.52  3.53  11.20  3.54  3.55\n",
            "0    1  2   7    1    2    7    1  ...     3     11     3     3     11     3     3\n",
            "1    1  2   7    1    2    7    1  ...     3     11     3     3     11     3     3\n",
            "2    1  2   7    1    2    7    1  ...     3     11     3     3     11     3     3\n",
            "3    1  2   7    1    2    7    1  ...     3     11     3     3     11     3     3\n",
            "4    1  2   7    1    2    7    1  ...     3     11     3     3     11     3     3\n",
            "..  .. ..  ..  ...  ...  ...  ...  ...   ...    ...   ...   ...    ...   ...   ...\n",
            "173  5  5  13    5    5   13    5  ...     5     17     5     5     17     5     5\n",
            "174  5  5  13    5    5   13    5  ...     5     17     5     5     17     5     5\n",
            "175  2  8   8    2    8    8    2  ...     5     17     5     5     17     5     5\n",
            "176  2  8   8    2    8    8    2  ...     5     17     5     5     17     5     5\n",
            "177  2  8   8    2    8    8    2  ...     5     17     5     5     17     5     5\n",
            "\n",
            "[178 rows x 839 columns]\n"
          ],
          "name": "stdout"
        }
      ]
    },
    {
      "cell_type": "markdown",
      "metadata": {
        "id": "XNpXdlxuIJXh"
      },
      "source": [
        "Part2_q3"
      ]
    },
    {
      "cell_type": "code",
      "metadata": {
        "colab": {
          "base_uri": "https://localhost:8080/"
        },
        "id": "6GPIaHOX7Rts",
        "outputId": "a63fae0e-848b-4f77-8de9-201c276f6c65"
      },
      "source": [
        "import pandas as pd\n",
        "from datetime import date\n",
        "\n",
        "now = pd.to_datetime(\"now\").date()\n",
        "print(\"Today's date:\")\n",
        "\n"
      ],
      "execution_count": null,
      "outputs": [
        {
          "output_type": "stream",
          "text": [
            "Today's date:\n"
          ],
          "name": "stdout"
        }
      ]
    },
    {
      "cell_type": "markdown",
      "metadata": {
        "id": "D56IHSetIMP-"
      },
      "source": [
        "Part3_q1"
      ]
    },
    {
      "cell_type": "code",
      "metadata": {
        "colab": {
          "base_uri": "https://localhost:8080/"
        },
        "id": "6rxr8-ga8-L5",
        "outputId": "c99add2e-86e5-4d77-abc5-8779c25ff5ec"
      },
      "source": [
        "#taken help from gfg\n",
        "\n",
        "from datetime import date\n",
        "\n",
        "def calculateAgeOfPerson(birthDate):\n",
        "\tdays_in_year = 365.2425\n",
        "\tage_Of_person = int((date.today() - birthDate).days / days_in_year)\n",
        "\treturn age_Of_person\n",
        "\t\t\n",
        "\n",
        "DOB = input(\"Enter your Data of Birth(DD/MM/YYYY)\")\n",
        "\n",
        "#spliting data \n",
        "bday = DOB.split('/')\n",
        "day = int(bday[0])\n",
        "month = int(bday[1])\n",
        "year = int(bday[2])\n",
        "\n",
        "print(calculateAgeOfPerson(date(year,month,day)), \"years old\")\n",
        "\n"
      ],
      "execution_count": null,
      "outputs": [
        {
          "output_type": "stream",
          "text": [
            "Enter your Data of Birth(DD/MM/YYYY)3/2/1997\n",
            "24 years old\n"
          ],
          "name": "stdout"
        }
      ]
    },
    {
      "cell_type": "code",
      "metadata": {
        "colab": {
          "base_uri": "https://localhost:8080/"
        },
        "id": "2CigrMshbPSi",
        "outputId": "cd89fcc7-1812-4520-9c92-5c9dcef55280"
      },
      "source": [
        "from datetime import date\n",
        "\n",
        "def calculateAge1OfPerson(birthDate):\n",
        "      today = date.today()\n",
        "      curr_date = int(today.day)\n",
        "      curr_month = int(today.month)\n",
        "      curr_year = int(today.year)\n",
        "\n",
        "      user_date = int(birthDate.day)\n",
        "      user_month = int(birthDate.month)\n",
        "      user_year = int(birthDate.year)\n",
        "      \n",
        "      months = [31, 28, 31, 30, 31, 30, 31, 31, 30, 31, 30, 31]\n",
        "\n",
        "      if(user_date > curr_date):\n",
        "        \n",
        "      return user_date\n",
        "\n",
        "DOB = input(\"Enter your Data of Birth(DD/MM/YYYY)\")\n",
        "\n",
        "#spliting data \n",
        "bday = DOB.split('/')\n",
        "day = int(bday[0])\n",
        "month = int(bday[1])\n",
        "year = int(bday[2])\n",
        "\n",
        "print(calculateAge1OfPerson(date(year,month,day)), \"years old\")"
      ],
      "execution_count": null,
      "outputs": [
        {
          "output_type": "stream",
          "text": [
            "Enter your Data of Birth(DD/MM/YYYY)2/3/4\n",
            "2 years old\n"
          ],
          "name": "stdout"
        }
      ]
    }
  ]
}