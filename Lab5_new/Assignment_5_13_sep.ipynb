{
  "nbformat": 4,
  "nbformat_minor": 0,
  "metadata": {
    "colab": {
      "name": "Assignment_5_13_sep.ipynb",
      "provenance": [],
      "collapsed_sections": [],
      "authorship_tag": "ABX9TyNnUB87eOyqYjncBOdtyflA",
      "include_colab_link": true
    },
    "kernelspec": {
      "name": "python3",
      "display_name": "Python 3"
    },
    "language_info": {
      "name": "python"
    }
  },
  "cells": [
    {
      "cell_type": "markdown",
      "metadata": {
        "id": "view-in-github",
        "colab_type": "text"
      },
      "source": [
        "<a href=\"https://colab.research.google.com/github/shivam-cse/CS-306-Machine-Learning-Work/blob/main/Lab5_new/Assignment_5_13_sep.ipynb\" target=\"_parent\"><img src=\"https://colab.research.google.com/assets/colab-badge.svg\" alt=\"Open In Colab\"/></a>"
      ]
    },
    {
      "cell_type": "code",
      "metadata": {
        "id": "rXtDkACaPnqq"
      },
      "source": [
        "from sklearn import datasets\n",
        "from sklearn.metrics import mean_squared_error\n",
        "boston = datasets.load_boston(return_X_y=False)\n",
        "x = boston['data']\n",
        "y = boston['target']\n",
        "print(x)\n",
        "print(y)"
      ],
      "execution_count": null,
      "outputs": []
    },
    {
      "cell_type": "code",
      "metadata": {
        "id": "4MYem4H5ezE8",
        "colab": {
          "base_uri": "https://localhost:8080/"
        },
        "outputId": "35b0f90f-2912-40e6-e86c-30254b57ceac"
      },
      "source": [
        "from sklearn.preprocessing import scale\n",
        "x = scale(x)\n",
        "x\n"
      ],
      "execution_count": null,
      "outputs": [
        {
          "output_type": "execute_result",
          "data": {
            "text/plain": [
              "array([[-0.41978194,  0.28482986, -1.2879095 , ..., -1.45900038,\n",
              "         0.44105193, -1.0755623 ],\n",
              "       [-0.41733926, -0.48772236, -0.59338101, ..., -0.30309415,\n",
              "         0.44105193, -0.49243937],\n",
              "       [-0.41734159, -0.48772236, -0.59338101, ..., -0.30309415,\n",
              "         0.39642699, -1.2087274 ],\n",
              "       ...,\n",
              "       [-0.41344658, -0.48772236,  0.11573841, ...,  1.17646583,\n",
              "         0.44105193, -0.98304761],\n",
              "       [-0.40776407, -0.48772236,  0.11573841, ...,  1.17646583,\n",
              "         0.4032249 , -0.86530163],\n",
              "       [-0.41500016, -0.48772236,  0.11573841, ...,  1.17646583,\n",
              "         0.44105193, -0.66905833]])"
            ]
          },
          "metadata": {},
          "execution_count": 3
        }
      ]
    },
    {
      "cell_type": "markdown",
      "metadata": {
        "id": "uSNEq2QFSFOQ"
      },
      "source": [
        "## **train(30%), validation (10%), and test(60%)**"
      ]
    },
    {
      "cell_type": "code",
      "metadata": {
        "id": "qjl9cpbDROiz"
      },
      "source": [
        "from sklearn.model_selection import train_test_split\n",
        "import numpy as np\n",
        "train_frac = 0.3  #30%   left ->: 100-30 = 70%\n",
        "valid_frac = 10/70 #(100/70)*10\n",
        "test_frac = 60/70 #(100/70)*60\n",
        "\n",
        "x_train, x_rem, y_train, y_rem = train_test_split(x, y, train_size=train_frac)\n",
        "x_valid, x_test, y_valid,  y_test = train_test_split(x_rem, y_rem,  test_size=test_frac)"
      ],
      "execution_count": null,
      "outputs": []
    },
    {
      "cell_type": "markdown",
      "metadata": {
        "id": "JJAY94GyR5DO"
      },
      "source": [
        "## **Normalize the dataset and train the linear regression**\n",
        "### **model using inbuild code**\n",
        "“from sklearn.linear_model import LinearRegression”"
      ]
    },
    {
      "cell_type": "code",
      "metadata": {
        "id": "6j0ITkcpSBQ4"
      },
      "source": [
        "import numpy as np\n",
        "from sklearn.linear_model import SGDRegressor\n",
        "# from sklearn.pipeline import make_pipeline\n",
        "n_samples, n_features = x_train[0], x_train[1]\n",
        "sgd_model = SGDRegressor()\n",
        "print(sgd_model)"
      ],
      "execution_count": null,
      "outputs": []
    },
    {
      "cell_type": "code",
      "metadata": {
        "id": "bh9uuVO2iMS1"
      },
      "source": [
        "sgd_model.fit(x_train, y_train)"
      ],
      "execution_count": null,
      "outputs": []
    },
    {
      "cell_type": "code",
      "metadata": {
        "colab": {
          "base_uri": "https://localhost:8080/"
        },
        "id": "kJfd5PVBiAz8",
        "outputId": "d4c86e3c-7eec-445e-a459-519dae6ce8ed"
      },
      "source": [
        "# we'll fit the model on train data and check the model accuracy score.\n",
        "score = sgd_model.score(x_train, y_train)\n",
        "print(\"Training Accuracy:\", score)\n"
      ],
      "execution_count": null,
      "outputs": [
        {
          "output_type": "stream",
          "name": "stdout",
          "text": [
            "Training Accuracy: 0.7795510414195177\n"
          ]
        }
      ]
    },
    {
      "cell_type": "code",
      "metadata": {
        "colab": {
          "base_uri": "https://localhost:8080/"
        },
        "id": "rJHI2ZKDjHy3",
        "outputId": "46a87748-cad6-4d04-f1e3-d2586edd2987"
      },
      "source": [
        "y_pred = sgd_model.predict(x_test)\n",
        "mse = mean_squared_error(y_test, y_pred)\n",
        "print(\"Testing MSE: \", mse)\n",
        "print(\"Testing RMSE: \", mse**(1/2.0))"
      ],
      "execution_count": null,
      "outputs": [
        {
          "output_type": "stream",
          "name": "stdout",
          "text": [
            "Testing MSE:  23.224851398943596\n",
            "Testing RMSE:  4.819216886480997\n"
          ]
        }
      ]
    },
    {
      "cell_type": "code",
      "metadata": {
        "id": "jPmhbv7-fztY"
      },
      "source": [
        ""
      ],
      "execution_count": null,
      "outputs": []
    }
  ]
}