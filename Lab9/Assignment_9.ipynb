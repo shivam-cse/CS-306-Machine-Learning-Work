{
  "nbformat": 4,
  "nbformat_minor": 0,
  "metadata": {
    "colab": {
      "name": "Assignment_9.ipynb",
      "provenance": [],
      "collapsed_sections": [],
      "authorship_tag": "ABX9TyNi623v4kF4rh/icWUsbDGb",
      "include_colab_link": true
    },
    "kernelspec": {
      "name": "python3",
      "display_name": "Python 3"
    },
    "language_info": {
      "name": "python"
    }
  },
  "cells": [
    {
      "cell_type": "markdown",
      "metadata": {
        "id": "view-in-github",
        "colab_type": "text"
      },
      "source": [
        "<a href=\"https://colab.research.google.com/github/shivam-cse/CS-306-Machine-Learning-Work/blob/main/Lab9/Assignment_9.ipynb\" target=\"_parent\"><img src=\"https://colab.research.google.com/assets/colab-badge.svg\" alt=\"Open In Colab\"/></a>"
      ]
    },
    {
      "cell_type": "code",
      "metadata": {
        "id": "d1ZV5taRcMfx"
      },
      "source": [
        "from sklearn.metrics import confusion_matrix, precision_score, recall_score, accuracy_score, classification_report\n",
        "from sklearn.model_selection import train_test_split\n",
        "from sklearn.model_selection import StratifiedKFold\n",
        "from sklearn.preprocessing import OneHotEncoder\n",
        "from sklearn.preprocessing import LabelEncoder\n",
        "from matplotlib import pyplot as plt\n",
        "from sklearn.utils import shuffle\n",
        "import matplotlib.pyplot as plt\n",
        "from numpy import asarray\n",
        "import seaborn as sns\n",
        "import seaborn as sn\n",
        "import pandas as pd\n",
        "import numpy as np\n",
        "import warnings\n",
        "import random"
      ],
      "execution_count": null,
      "outputs": []
    },
    {
      "cell_type": "code",
      "metadata": {
        "colab": {
          "base_uri": "https://localhost:8080/"
        },
        "id": "C09DLnNRgrxe",
        "outputId": "4b8787d2-8a7f-4a84-a276-513112bc9ccb"
      },
      "source": [
        "from sklearn import datasets\n",
        "iris = datasets.load_iris()\n",
        "print(iris.keys())"
      ],
      "execution_count": null,
      "outputs": [
        {
          "output_type": "stream",
          "name": "stdout",
          "text": [
            "dict_keys(['data', 'target', 'target_names', 'DESCR', 'feature_names', 'filename'])\n"
          ]
        }
      ]
    },
    {
      "cell_type": "code",
      "metadata": {
        "colab": {
          "base_uri": "https://localhost:8080/"
        },
        "id": "QtYNqYBug1Wl",
        "outputId": "853b8926-e989-44e6-b264-800cac285e58"
      },
      "source": [
        "X = iris.data\n",
        "Y = iris.target\n",
        "# X, Y = shuffle(X, Y)\n",
        "X = pd.DataFrame(X, columns=iris.feature_names)\n",
        "print(X)"
      ],
      "execution_count": null,
      "outputs": [
        {
          "output_type": "stream",
          "name": "stdout",
          "text": [
            "     sepal length (cm)  sepal width (cm)  petal length (cm)  petal width (cm)\n",
            "0                  5.1               3.5                1.4               0.2\n",
            "1                  4.9               3.0                1.4               0.2\n",
            "2                  4.7               3.2                1.3               0.2\n",
            "3                  4.6               3.1                1.5               0.2\n",
            "4                  5.0               3.6                1.4               0.2\n",
            "..                 ...               ...                ...               ...\n",
            "145                6.7               3.0                5.2               2.3\n",
            "146                6.3               2.5                5.0               1.9\n",
            "147                6.5               3.0                5.2               2.0\n",
            "148                6.2               3.4                5.4               2.3\n",
            "149                5.9               3.0                5.1               1.8\n",
            "\n",
            "[150 rows x 4 columns]\n"
          ]
        }
      ]
    },
    {
      "cell_type": "markdown",
      "metadata": {
        "id": "Yah_fvdAllYZ"
      },
      "source": [
        "## **a.\tPlot the dataset before training.**"
      ]
    },
    {
      "cell_type": "code",
      "metadata": {
        "colab": {
          "base_uri": "https://localhost:8080/",
          "height": 369
        },
        "id": "J2u6iu9llCcc",
        "outputId": "caf8858a-6fd0-46bc-fdeb-bdeb178c821a"
      },
      "source": [
        "# https://stackoverflow.com/questions/45862223/use-different-colors-in-scatterplot-for-iris-dataset\n",
        "\n",
        "dataset = pd.DataFrame(iris.data, columns=iris.feature_names)\n",
        "dataset['target'] = iris.target\n",
        "dataset['ID'] = dataset.index\n",
        "dataset['ratio'] = dataset['sepal length (cm)']/dataset['sepal width (cm)']\n",
        "sns.lmplot(x=\"ID\", y=\"ratio\", data=dataset, hue=\"target\", fit_reg=False, legend=False)\n",
        "plt.legend()\n",
        "plt.show()"
      ],
      "execution_count": null,
      "outputs": [
        {
          "output_type": "display_data",
          "data": {
            "image/png": "[encoded data removed]",
            "text/plain": [
              "<Figure size 360x360 with 1 Axes>"
            ]
          },
          "metadata": {
            "needs_background": "light"
          }
        }
      ]
    },
    {
      "cell_type": "markdown",
      "metadata": {
        "id": "JH3Xr6yOo_eq"
      },
      "source": [
        "## **SLP (one architecture) for multi-class classification**"
      ]
    },
    {
      "cell_type": "code",
      "metadata": {
        "id": "4CDmyIylo-uN"
      },
      "source": [
        "\n",
        "def sigmoid(z):\n",
        "    # Activation function used to map any real value between 0 and 1\n",
        "    return 1 / (1 + np.exp(-z))\n",
        "\n",
        "\n",
        "def slp_predict(weights, X):\n",
        "  X = add_intercept(X)\n",
        "  y_predicted = sigmoid(np.dot(X, weights.T))\n",
        "  # y_predicted_cls = threshold(sigmoid(linear_model))\n",
        "  y_pred = np.where(y_predicted >= 0.5 , 1, 0)\n",
        "  return np.array(y_pred)\n",
        "\n",
        "def cost_mse(weights, X, Y):\n",
        "  X = add_intercept(X)\n",
        "  total_samples = X.shape[0]\n",
        "  jw = 0\n",
        "  for j in range(total_samples): #index from total samples\n",
        "          sample_x = X[j]\n",
        "          sample_y = Y[j]\n",
        "          y_predicted = sigmoid(np.dot(sample_x, weights.T))\n",
        "          # print(sample_y, y_predicted)\n",
        "          jw = jw + (np.sum((sample_y - y_predicted) ** 2))/2\n",
        "  jw = (jw)/(2*total_samples)\n",
        "  return jw\n",
        "  \n",
        "\n",
        "def accuracy(y_true, y_pred):\n",
        "    ans = 0\n",
        "    for i in range(y_true.shape[0]):\n",
        "      y1 = y_true[i]\n",
        "      y2 = y_pred[i]\n",
        "      count = np.sum(y1 == y2)\n",
        "      if count == 3:\n",
        "        ans = ans + 1\n",
        "  \n",
        "    ans = ans/len(y_true)\n",
        "    return ans   \n",
        "\n",
        "\n",
        "def add_intercept(x):\n",
        "  intercept = np.ones((x.shape[0], 1))\n",
        "  return np.concatenate((intercept, x), axis=1)\n",
        "\n",
        "def SLP(X_train, Y_train, epoch, learning_rate):\n",
        "    X_train = add_intercept(X_train)\n",
        "    number_of_features = X_train.shape[1]\n",
        "    number_of_class = Y_train.shape[1]\n",
        "    # numpy array with 1 row and columns equal to number of features. In\n",
        "    # weights = np.ones(shape=(number_of_features)) \n",
        "    weights = np.empty(shape=(number_of_class, number_of_features))\n",
        "    weights.fill(0.1)\n",
        "    cost_list = list()\n",
        "    epoch_list = list()\n",
        "    mse = 0\n",
        "    # weights = np.array([0.1, 0.1, 0.1])\n",
        "    total_samples = X_train.shape[0]\n",
        "    for i in range(epoch + 1): \n",
        "        jw = 0   \n",
        "        for j in range(total_samples): # random index from total samples\n",
        "          sample_x = X_train[j]\n",
        "          sample_y = Y_train[j]\n",
        "         \n",
        "          y_predicted = sigmoid(np.dot(sample_x, weights.T))\n",
        "          # print(sample_y, y_predicted)\n",
        "          jw = jw + (np.sum((sample_y - y_predicted) ** 2))/2\n",
        "          # print(jw)\n",
        "          w_grad = ((np.dot(sample_x[:, None], (sample_y - y_predicted)[None, : ]))*y_predicted*(1-y_predicted)).T          \n",
        "          weights = weights + learning_rate * w_grad\n",
        "        jw = (jw)/(2*total_samples)\n",
        "        mse = jw\n",
        "        if i == 100: # at every 100th iteration record the cost and epoch value\n",
        "         cost_list.append(jw)\n",
        "         epoch_list.append(i)\n",
        "        \n",
        "    return weights, cost_list, epoch_list, mse\n",
        "\n",
        "\n"
      ],
      "execution_count": null,
      "outputs": []
    },
    {
      "cell_type": "code",
      "metadata": {
        "colab": {
          "base_uri": "https://localhost:8080/",
          "height": 265
        },
        "id": "66pxqmk4p4xa",
        "outputId": "3ab55f83-8f1b-4e56-843c-332ca592b7e5"
      },
      "source": [
        "from sklearn.preprocessing import MinMaxScaler\n",
        "minmax = MinMaxScaler()\n",
        "dataset_new = minmax.fit_transform(X)\n",
        "X = pd.DataFrame(dataset_new, columns=iris.feature_names)\n",
        "X.plot.kde()\n",
        "X = X.values"
      ],
      "execution_count": null,
      "outputs": [
        {
          "output_type": "display_data",
          "data": {
            "image/png": "[encoded data removed]",
            "text/plain": [
              "<Figure size 432x288 with 1 Axes>"
            ]
          },
          "metadata": {
            "needs_background": "light"
          }
        }
      ]
    },
    {
      "cell_type": "markdown",
      "metadata": {
        "id": "lfgcRLvwqcz8"
      },
      "source": [
        "## **One Hot Encoding**"
      ]
    },
    {
      "cell_type": "code",
      "metadata": {
        "id": "1cgrarQNqbzo"
      },
      "source": [
        "# define one hot encoding\n",
        "encoder = OneHotEncoder(sparse=False)\n",
        "# transform data\n",
        "onehot = encoder.fit_transform(np.reshape(Y, (-1, 1)))\n",
        "print(onehot)\n",
        "# temp = encoder.inverse_transform(onehot)\n",
        "# print(temp)"
      ],
      "execution_count": null,
      "outputs": []
    },
    {
      "cell_type": "code",
      "metadata": {
        "colab": {
          "base_uri": "https://localhost:8080/"
        },
        "id": "Zp8eGztUq4_3",
        "outputId": "6bdef9a0-92f8-4408-986e-63628fd7e644"
      },
      "source": [
        "train_frac = 60/100  #60%   left ->: 100-60 = 40%\n",
        "valid_frac = 20/40 #(100/70)*10\n",
        "test_frac = 20/40 #(100/70)*60\n",
        "print(\"total : \", X.shape)\n",
        "x_train, x_rem, y_train, y_rem = train_test_split(X, onehot, train_size=train_frac)\n",
        "x_valid, x_test, y_valid,  y_test = train_test_split(x_rem, y_rem,  test_size=test_frac)\n",
        "print(x_train.shape, y_train.shape)\n",
        "print(x_test.shape, y_test.shape)\n",
        "print(x_valid.shape, y_valid.shape)"
      ],
      "execution_count": null,
      "outputs": [
        {
          "output_type": "stream",
          "name": "stdout",
          "text": [
            "total :  (150, 4)\n",
            "(90, 4) (90, 3)\n",
            "(30, 4) (30, 3)\n",
            "(30, 4) (30, 3)\n"
          ]
        }
      ]
    },
    {
      "cell_type": "markdown",
      "metadata": {
        "id": "M9mApwrzo1bO"
      },
      "source": [
        "## **b.\tCheck overfitting issue**"
      ]
    },
    {
      "cell_type": "code",
      "metadata": {
        "colab": {
          "base_uri": "https://localhost:8080/"
        },
        "id": "0KuMK0gnoth1",
        "outputId": "b2bd3350-48de-4a85-c5f3-d149592f6122"
      },
      "source": [
        "# rho = [0.00001, 0.00001, 0.00007, 0.000008, 0.00009]\n",
        "alpha = [0.6, 0.6, 0.6, 0.6, 0.6, 0.6, 0.6]\n",
        "epochs = [10, 50, 100, 150, 170, 280, 300]\n",
        "\n",
        "validation_accuracy = []\n",
        "train_accuracy = []\n",
        "test_accuracy = []\n",
        "train_mse = []\n",
        "validation_mse = []\n",
        "test_mse = []\n",
        "for a, e in zip(alpha, epochs):\n",
        "  weights, cost_list, epoch_list, mse = SLP(x_train, y_train, e, a)\n",
        "  # print(weights)\n",
        "  print(\"Alph = \", a, \"epoch = \", e)\n",
        "  y_pred_train = slp_predict(weights, x_train)\n",
        "  y_pred_valid = slp_predict(weights, x_valid)\n",
        "  y_pred_test = slp_predict(weights, x_test)\n",
        "  accuracy_train = accuracy_score(y_train, y_pred_train)\n",
        "  accuracy_valid = accuracy_score(y_valid, y_pred_valid)\n",
        "  accuracy_test = accuracy_score(y_test, y_pred_test)\n",
        "  print(\"Train Accuracy : \", accuracy_train)\n",
        "  print(\"Validation Accuracy : \", accuracy_valid)\n",
        "  print(\"Test Accuracy : \", accuracy_test)\n",
        "  validation_accuracy.append(accuracy_valid)\n",
        "  train_accuracy.append(accuracy_train)\n",
        "  test_accuracy.append(accuracy_test)\n",
        "  mse_ = cost_mse(weights, x_valid, y_valid)\n",
        "  mse_t = cost_mse(weights, x_test, y_test)\n",
        "  train_mse.append(mse)\n",
        "  validation_mse.append(mse_)\n",
        "  test_mse.append(mse_t)\n",
        "  print(\"-\"*50)\n",
        "  # print(cost_list)\n",
        "  # print(epoch_list)\n"
      ],
      "execution_count": null,
      "outputs": [
        {
          "output_type": "stream",
          "name": "stdout",
          "text": [
            "Alph =  0.6 epoch =  10\n",
            "Train Accuracy :  0.7\n",
            "Validation Accuracy :  0.6333333333333333\n",
            "Test Accuracy :  0.7333333333333333\n",
            "--------------------------------------------------\n",
            "Alph =  0.6 epoch =  50\n",
            "Train Accuracy :  0.7444444444444445\n",
            "Validation Accuracy :  0.7\n",
            "Test Accuracy :  0.7\n",
            "--------------------------------------------------\n",
            "Alph =  0.6 epoch =  100\n",
            "Train Accuracy :  0.7444444444444445\n",
            "Validation Accuracy :  0.7\n",
            "Test Accuracy :  0.7\n",
            "--------------------------------------------------\n",
            "Alph =  0.6 epoch =  150\n",
            "Train Accuracy :  0.7555555555555555\n",
            "Validation Accuracy :  0.7\n",
            "Test Accuracy :  0.7\n",
            "--------------------------------------------------\n",
            "Alph =  0.6 epoch =  170\n",
            "Train Accuracy :  0.7444444444444445\n",
            "Validation Accuracy :  0.7\n",
            "Test Accuracy :  0.7\n",
            "--------------------------------------------------\n",
            "Alph =  0.6 epoch =  280\n",
            "Train Accuracy :  0.7333333333333333\n",
            "Validation Accuracy :  0.6666666666666666\n",
            "Test Accuracy :  0.7\n",
            "--------------------------------------------------\n",
            "Alph =  0.6 epoch =  300\n",
            "Train Accuracy :  0.7333333333333333\n",
            "Validation Accuracy :  0.6666666666666666\n",
            "Test Accuracy :  0.7\n",
            "--------------------------------------------------\n"
          ]
        }
      ]
    },
    {
      "cell_type": "code",
      "metadata": {
        "colab": {
          "base_uri": "https://localhost:8080/",
          "height": 279
        },
        "id": "Js6FsuG6tv_Q",
        "outputId": "559ac5a7-d6f3-4d6a-9ec4-50c4d1689261"
      },
      "source": [
        "plt.plot(epochs, test_mse, '-o', label='Test')\n",
        "plt.plot(epochs, train_mse, '-o', label='Train')\n",
        "plt.xlabel(\"Number of epochs\")\n",
        "plt.ylabel(\"MSE\")\n",
        "plt.legend()\n",
        "plt.show()\n",
        "# pyplot.show()\n"
      ],
      "execution_count": null,
      "outputs": [
        {
          "output_type": "display_data",
          "data": {
            "image/png": "[encoded data removed]",
            "text/plain": [
              "<Figure size 432x288 with 1 Axes>"
            ]
          },
          "metadata": {
            "needs_background": "light"
          }
        }
      ]
    },
    {
      "cell_type": "code",
      "metadata": {
        "colab": {
          "base_uri": "https://localhost:8080/",
          "height": 279
        },
        "id": "eV2w_t4Uri9t",
        "outputId": "04261786-8748-4044-9f49-7d15978be1f6"
      },
      "source": [
        "plt.plot(epochs, test_accuracy, '-o', label='Test')\n",
        "plt.plot(epochs, train_accuracy, '-o', label='Train')\n",
        "plt.xlabel(\"Number of epochs\")\n",
        "plt.ylabel(\"accuracy\")\n",
        "plt.legend()\n",
        "plt.show()\n"
      ],
      "execution_count": null,
      "outputs": [
        {
          "output_type": "display_data",
          "data": {
            "image/png": "[encoded data removed]",
            "text/plain": [
              "<Figure size 432x288 with 1 Axes>"
            ]
          },
          "metadata": {
            "needs_background": "light"
          }
        }
      ]
    },
    {
      "cell_type": "code",
      "metadata": {
        "colab": {
          "base_uri": "https://localhost:8080/",
          "height": 281
        },
        "id": "6cwMPFHVxYzV",
        "outputId": "5e6154c9-2685-4596-80e1-199fb171174f"
      },
      "source": [
        "plt.plot(epochs, validation_accuracy, '-o', label='Validation')\n",
        "plt.plot(epochs, train_accuracy, '-o', label='Train')\n",
        "plt.xlabel(\"Number of epochs\")\n",
        "plt.ylabel(\"accuracy\")\n",
        "plt.legend()\n",
        "plt.show()\n"
      ],
      "execution_count": null,
      "outputs": [
        {
          "output_type": "display_data",
          "data": {
            "image/png": "[encoded data removed]",
            "text/plain": [
              "<Figure size 432x288 with 1 Axes>"
            ]
          },
          "metadata": {
            "needs_background": "light"
          }
        }
      ]
    },
    {
      "cell_type": "markdown",
      "metadata": {
        "id": "D7SVfMWlw_0o"
      },
      "source": [
        "### **c.\tFinally report class-wise precision, recall, accuracy and overall accuracy considering 5-fold cross validation.**"
      ]
    },
    {
      "cell_type": "code",
      "metadata": {
        "id": "I-4v_oPqv7z1"
      },
      "source": [
        "def kfold_cv(X, Y, fs = 5, epoch = 100, alpha = 0.5):\n",
        "  X, Y = shuffle(X, Y)\n",
        "  fold_size = fs\n",
        "  strtfdKFold = StratifiedKFold(n_splits=fold_size)\n",
        "  kfold = strtfdKFold.split(X, Y)\n",
        "  scores = []\n",
        "  e = epoch\n",
        "  a = alpha\n",
        "  total_cost = 0\n",
        "  for k, (train, test) in enumerate(kfold):\n",
        "    print(\"-\"*20, \"KFold - \",k +1,  \"-\"*20)\n",
        "    x_ftrain, y_ftrain = X[train], Y[train]\n",
        "    x_ftest, y_ftest = X[test], Y[test]\n",
        "    encoder = OneHotEncoder(sparse=False)\n",
        "    # transform data\n",
        "    y_ftrain = encoder.fit_transform(np.reshape(y_ftrain, (-1, 1)))\n",
        "    y_ftest =  encoder.fit_transform(np.reshape(y_ftest, (-1, 1)))\n",
        "    weights, cost_list, epochs_list, mse = SLP(x_ftrain, y_ftrain, e, a)\n",
        "    test_mse = cost_mse(weights, x_ftest,  y_ftest)\n",
        "    print(\"Test cost[Error] :\", test_mse)\n",
        "    total_cost += test_mse\n",
        "    y_pred_test = slp_predict(weights, x_ftest)\n",
        "    y_pred_test_inverse = encoder.inverse_transform(y_pred_test)\n",
        "    y_actual_test_inverse = encoder.inverse_transform(y_ftest)\n",
        "    print('Confusion Matrix : \\n' + str(confusion_matrix(y_actual_test_inverse, y_pred_test_inverse)))\n",
        "    # print('Confusion Matrix For Test Data set : \\n')\n",
        "    # cm = confusion_matrix(y_actual_test_inverse, y_pred_test_inverse)\n",
        "    # plt.figure(figsize = (10,7))\n",
        "    # # cmap= \"Greens_r\"\n",
        "    # # cmap= \"OrRd_r\"\n",
        "    # # cmap= \"OrRd\"\n",
        "    # sn.heatmap(cm, annot=True,cmap=\"Greens_r\")\n",
        "    print(\"Classification Report for 3-classes: \")\n",
        "    print(classification_report(y_ftest, y_pred_test))\n",
        "    accuracy_test = accuracy_score(y_ftest, y_pred_test)\n",
        "    print(\"Overall Test Accuracy: \", accuracy_test)\n",
        "  print(\"-----------------Done Kfold----------------\")    \n",
        "  print(\"Total Cost [Errors]\", total_cost/fold_size)    \n"
      ],
      "execution_count": null,
      "outputs": []
    },
    {
      "cell_type": "code",
      "metadata": {
        "colab": {
          "base_uri": "https://localhost:8080/"
        },
        "id": "RZq_Uit8x8JZ",
        "outputId": "0f6362a4-f4bd-4f2a-e46c-ab6d6b44176e"
      },
      "source": [
        "kfold_cv(X, Y, 5, 150, 0.6)"
      ],
      "execution_count": null,
      "outputs": [
        {
          "output_type": "stream",
          "name": "stdout",
          "text": [
            "-------------------- KFold -  1 --------------------\n",
            "Test cost[Error] : 0.0491949675680886\n",
            "Confusion Matrix : \n",
            "[[10  0  0]\n",
            " [ 4  6  0]\n",
            " [ 0  2  8]]\n",
            "Classification Report for 3-classes: \n",
            "              precision    recall  f1-score   support\n",
            "\n",
            "           0       1.00      1.00      1.00        10\n",
            "           1       0.75      0.60      0.67        10\n",
            "           2       0.91      1.00      0.95        10\n",
            "\n",
            "   micro avg       0.90      0.87      0.88        30\n",
            "   macro avg       0.89      0.87      0.87        30\n",
            "weighted avg       0.89      0.87      0.87        30\n",
            " samples avg       0.82      0.87      0.83        30\n",
            "\n",
            "Overall Test Accuracy:  0.7666666666666667\n",
            "-------------------- KFold -  2 --------------------\n"
          ]
        },
        {
          "output_type": "stream",
          "name": "stderr",
          "text": [
            "/usr/local/lib/python3.7/dist-packages/sklearn/metrics/_classification.py:1272: UndefinedMetricWarning: Precision and F-score are ill-defined and being set to 0.0 in samples with no predicted labels. Use `zero_division` parameter to control this behavior.\n",
            "  _warn_prf(average, modifier, msg_start, len(result))\n"
          ]
        },
        {
          "output_type": "stream",
          "name": "stdout",
          "text": [
            "Test cost[Error] : 0.05732596198027069\n",
            "Confusion Matrix : \n",
            "[[10  0  0]\n",
            " [ 5  4  1]\n",
            " [ 0  5  5]]\n",
            "Classification Report for 3-classes: \n",
            "              precision    recall  f1-score   support\n",
            "\n",
            "           0       1.00      1.00      1.00        10\n",
            "           1       0.44      0.40      0.42        10\n",
            "           2       0.91      1.00      0.95        10\n",
            "\n",
            "   micro avg       0.80      0.80      0.80        30\n",
            "   macro avg       0.78      0.80      0.79        30\n",
            "weighted avg       0.78      0.80      0.79        30\n",
            " samples avg       0.72      0.80      0.74        30\n",
            "\n",
            "Overall Test Accuracy:  0.6333333333333333\n",
            "-------------------- KFold -  3 --------------------\n"
          ]
        },
        {
          "output_type": "stream",
          "name": "stderr",
          "text": [
            "/usr/local/lib/python3.7/dist-packages/sklearn/metrics/_classification.py:1272: UndefinedMetricWarning: Precision and F-score are ill-defined and being set to 0.0 in samples with no predicted labels. Use `zero_division` parameter to control this behavior.\n",
            "  _warn_prf(average, modifier, msg_start, len(result))\n"
          ]
        },
        {
          "output_type": "stream",
          "name": "stdout",
          "text": [
            "Test cost[Error] : 0.0473208862449608\n",
            "Confusion Matrix : \n",
            "[[10  0  0]\n",
            " [ 4  6  0]\n",
            " [ 0  2  8]]\n",
            "Classification Report for 3-classes: \n",
            "              precision    recall  f1-score   support\n",
            "\n",
            "           0       1.00      1.00      1.00        10\n",
            "           1       0.75      0.60      0.67        10\n",
            "           2       1.00      0.90      0.95        10\n",
            "\n",
            "   micro avg       0.93      0.83      0.88        30\n",
            "   macro avg       0.92      0.83      0.87        30\n",
            "weighted avg       0.92      0.83      0.87        30\n",
            " samples avg       0.82      0.83      0.82        30\n",
            "\n",
            "Overall Test Accuracy:  0.8\n",
            "-------------------- KFold -  4 --------------------\n"
          ]
        },
        {
          "output_type": "stream",
          "name": "stderr",
          "text": [
            "/usr/local/lib/python3.7/dist-packages/sklearn/metrics/_classification.py:1272: UndefinedMetricWarning: Precision and F-score are ill-defined and being set to 0.0 in samples with no predicted labels. Use `zero_division` parameter to control this behavior.\n",
            "  _warn_prf(average, modifier, msg_start, len(result))\n"
          ]
        },
        {
          "output_type": "stream",
          "name": "stdout",
          "text": [
            "Test cost[Error] : 0.043341802540784784\n",
            "Confusion Matrix : \n",
            "[[10  0  0]\n",
            " [ 3  7  0]\n",
            " [ 0  2  8]]\n",
            "Classification Report for 3-classes: \n",
            "              precision    recall  f1-score   support\n",
            "\n",
            "           0       1.00      1.00      1.00        10\n",
            "           1       0.70      0.70      0.70        10\n",
            "           2       0.91      1.00      0.95        10\n",
            "\n",
            "   micro avg       0.87      0.90      0.89        30\n",
            "   macro avg       0.87      0.90      0.88        30\n",
            "weighted avg       0.87      0.90      0.88        30\n",
            " samples avg       0.83      0.90      0.86        30\n",
            "\n",
            "Overall Test Accuracy:  0.7666666666666667\n",
            "-------------------- KFold -  5 --------------------\n"
          ]
        },
        {
          "output_type": "stream",
          "name": "stderr",
          "text": [
            "/usr/local/lib/python3.7/dist-packages/sklearn/metrics/_classification.py:1272: UndefinedMetricWarning: Precision and F-score are ill-defined and being set to 0.0 in samples with no predicted labels. Use `zero_division` parameter to control this behavior.\n",
            "  _warn_prf(average, modifier, msg_start, len(result))\n"
          ]
        },
        {
          "output_type": "stream",
          "name": "stdout",
          "text": [
            "Test cost[Error] : 0.05481142444043618\n",
            "Confusion Matrix : \n",
            "[[10  0  0]\n",
            " [ 3  7  0]\n",
            " [ 0  5  5]]\n",
            "Classification Report for 3-classes: \n",
            "              precision    recall  f1-score   support\n",
            "\n",
            "           0       1.00      1.00      1.00        10\n",
            "           1       0.58      0.70      0.64        10\n",
            "           2       1.00      1.00      1.00        10\n",
            "\n",
            "   micro avg       0.84      0.90      0.87        30\n",
            "   macro avg       0.86      0.90      0.88        30\n",
            "weighted avg       0.86      0.90      0.88        30\n",
            " samples avg       0.82      0.90      0.84        30\n",
            "\n",
            "Overall Test Accuracy:  0.7333333333333333\n",
            "-----------------Done Kfold----------------\n",
            "Total Cost [Errors] 0.05039900855490821\n"
          ]
        },
        {
          "output_type": "stream",
          "name": "stderr",
          "text": [
            "/usr/local/lib/python3.7/dist-packages/sklearn/metrics/_classification.py:1272: UndefinedMetricWarning: Precision and F-score are ill-defined and being set to 0.0 in samples with no predicted labels. Use `zero_division` parameter to control this behavior.\n",
            "  _warn_prf(average, modifier, msg_start, len(result))\n"
          ]
        }
      ]
    }
  ]
}