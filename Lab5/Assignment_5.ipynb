{
  "nbformat": 4,
  "nbformat_minor": 0,
  "metadata": {
    "colab": {
      "name": "Assignment_5.ipynb",
      "provenance": [],
      "collapsed_sections": [],
      "authorship_tag": "ABX9TyN288eFFa7+jKHvYbK2D67X",
      "include_colab_link": true
    },
    "kernelspec": {
      "name": "python3",
      "display_name": "Python 3"
    },
    "language_info": {
      "name": "python"
    }
  },
  "cells": [
    {
      "cell_type": "markdown",
      "metadata": {
        "id": "view-in-github",
        "colab_type": "text"
      },
      "source": [
        "<a href=\"https://colab.research.google.com/github/shivam-cse/CS-306-Machine-Learning-Work/blob/main/Lab5/Assignment_5.ipynb\" target=\"_parent\"><img src=\"https://colab.research.google.com/assets/colab-badge.svg\" alt=\"Open In Colab\"/></a>"
      ]
    },
    {
      "cell_type": "code",
      "metadata": {
        "id": "5-UFFd55KcOL"
      },
      "source": [
        "from sklearn import datasets\n",
        "data = datasets.load_boston(return_X_y=False)\n",
        "data = data['data']\n",
        "\n",
        "data"
      ],
      "execution_count": null,
      "outputs": []
    },
    {
      "cell_type": "code",
      "metadata": {
        "id": "8jOQrnujPaG-"
      },
      "source": [
        "import numpy as np\n",
        "import matplotlib.pyplot as plt \n",
        "\n",
        "import pandas as pd \n",
        "from sklearn.datasets import load_boston\n",
        "boston_dataset = load_boston()\n",
        "\n",
        "boston = pd.DataFrame(boston_dataset.data, columns=boston_dataset.feature_names)\n",
        "boston.head()\n"
      ],
      "execution_count": null,
      "outputs": []
    },
    {
      "cell_type": "code",
      "metadata": {
        "id": "5dGVoaDrQnAZ"
      },
      "source": [
        "boston['MEDV'] = boston_dataset.target   #target: prices of the house\n",
        "boston.isnull().sum()\n",
        "X = pd.DataFrame(np.c_[boston['LSTAT']], columns = ['LSTAT'])\n",
        "Y = boston['MEDV']"
      ],
      "execution_count": null,
      "outputs": []
    },
    {
      "cell_type": "code",
      "metadata": {
        "id": "-jNnUyBdRh83"
      },
      "source": [
        "max = X['LSTAT'].max()\n",
        "X = X/max"
      ],
      "execution_count": null,
      "outputs": []
    },
    {
      "cell_type": "code",
      "metadata": {
        "id": "96fKE9QATeaC"
      },
      "source": [
        "from sklearn.model_selection import train_test_split\n",
        "import numpy as np\n",
        "X_train, x_rem, Y_train, y_rem = train_test_split(X, Y, test_size=0.7)\n",
        "X_valid, X_test, Y_valid,  Y_test = train_test_split(x_rem, y_rem,  test_size=0.67)"
      ],
      "execution_count": null,
      "outputs": []
    },
    {
      "cell_type": "code",
      "metadata": {
        "id": "nOq1KgD_VF9S"
      },
      "source": [
        "\n",
        "# // Gradient Descent\n",
        "def gradient_descent_batch(x_train, y_train, w0, w1, lr):\n",
        "  jw = 0\n",
        "  h = list()\n",
        "  for x, y_actual in zip(x_train, y_train): #step 2\n",
        "    val = w0 + w1*x\n",
        "    val = val - y_actual\n",
        "    h.append(val)\n",
        "    jw += pow(val, 2)\n",
        "  \n",
        "  jw = jw/(2*len(x_train))  #step 3\n",
        "  sum1= 0    \n",
        "  for s in h:      #Step 4 Updation\n",
        "    sum1 += s\n",
        "  w0 = w0 - ((lr)*sum1)/len(x_train)\n",
        "\n",
        "  sum1 = 0\n",
        "  for s, x in zip(h, x_train):\n",
        "    sum1 += s*x     \n",
        "  w1 = w1 - (lr*sum1)/len(x_train) \n",
        "\n",
        "  return w0, w1 , jw\n",
        "\n",
        "\n",
        "w0 = 2; w1 = 0; lr = 0.3\n",
        "print(w0, \" \", w1, \" \", 0)\n",
        "for i in range(100):\n",
        "  w0, w1, jw = gradient_descent_batch(X_train.values, Y_train, w0, w1, lr)\n",
        "  print(w0, \" \", w1, \" \", jw)\n",
        "  \n"
      ],
      "execution_count": null,
      "outputs": []
    },
    {
      "cell_type": "code",
      "metadata": {
        "id": "l4IhdWAvXWCT"
      },
      "source": [
        "alpha = [0.1, 0.01, 0.02, 0.03, 0.001]\n",
        "rho = [0.5, 0.6, 0.7, 0.8, 0.9]\n",
        "epochs = [10, 20, 30, 40, 50]\n",
        "mse_values = list()\n",
        "for a, r, e in zip(alpha, rho, epochs):\n",
        "  print(\"Alpha = \", a, \"Epochs = \", e)\n",
        "  w0 = 0; w1 = 2\n",
        "  for i in range(e):\n",
        "    w0, w1, jw = gradient_descent_batch(X_valid.values, Y_valid, w0, w1, a)\n",
        "  print(w0, \" \", w1, \" \", jw)\n",
        "  mse_values.append(jw)\n",
        "\n",
        "\n",
        "  # plot_regression_line(x, w0, w1)"
      ],
      "execution_count": null,
      "outputs": []
    },
    {
      "cell_type": "code",
      "metadata": {
        "id": "743dYK2ja-_r"
      },
      "source": [
        "# Python program to demonstrate\n",
        "# writing to CSV\n",
        "\n",
        "\n",
        "import csv\n",
        "\t\n",
        "# field names\n",
        "fields = ['MSE']\n",
        "\t\n",
        "# data rows of csv file\n",
        "# for mse in mse_values:\n",
        "#    rows = [[mse]]\n",
        "\t\n",
        "# name of csv file\n",
        "filename = \"records.csv\"\n",
        "\t\n",
        "# writing to csv file\n",
        "with open(filename, 'w') as csvfile:\n",
        "\t# creating a csv writer object\n",
        "\tcsvwriter = csv.writer(csvfile)\n",
        "\t\t\n",
        "\t# writing the fields\n",
        "\tcsvwriter.writerow(fields)\n",
        "\t\t\n",
        "\t# writing the data rows\n",
        "\tcsvwriter.writerows(mse_values)\n"
      ],
      "execution_count": null,
      "outputs": []
    },
    {
      "cell_type": "code",
      "metadata": {
        "colab": {
          "base_uri": "https://localhost:8080/"
        },
        "id": "t-v1A2avcJ6I",
        "outputId": "45406fdd-7924-4482-fdd5-81655cacefda"
      },
      "source": [
        "alpha = 0.03\n",
        "epochs = 40\n",
        "mse_values = list()\n",
        "w0 = 0; w1 = 2\n",
        "for i in range(epochs):\n",
        "  w0, w1, jw = gradient_descent_batch(X_train.values, Y_train, w0, w1, alpha)\n",
        "print(w0, \" \", w1, \" \", jw)\n",
        "mse_values.append(jw)\n",
        "\n",
        "for i in range(epochs):\n",
        "  w0, w1, jw = gradient_descent_batch(X_test.values, Y_test, w0, w1, alpha)\n",
        "print(w0, \" \", w1, \" \", jw)\n",
        "mse_values.append(jw)\n",
        "\n",
        "for i in range(epochs):\n",
        "  w0, w1, jw = gradient_descent_batch(X_valid.values, Y_valid, w0, w1, alpha)\n",
        "print(w0, \" \", w1, \" \", jw)\n",
        "mse_values.append(jw)\n"
      ],
      "execution_count": null,
      "outputs": [
        {
          "output_type": "stream",
          "name": "stdout",
          "text": [
            "[14.29289934]   [5.2581081]   [60.06635067]\n",
            "[18.88042042]   [5.12982732]   [46.20596412]\n",
            "[21.0620336]   [3.76145751]   [65.79161575]\n"
          ]
        }
      ]
    },
    {
      "cell_type": "code",
      "metadata": {
        "id": "uLozCw-xdhYb"
      },
      "source": [
        "\n",
        "# Python program to demonstrate\n",
        "# writing to CSV\n",
        "import csv\n",
        "\t\n",
        "# field names\n",
        "fields = ['MSE']\n",
        "\t\n",
        "# data rows of csv file\n",
        "# for mse in mse_values:\n",
        "#    rows = [[mse]]\n",
        "\t\n",
        "# name of csv file\n",
        "filename = \"records2.csv\"\n",
        "\t\n",
        "# writing to csv file\n",
        "with open(filename, 'w') as csvfile:\n",
        "\t# creating a csv writer object\n",
        "\tcsvwriter = csv.writer(csvfile)\n",
        "\t\t\n",
        "\t# writing the fields\n",
        "\tcsvwriter.writerow(fields)\n",
        "\t\t\n",
        "\t# writing the data rows\n",
        "\tcsvwriter.writerows(mse_values)\n"
      ],
      "execution_count": null,
      "outputs": []
    },
    {
      "cell_type": "code",
      "metadata": {
        "colab": {
          "base_uri": "https://localhost:8080/",
          "height": 295
        },
        "id": "aFYBTdv3d0yQ",
        "outputId": "af59bb49-ca8d-4845-80bf-f0afaff04672"
      },
      "source": [
        "import matplotlib.pyplot as plt\n",
        "\n",
        "mse_values = list()\n",
        "epochs_values = list()\n",
        "lr = 0.03\n",
        "w0 = 0; w1 = 2\n",
        "for i in range(100):\n",
        "  w0, w1, jw = gradient_descent_batch(X_train.values, y_train, w0, w1, lr)\n",
        "  mse_values.append(jw)\n",
        "  epochs_values.append(i)\n",
        "  # print(jw)\n",
        "\n",
        "plt.plot(epochs_values, mse_values)\n",
        "plt.xlabel('Epochs')\n",
        "plt.ylabel('MSE')\n",
        "plt.title(\"MSE Vs epochs\")\n",
        "plt.show()\n",
        "\n"
      ],
      "execution_count": null,
      "outputs": [
        {
          "output_type": "display_data",
          "data": {
            "image/png": "[encoded data removed]",
            "text/plain": [
              "<Figure size 432x288 with 1 Axes>"
            ]
          },
          "metadata": {
            "needs_background": "light"
          }
        }
      ]
    }
  ]
}